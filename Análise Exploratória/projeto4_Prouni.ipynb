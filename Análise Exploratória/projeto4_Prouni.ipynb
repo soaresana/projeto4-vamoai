{
  "nbformat": 4,
  "nbformat_minor": 0,
  "metadata": {
    "colab": {
      "name": "projeto4-Prouni.ipynb",
      "provenance": []
    },
    "kernelspec": {
      "name": "python3",
      "display_name": "Python 3"
    },
    "language_info": {
      "name": "python"
    }
  },
  "cells": [
    {
      "cell_type": "markdown",
      "metadata": {
        "id": "lWxQOXU11BV9"
      },
      "source": [
        "##### **Projeto 4 - Vamo AI - Resilia + iFood**\n",
        "\n",
        "_Grupo:_ \n",
        "\n",
        "*   Ana Luiza Soares\n",
        "*   Jênnifer Stéfani\n",
        "*   Ramon Brito\n",
        "\n",
        "# Acesso dos grupos minoritários ao ensino superior através do Prouni\n",
        "\n",
        "Neste _notebook_ apresentamos a análise exploratória realizada com dados sobre cursos e notas de corte do Prouni 2018, e com os dados abertos do Prouni dos anos de 2005 à 2018.O objetivo desse projeto é analisar o ingresso de estudantes minoritários ao ensino superior ao longo dos anos do programa, e verificar as taxas percentuais de ingresso desses grupos no ano de 2018.\n",
        "\n",
        "Para mais informações sobre as bases de dados utilizadas, documentação desse projeto ou visualização dos dados via Tableau, acesse nosso [repositório](https://github.com/soaresana/projeto4-vamoai) no GitHub.\n",
        "\n",
        "---------------------------\n",
        "\n",
        "Nossa análise exploratória está estruturada da seguinte forma:\n",
        "\n",
        "\n",
        "\n",
        "1.   **Prouni 2018 - Cursos e Nota de corte**  \n",
        "  A.   Importando a base de dados  \n",
        "  B.   Explorando a base de dados  \n",
        "  C.   Visualização dos dados\n",
        "\n",
        "\n",
        "2.   **Prouni 2005 à 2018 - Bolsas e perfil dos beneficiários**  \n",
        "  A.   Tratamento da base de dados  \n",
        "  B.   Explorando a base de dados  \n",
        "  C.   Visualização dos dados \n",
        "\n",
        "3. **Referências**\n",
        "\n",
        "\n",
        "\n"
      ]
    },
    {
      "cell_type": "markdown",
      "metadata": {
        "id": "FLUbuyiP5cJ8"
      },
      "source": [
        "### Bibliotecas"
      ]
    },
    {
      "cell_type": "code",
      "metadata": {
        "id": "4rd2kicF5VNd"
      },
      "source": [
        "import pandas as pd\n",
        "import matplotlib.pyplot as plt\n",
        "import matplotlib as mpl\n",
        "import seaborn as sns\n",
        "import datetime as dt\n",
        "import zipfile \n",
        "from google.colab import files"
      ],
      "execution_count": 55,
      "outputs": []
    },
    {
      "cell_type": "markdown",
      "metadata": {
        "id": "0YnVNnmB53zk"
      },
      "source": [
        "# Prouni 2018\n",
        "\n",
        "Importando a base de dados principal, com informações dos cursos e das notas de corte do Prouni 2018. \n",
        "\n",
        "*   Cursos e notas de corte do Prouni 2018\n",
        "\n",
        "\n"
      ]
    },
    {
      "cell_type": "code",
      "metadata": {
        "id": "rgtUDTsg6f8-"
      },
      "source": [
        "prouni = pd.read_csv('/content/drive/MyDrive/DadosProuni/cursos-prouni.csv')"
      ],
      "execution_count": 56,
      "outputs": []
    },
    {
      "cell_type": "markdown",
      "metadata": {
        "id": "zLEBlonS6-Tn"
      },
      "source": [
        "## 1.1 Tratando base de dados principal"
      ]
    },
    {
      "cell_type": "code",
      "metadata": {
        "colab": {
          "base_uri": "https://localhost:8080/"
        },
        "id": "f80eYwpZ6tCo",
        "outputId": "65ee6834-ce78-4d4b-81aa-cf7ad6f28199"
      },
      "source": [
        "prouni.columns"
      ],
      "execution_count": 57,
      "outputs": [
        {
          "output_type": "execute_result",
          "data": {
            "text/plain": [
              "Index(['grau', 'turno', 'mensalidade', 'bolsa_integral_cotas',\n",
              "       'bolsa_integral_ampla', 'bolsa_parcial_cotas', 'bolsa_parcial_ampla',\n",
              "       'curso_id', 'curso_busca', 'cidade_busca', 'uf_busca', 'cidade_filtro',\n",
              "       'universidade_nome', 'campus_nome', 'campus_id', 'nome',\n",
              "       'nota_integral_ampla', 'nota_integral_cotas', 'nota_parcial_ampla',\n",
              "       'nota_parcial_cotas'],\n",
              "      dtype='object')"
            ]
          },
          "metadata": {
            "tags": []
          },
          "execution_count": 57
        }
      ]
    },
    {
      "cell_type": "code",
      "metadata": {
        "id": "6ykGjE126t2S"
      },
      "source": [
        "colunas = ['grau', 'turno', 'mensalidade', 'bolsa_integral_cotas','bolsa_integral_ampla', 'bolsa_parcial_cotas', 'bolsa_parcial_ampla',\n",
        "            'cidade_busca', 'uf_busca','universidade_nome', 'campus_nome', 'nome', 'nota_integral_ampla', 'nota_integral_cotas',\n",
        "           'nota_parcial_ampla', 'nota_parcial_cotas']"
      ],
      "execution_count": 58,
      "outputs": []
    },
    {
      "cell_type": "code",
      "metadata": {
        "id": "5PRXVIRT6tzW"
      },
      "source": [
        "tipo_prouni ={'grau': 'category', 'turno':'category', 'mensalidade':'float64', 'bolsa_integral_cotas': 'float64','bolsa_integral_ampla':'float64',\n",
        "              'bolsa_parcial_cotas':'float64', 'bolsa_parcial_ampla':'float64','cidade_busca':'category', 'uf_busca':'category','universidade_nome':'category',\n",
        "              'campus_nome':'category', 'nome':'category', 'nota_integral_ampla':'float64', 'nota_integral_cotas':'float64',\n",
        "           'nota_parcial_ampla':'float64', 'nota_parcial_cotas':'float64'}"
      ],
      "execution_count": 59,
      "outputs": []
    },
    {
      "cell_type": "code",
      "metadata": {
        "id": "pTLvdVdM6tth"
      },
      "source": [
        "# importando os dados com colunas e tipos selecionados\n",
        "prouni = pd.read_csv('/content/drive/MyDrive/DadosProuni/cursos-prouni.csv', usecols= colunas, dtype= tipo_prouni)"
      ],
      "execution_count": 60,
      "outputs": []
    },
    {
      "cell_type": "code",
      "metadata": {
        "id": "fXk5XEi18zLF"
      },
      "source": [
        "prouni['bolsa_integral_cotas'].fillna(0, inplace=True)\n",
        "prouni['bolsa_integral_ampla'].fillna(0, inplace=True)\n",
        "prouni['bolsa_parcial_cotas'].fillna(0, inplace=True)\n",
        "prouni['bolsa_parcial_ampla'].fillna(0, inplace=True)\n",
        "prouni['nota_integral_ampla'].fillna(0, inplace=True)\n",
        "prouni['nota_integral_cotas'].fillna(0, inplace=True)\n",
        "prouni['nota_parcial_ampla'].fillna(0, inplace=True)\n",
        "prouni['nota_parcial_cotas'].fillna(0, inplace=True)"
      ],
      "execution_count": 61,
      "outputs": []
    },
    {
      "cell_type": "code",
      "metadata": {
        "id": "Gh7cwXJl-Ddo"
      },
      "source": [
        "prouni.insert(9, 'regiao', prouni['uf_busca'])"
      ],
      "execution_count": 62,
      "outputs": []
    },
    {
      "cell_type": "code",
      "metadata": {
        "id": "iBrxxo0p-ELC"
      },
      "source": [
        "prouni['regiao'].replace(['RS','PR','SC'],'Sul', inplace=True)\n",
        "prouni['regiao'].replace(['SP','MG','RJ','ES'],'Sudeste',inplace=True)\n",
        "prouni['regiao'].replace(['MT','MS','GO','DF'],'Centro-Oeste',inplace=True)\n",
        "prouni['regiao'].replace(['RR','AM','AC','RO','AP','TO','PA'],'Norte',inplace=True)\n",
        "prouni['regiao'].replace(['BA','PE','RN','CE','AL','SE','PB','PI','MA'], 'Nordeste',inplace=True)"
      ],
      "execution_count": 63,
      "outputs": []
    },
    {
      "cell_type": "code",
      "metadata": {
        "id": "5SsO4aOR-FzD"
      },
      "source": [
        "prouni['regiao'] = prouni['regiao'].astype('category')\n",
        "prouni['bolsa_integral_cotas'] = prouni['bolsa_integral_cotas'].astype('int64')\n",
        "prouni['bolsa_integral_ampla'] = prouni['bolsa_integral_ampla'].astype('int64')\n",
        "prouni['bolsa_parcial_cotas'] = prouni['bolsa_parcial_cotas'].astype('int64')\n",
        "prouni['bolsa_parcial_ampla'] = prouni['bolsa_parcial_ampla'].astype('int64')"
      ],
      "execution_count": 64,
      "outputs": []
    },
    {
      "cell_type": "code",
      "metadata": {
        "id": "gGvkyQFp-H03"
      },
      "source": [
        "prouni.rename(columns={'cidade_busca':'cidade', 'uf_busca':'UF','universidade_nome':'IES','campus_nome':'campus','nome':'curso'}, inplace=True)"
      ],
      "execution_count": 65,
      "outputs": []
    },
    {
      "cell_type": "code",
      "metadata": {
        "id": "-y4aqe5_-LOD"
      },
      "source": [
        "prouni.insert(2,'modalidade',prouni['turno'] )"
      ],
      "execution_count": 66,
      "outputs": []
    },
    {
      "cell_type": "code",
      "metadata": {
        "id": "q2Sc-8JU-M2L"
      },
      "source": [
        "prouni['modalidade'].replace(['Curso a Distância'],'EAD', inplace=True)\n",
        "prouni['modalidade'].replace(['Integral', 'Matutino', 'Noturno', 'Vespertino'],'Presencial',inplace=True) "
      ],
      "execution_count": 67,
      "outputs": []
    },
    {
      "cell_type": "code",
      "metadata": {
        "id": "3R9vH-Ol-OlZ"
      },
      "source": [
        "prouni['modalidade'] = prouni['modalidade'].astype('category')"
      ],
      "execution_count": 68,
      "outputs": []
    },
    {
      "cell_type": "code",
      "metadata": {
        "colab": {
          "base_uri": "https://localhost:8080/",
          "height": 462
        },
        "id": "nFX8ifaE-QLN",
        "outputId": "2b012162-6c12-4913-9b68-af887ebb86be"
      },
      "source": [
        "prouni.head()"
      ],
      "execution_count": 69,
      "outputs": [
        {
          "output_type": "execute_result",
          "data": {
            "text/html": [
              "<div>\n",
              "<style scoped>\n",
              "    .dataframe tbody tr th:only-of-type {\n",
              "        vertical-align: middle;\n",
              "    }\n",
              "\n",
              "    .dataframe tbody tr th {\n",
              "        vertical-align: top;\n",
              "    }\n",
              "\n",
              "    .dataframe thead th {\n",
              "        text-align: right;\n",
              "    }\n",
              "</style>\n",
              "<table border=\"1\" class=\"dataframe\">\n",
              "  <thead>\n",
              "    <tr style=\"text-align: right;\">\n",
              "      <th></th>\n",
              "      <th>grau</th>\n",
              "      <th>turno</th>\n",
              "      <th>modalidade</th>\n",
              "      <th>mensalidade</th>\n",
              "      <th>bolsa_integral_cotas</th>\n",
              "      <th>bolsa_integral_ampla</th>\n",
              "      <th>bolsa_parcial_cotas</th>\n",
              "      <th>bolsa_parcial_ampla</th>\n",
              "      <th>cidade</th>\n",
              "      <th>UF</th>\n",
              "      <th>regiao</th>\n",
              "      <th>IES</th>\n",
              "      <th>campus</th>\n",
              "      <th>curso</th>\n",
              "      <th>nota_integral_ampla</th>\n",
              "      <th>nota_integral_cotas</th>\n",
              "      <th>nota_parcial_ampla</th>\n",
              "      <th>nota_parcial_cotas</th>\n",
              "    </tr>\n",
              "  </thead>\n",
              "  <tbody>\n",
              "    <tr>\n",
              "      <th>0</th>\n",
              "      <td>Bacharelado</td>\n",
              "      <td>Integral</td>\n",
              "      <td>Presencial</td>\n",
              "      <td>9999.99</td>\n",
              "      <td>15</td>\n",
              "      <td>14</td>\n",
              "      <td>0</td>\n",
              "      <td>0</td>\n",
              "      <td>Campo Grande</td>\n",
              "      <td>MS</td>\n",
              "      <td>Centro-Oeste</td>\n",
              "      <td>Universidade Anhanguera - UNIDERP</td>\n",
              "      <td>CAMPO GRANDE - SEDE - Miguel Couto</td>\n",
              "      <td>Medicina</td>\n",
              "      <td>740.22</td>\n",
              "      <td>726.46</td>\n",
              "      <td>0.00</td>\n",
              "      <td>0.00</td>\n",
              "    </tr>\n",
              "    <tr>\n",
              "      <th>1</th>\n",
              "      <td>Bacharelado</td>\n",
              "      <td>Noturno</td>\n",
              "      <td>Presencial</td>\n",
              "      <td>9836.40</td>\n",
              "      <td>1</td>\n",
              "      <td>0</td>\n",
              "      <td>0</td>\n",
              "      <td>0</td>\n",
              "      <td>Crateus</td>\n",
              "      <td>CE</td>\n",
              "      <td>Nordeste</td>\n",
              "      <td>Faculdade Princesa do Oeste - FPO</td>\n",
              "      <td>UNIDADE SEDE - São Vicente</td>\n",
              "      <td>Enfermagem</td>\n",
              "      <td>663.36</td>\n",
              "      <td>0.00</td>\n",
              "      <td>0.00</td>\n",
              "      <td>0.00</td>\n",
              "    </tr>\n",
              "    <tr>\n",
              "      <th>2</th>\n",
              "      <td>Bacharelado</td>\n",
              "      <td>Integral</td>\n",
              "      <td>Presencial</td>\n",
              "      <td>9715.61</td>\n",
              "      <td>2</td>\n",
              "      <td>5</td>\n",
              "      <td>6</td>\n",
              "      <td>10</td>\n",
              "      <td>Sao Paulo</td>\n",
              "      <td>SP</td>\n",
              "      <td>Sudeste</td>\n",
              "      <td>Universidade Cidade de São Paulo - UNICID</td>\n",
              "      <td>UNIVERSIDADE CIDADE DE SÃO PAULO - UNICID - SE...</td>\n",
              "      <td>Medicina</td>\n",
              "      <td>739.62</td>\n",
              "      <td>738.08</td>\n",
              "      <td>738.96</td>\n",
              "      <td>718.64</td>\n",
              "    </tr>\n",
              "    <tr>\n",
              "      <th>3</th>\n",
              "      <td>Bacharelado</td>\n",
              "      <td>Noturno</td>\n",
              "      <td>Presencial</td>\n",
              "      <td>9689.34</td>\n",
              "      <td>3</td>\n",
              "      <td>2</td>\n",
              "      <td>0</td>\n",
              "      <td>0</td>\n",
              "      <td>Crateus</td>\n",
              "      <td>CE</td>\n",
              "      <td>Nordeste</td>\n",
              "      <td>Faculdade Princesa do Oeste - FPO</td>\n",
              "      <td>UNIDADE SEDE - São Vicente</td>\n",
              "      <td>Psicologia</td>\n",
              "      <td>651.00</td>\n",
              "      <td>652.22</td>\n",
              "      <td>0.00</td>\n",
              "      <td>0.00</td>\n",
              "    </tr>\n",
              "    <tr>\n",
              "      <th>4</th>\n",
              "      <td>Bacharelado</td>\n",
              "      <td>Integral</td>\n",
              "      <td>Presencial</td>\n",
              "      <td>9674.34</td>\n",
              "      <td>4</td>\n",
              "      <td>1</td>\n",
              "      <td>5</td>\n",
              "      <td>2</td>\n",
              "      <td>Rio Branco</td>\n",
              "      <td>AC</td>\n",
              "      <td>Norte</td>\n",
              "      <td>Faculdade Barão do Rio Branco - FAB</td>\n",
              "      <td>CAMPUS  - RIO BRANCO - JARDIM EUROPA II - Jard...</td>\n",
              "      <td>Medicina</td>\n",
              "      <td>758.32</td>\n",
              "      <td>723.94</td>\n",
              "      <td>734.92</td>\n",
              "      <td>711.26</td>\n",
              "    </tr>\n",
              "  </tbody>\n",
              "</table>\n",
              "</div>"
            ],
            "text/plain": [
              "          grau     turno  ... nota_parcial_ampla  nota_parcial_cotas\n",
              "0  Bacharelado  Integral  ...               0.00                0.00\n",
              "1  Bacharelado   Noturno  ...               0.00                0.00\n",
              "2  Bacharelado  Integral  ...             738.96              718.64\n",
              "3  Bacharelado   Noturno  ...               0.00                0.00\n",
              "4  Bacharelado  Integral  ...             734.92              711.26\n",
              "\n",
              "[5 rows x 18 columns]"
            ]
          },
          "metadata": {
            "tags": []
          },
          "execution_count": 69
        }
      ]
    },
    {
      "cell_type": "code",
      "metadata": {
        "colab": {
          "base_uri": "https://localhost:8080/"
        },
        "id": "zIHSybr5-gPC",
        "outputId": "d80cbb16-8954-4291-e75a-9a07ea173460"
      },
      "source": [
        "prouni.info()"
      ],
      "execution_count": 70,
      "outputs": [
        {
          "output_type": "stream",
          "text": [
            "<class 'pandas.core.frame.DataFrame'>\n",
            "RangeIndex: 41447 entries, 0 to 41446\n",
            "Data columns (total 18 columns):\n",
            " #   Column                Non-Null Count  Dtype   \n",
            "---  ------                --------------  -----   \n",
            " 0   grau                  41447 non-null  category\n",
            " 1   turno                 41447 non-null  category\n",
            " 2   modalidade            41447 non-null  category\n",
            " 3   mensalidade           41447 non-null  float64 \n",
            " 4   bolsa_integral_cotas  41447 non-null  int64   \n",
            " 5   bolsa_integral_ampla  41447 non-null  int64   \n",
            " 6   bolsa_parcial_cotas   41447 non-null  int64   \n",
            " 7   bolsa_parcial_ampla   41447 non-null  int64   \n",
            " 8   cidade                41447 non-null  category\n",
            " 9   UF                    41447 non-null  category\n",
            " 10  regiao                41447 non-null  category\n",
            " 11  IES                   41447 non-null  category\n",
            " 12  campus                41447 non-null  category\n",
            " 13  curso                 41447 non-null  category\n",
            " 14  nota_integral_ampla   41447 non-null  float64 \n",
            " 15  nota_integral_cotas   41447 non-null  float64 \n",
            " 16  nota_parcial_ampla    41447 non-null  float64 \n",
            " 17  nota_parcial_cotas    41447 non-null  float64 \n",
            "dtypes: category(9), float64(5), int64(4)\n",
            "memory usage: 3.7 MB\n"
          ],
          "name": "stdout"
        }
      ]
    },
    {
      "cell_type": "code",
      "metadata": {
        "colab": {
          "base_uri": "https://localhost:8080/",
          "height": 317
        },
        "id": "DeCvlN-J-gzu",
        "outputId": "252f8c91-f3b9-4120-800a-7bb8a6dac1f2"
      },
      "source": [
        "prouni.describe()"
      ],
      "execution_count": 71,
      "outputs": [
        {
          "output_type": "execute_result",
          "data": {
            "text/html": [
              "<div>\n",
              "<style scoped>\n",
              "    .dataframe tbody tr th:only-of-type {\n",
              "        vertical-align: middle;\n",
              "    }\n",
              "\n",
              "    .dataframe tbody tr th {\n",
              "        vertical-align: top;\n",
              "    }\n",
              "\n",
              "    .dataframe thead th {\n",
              "        text-align: right;\n",
              "    }\n",
              "</style>\n",
              "<table border=\"1\" class=\"dataframe\">\n",
              "  <thead>\n",
              "    <tr style=\"text-align: right;\">\n",
              "      <th></th>\n",
              "      <th>mensalidade</th>\n",
              "      <th>bolsa_integral_cotas</th>\n",
              "      <th>bolsa_integral_ampla</th>\n",
              "      <th>bolsa_parcial_cotas</th>\n",
              "      <th>bolsa_parcial_ampla</th>\n",
              "      <th>nota_integral_ampla</th>\n",
              "      <th>nota_integral_cotas</th>\n",
              "      <th>nota_parcial_ampla</th>\n",
              "      <th>nota_parcial_cotas</th>\n",
              "    </tr>\n",
              "  </thead>\n",
              "  <tbody>\n",
              "    <tr>\n",
              "      <th>count</th>\n",
              "      <td>41447.000000</td>\n",
              "      <td>41447.000000</td>\n",
              "      <td>41447.000000</td>\n",
              "      <td>41447.000000</td>\n",
              "      <td>41447.000000</td>\n",
              "      <td>41447.000000</td>\n",
              "      <td>41447.000000</td>\n",
              "      <td>41447.000000</td>\n",
              "      <td>41447.000000</td>\n",
              "    </tr>\n",
              "    <tr>\n",
              "      <th>mean</th>\n",
              "      <td>622.636966</td>\n",
              "      <td>1.204695</td>\n",
              "      <td>1.540618</td>\n",
              "      <td>0.398943</td>\n",
              "      <td>2.716168</td>\n",
              "      <td>451.925764</td>\n",
              "      <td>228.827957</td>\n",
              "      <td>208.094800</td>\n",
              "      <td>68.150221</td>\n",
              "    </tr>\n",
              "    <tr>\n",
              "      <th>std</th>\n",
              "      <td>606.442296</td>\n",
              "      <td>2.041299</td>\n",
              "      <td>2.662203</td>\n",
              "      <td>1.323131</td>\n",
              "      <td>11.057922</td>\n",
              "      <td>242.259732</td>\n",
              "      <td>279.577821</td>\n",
              "      <td>260.578954</td>\n",
              "      <td>175.113886</td>\n",
              "    </tr>\n",
              "    <tr>\n",
              "      <th>min</th>\n",
              "      <td>139.000000</td>\n",
              "      <td>0.000000</td>\n",
              "      <td>0.000000</td>\n",
              "      <td>0.000000</td>\n",
              "      <td>0.000000</td>\n",
              "      <td>0.000000</td>\n",
              "      <td>0.000000</td>\n",
              "      <td>0.000000</td>\n",
              "      <td>0.000000</td>\n",
              "    </tr>\n",
              "    <tr>\n",
              "      <th>25%</th>\n",
              "      <td>278.000000</td>\n",
              "      <td>0.000000</td>\n",
              "      <td>0.000000</td>\n",
              "      <td>0.000000</td>\n",
              "      <td>0.000000</td>\n",
              "      <td>450.000000</td>\n",
              "      <td>0.000000</td>\n",
              "      <td>0.000000</td>\n",
              "      <td>0.000000</td>\n",
              "    </tr>\n",
              "    <tr>\n",
              "      <th>50%</th>\n",
              "      <td>393.350000</td>\n",
              "      <td>1.000000</td>\n",
              "      <td>1.000000</td>\n",
              "      <td>0.000000</td>\n",
              "      <td>0.000000</td>\n",
              "      <td>562.760000</td>\n",
              "      <td>0.000000</td>\n",
              "      <td>0.000000</td>\n",
              "      <td>0.000000</td>\n",
              "    </tr>\n",
              "    <tr>\n",
              "      <th>75%</th>\n",
              "      <td>825.000000</td>\n",
              "      <td>2.000000</td>\n",
              "      <td>2.000000</td>\n",
              "      <td>0.000000</td>\n",
              "      <td>1.000000</td>\n",
              "      <td>604.200000</td>\n",
              "      <td>555.800000</td>\n",
              "      <td>503.570000</td>\n",
              "      <td>0.000000</td>\n",
              "    </tr>\n",
              "    <tr>\n",
              "      <th>max</th>\n",
              "      <td>9999.990000</td>\n",
              "      <td>58.000000</td>\n",
              "      <td>67.000000</td>\n",
              "      <td>74.000000</td>\n",
              "      <td>350.000000</td>\n",
              "      <td>781.200000</td>\n",
              "      <td>792.240000</td>\n",
              "      <td>776.360000</td>\n",
              "      <td>768.340000</td>\n",
              "    </tr>\n",
              "  </tbody>\n",
              "</table>\n",
              "</div>"
            ],
            "text/plain": [
              "        mensalidade  ...  nota_parcial_cotas\n",
              "count  41447.000000  ...        41447.000000\n",
              "mean     622.636966  ...           68.150221\n",
              "std      606.442296  ...          175.113886\n",
              "min      139.000000  ...            0.000000\n",
              "25%      278.000000  ...            0.000000\n",
              "50%      393.350000  ...            0.000000\n",
              "75%      825.000000  ...            0.000000\n",
              "max     9999.990000  ...          768.340000\n",
              "\n",
              "[8 rows x 9 columns]"
            ]
          },
          "metadata": {
            "tags": []
          },
          "execution_count": 71
        }
      ]
    },
    {
      "cell_type": "code",
      "metadata": {
        "id": "P6Kz4oT4-ZCi"
      },
      "source": [
        "# prouni.to_csv ('prouni.csv', index = None, header=True) \n",
        "# files.download('prouni.csv')"
      ],
      "execution_count": 72,
      "outputs": []
    },
    {
      "cell_type": "markdown",
      "metadata": {
        "id": "mhlocGVF-5aC"
      },
      "source": [
        "## 1.2 Explorando os Dados"
      ]
    },
    {
      "cell_type": "code",
      "metadata": {
        "colab": {
          "base_uri": "https://localhost:8080/"
        },
        "id": "gwoyZ_Xd-_ex",
        "outputId": "9e07d348-39ef-4b51-d878-7e911b892e21"
      },
      "source": [
        "prouni['grau'].value_counts(normalize=True)*100"
      ],
      "execution_count": 73,
      "outputs": [
        {
          "output_type": "execute_result",
          "data": {
            "text/plain": [
              "Bacharelado     46.239776\n",
              "Tecnológico     32.523464\n",
              "Licenciatura    21.236760\n",
              "Name: grau, dtype: float64"
            ]
          },
          "metadata": {
            "tags": []
          },
          "execution_count": 73
        }
      ]
    },
    {
      "cell_type": "code",
      "metadata": {
        "colab": {
          "base_uri": "https://localhost:8080/"
        },
        "id": "7qSQ2XBc_CxH",
        "outputId": "5122862e-f787-4886-b8c4-f101ce2b9691"
      },
      "source": [
        "prouni['modalidade'].value_counts(normalize=True)*100"
      ],
      "execution_count": 74,
      "outputs": [
        {
          "output_type": "execute_result",
          "data": {
            "text/plain": [
              "EAD           55.314015\n",
              "Presencial    44.685985\n",
              "Name: modalidade, dtype: float64"
            ]
          },
          "metadata": {
            "tags": []
          },
          "execution_count": 74
        }
      ]
    },
    {
      "cell_type": "code",
      "metadata": {
        "colab": {
          "base_uri": "https://localhost:8080/"
        },
        "id": "XuED9y6u_Cun",
        "outputId": "9b45c226-68e8-49de-a32a-d18e839b4b02"
      },
      "source": [
        "prouni['turno'].value_counts(normalize=True)*100"
      ],
      "execution_count": 75,
      "outputs": [
        {
          "output_type": "execute_result",
          "data": {
            "text/plain": [
              "Curso a Distância    55.314015\n",
              "Noturno              29.425531\n",
              "Matutino             12.485825\n",
              "Integral              1.544141\n",
              "Vespertino            1.230487\n",
              "Name: turno, dtype: float64"
            ]
          },
          "metadata": {
            "tags": []
          },
          "execution_count": 75
        }
      ]
    },
    {
      "cell_type": "code",
      "metadata": {
        "colab": {
          "base_uri": "https://localhost:8080/",
          "height": 665
        },
        "id": "snC0AnVs_CsW",
        "outputId": "34e630eb-3e5e-46da-b108-3f7cdd5b6b37"
      },
      "source": [
        "prouni['regiao'].value_counts().sort_values(ascending=False).plot(kind = 'bar',figsize=(8,10))"
      ],
      "execution_count": 76,
      "outputs": [
        {
          "output_type": "execute_result",
          "data": {
            "text/plain": [
              "<matplotlib.axes._subplots.AxesSubplot at 0x7f284cd9f550>"
            ]
          },
          "metadata": {
            "tags": []
          },
          "execution_count": 76
        },
        {
          "output_type": "display_data",
          "data": {
            "image/png": "[encoded data removed]",
            "text/plain": [
              "<Figure size 576x720 with 1 Axes>"
            ]
          },
          "metadata": {
            "tags": [],
            "needs_background": "light"
          }
        }
      ]
    },
    {
      "cell_type": "code",
      "metadata": {
        "colab": {
          "base_uri": "https://localhost:8080/"
        },
        "id": "RktM4Chl_RV3",
        "outputId": "c9f56b67-d253-40c2-8226-699f379fcc04"
      },
      "source": [
        "cursos_estados = prouni['UF']\n",
        "cursos_estados.value_counts().sort_values(ascending=False).head()"
      ],
      "execution_count": 77,
      "outputs": [
        {
          "output_type": "execute_result",
          "data": {
            "text/plain": [
              "SP    11533\n",
              "MG     4175\n",
              "PR     3918\n",
              "RS     3060\n",
              "BA     2505\n",
              "Name: UF, dtype: int64"
            ]
          },
          "metadata": {
            "tags": []
          },
          "execution_count": 77
        }
      ]
    },
    {
      "cell_type": "code",
      "metadata": {
        "colab": {
          "base_uri": "https://localhost:8080/",
          "height": 450
        },
        "id": "LpzV0VlXBy1s",
        "outputId": "bfb233fc-c19a-4313-db17-6759fdd99ffd"
      },
      "source": [
        "prouni.groupby('IES').agg({'IES':'count'})"
      ],
      "execution_count": 78,
      "outputs": [
        {
          "output_type": "execute_result",
          "data": {
            "text/html": [
              "<div>\n",
              "<style scoped>\n",
              "    .dataframe tbody tr th:only-of-type {\n",
              "        vertical-align: middle;\n",
              "    }\n",
              "\n",
              "    .dataframe tbody tr th {\n",
              "        vertical-align: top;\n",
              "    }\n",
              "\n",
              "    .dataframe thead th {\n",
              "        text-align: right;\n",
              "    }\n",
              "</style>\n",
              "<table border=\"1\" class=\"dataframe\">\n",
              "  <thead>\n",
              "    <tr style=\"text-align: right;\">\n",
              "      <th></th>\n",
              "      <th>IES</th>\n",
              "    </tr>\n",
              "    <tr>\n",
              "      <th>IES</th>\n",
              "      <th></th>\n",
              "    </tr>\n",
              "  </thead>\n",
              "  <tbody>\n",
              "    <tr>\n",
              "      <th>Alfa - Faculdade de Almenara</th>\n",
              "      <td>4</td>\n",
              "    </tr>\n",
              "    <tr>\n",
              "      <th>Atopp Brasil Faculdade de Negócios - Atopp Brasil - ATOPP BRASIL</th>\n",
              "      <td>2</td>\n",
              "    </tr>\n",
              "    <tr>\n",
              "      <th>Centro Superior de Estudos Jurídicos Carlos Drummond de Andrade - Csejcda - CSEJCDA</th>\n",
              "      <td>2</td>\n",
              "    </tr>\n",
              "    <tr>\n",
              "      <th>Centro Técnico-Educacional Superior do Oeste Paranaense - Ctesop - CTESOP</th>\n",
              "      <td>6</td>\n",
              "    </tr>\n",
              "    <tr>\n",
              "      <th>Centro Universitario Projeção - UNIPROJEÇÃO</th>\n",
              "      <td>63</td>\n",
              "    </tr>\n",
              "    <tr>\n",
              "      <th>...</th>\n",
              "      <td>...</td>\n",
              "    </tr>\n",
              "    <tr>\n",
              "      <th>Faculdade Messianica</th>\n",
              "      <td>5</td>\n",
              "    </tr>\n",
              "    <tr>\n",
              "      <th>Faculdade Unyleya</th>\n",
              "      <td>21</td>\n",
              "    </tr>\n",
              "    <tr>\n",
              "      <th>Faculdade Waldir Filho</th>\n",
              "      <td>1</td>\n",
              "    </tr>\n",
              "    <tr>\n",
              "      <th>Faculdade de Informática do Recife - FACIR</th>\n",
              "      <td>2</td>\n",
              "    </tr>\n",
              "    <tr>\n",
              "      <th>Instituto Superior de Educação do Sul do Piauí - ISESPI</th>\n",
              "      <td>3</td>\n",
              "    </tr>\n",
              "  </tbody>\n",
              "</table>\n",
              "<p>1299 rows × 1 columns</p>\n",
              "</div>"
            ],
            "text/plain": [
              "                                                    IES\n",
              "IES                                                    \n",
              "Alfa - Faculdade de Almenara                          4\n",
              "Atopp Brasil Faculdade de Negócios - Atopp Bras...    2\n",
              "Centro Superior de Estudos Jurídicos Carlos Dru...    2\n",
              "Centro Técnico-Educacional Superior do Oeste Pa...    6\n",
              "Centro Universitario Projeção - UNIPROJEÇÃO          63\n",
              "...                                                 ...\n",
              "Faculdade Messianica                                  5\n",
              "Faculdade Unyleya                                    21\n",
              "Faculdade Waldir Filho                                1\n",
              "Faculdade de Informática do Recife - FACIR            2\n",
              "Instituto Superior de Educação do Sul do Piauí ...    3\n",
              "\n",
              "[1299 rows x 1 columns]"
            ]
          },
          "metadata": {
            "tags": []
          },
          "execution_count": 78
        }
      ]
    },
    {
      "cell_type": "code",
      "metadata": {
        "colab": {
          "base_uri": "https://localhost:8080/"
        },
        "id": "9EODnhx4_Cm_",
        "outputId": "b6a844bb-bb42-4ae8-c60f-c8f09c2d81fa"
      },
      "source": [
        "qtd_ies = pd.unique(prouni['IES'])\n",
        "qtd_ies = pd.DataFrame(qtd_ies)\n",
        "qtd_ies.count()[0]"
      ],
      "execution_count": 79,
      "outputs": [
        {
          "output_type": "execute_result",
          "data": {
            "text/plain": [
              "1299"
            ]
          },
          "metadata": {
            "tags": []
          },
          "execution_count": 79
        }
      ]
    },
    {
      "cell_type": "markdown",
      "metadata": {
        "id": "OjFLFLxJDGwQ"
      },
      "source": [
        "## 1.3 Visualização dos dados\n",
        "\n",
        "\n"
      ]
    },
    {
      "cell_type": "code",
      "metadata": {
        "colab": {
          "base_uri": "https://localhost:8080/",
          "height": 513
        },
        "id": "FPbs8GyZ_Cpk",
        "outputId": "d619b71b-bb2d-46be-b6f3-e8f037bc6b3b"
      },
      "source": [
        "prouni['curso'].value_counts().head(5).plot(kind='barh',figsize =(15,8), grid= False)\n",
        "plt.title('Os 5 cursos com mais bolsas no Prouni')\n",
        "plt.ylabel('Cursos')\n",
        "plt.xlabel('Quantidade de bolsas')\n",
        "plt.show()"
      ],
      "execution_count": 80,
      "outputs": [
        {
          "output_type": "display_data",
          "data": {
            "image/png": "[encoded data removed]",
            "text/plain": [
              "<Figure size 1080x576 with 1 Axes>"
            ]
          },
          "metadata": {
            "tags": [],
            "needs_background": "light"
          }
        }
      ]
    },
    {
      "cell_type": "code",
      "metadata": {
        "colab": {
          "base_uri": "https://localhost:8080/",
          "height": 404
        },
        "id": "cJA2uA7l_RbO",
        "outputId": "ffdd745b-0485-4f34-b133-6434b361ffa4"
      },
      "source": [
        "Turnos = prouni['turno'].value_counts().plot(kind='bar', figsize=(10,6), grid = False, rot=0, colormap='Dark2')\n",
        "plt.title('Total de bolsas oferecidas por modalidade / turno em 2018')\n",
        "plt.xlabel('Turno',fontsize=10)\n",
        "plt.ylabel('Total de Bolsas',fontsize=10) \n",
        "plt.show()"
      ],
      "execution_count": 81,
      "outputs": [
        {
          "output_type": "display_data",
          "data": {
            "image/png": "[encoded data removed]",
            "text/plain": [
              "<Figure size 720x432 with 1 Axes>"
            ]
          },
          "metadata": {
            "tags": [],
            "needs_background": "light"
          }
        }
      ]
    },
    {
      "cell_type": "code",
      "metadata": {
        "colab": {
          "base_uri": "https://localhost:8080/",
          "height": 503
        },
        "id": "2ebBiw6C_RYk",
        "outputId": "2d2c46db-9ccd-4016-ee3e-963469bd353d"
      },
      "source": [
        "modalidade = prouni['modalidade'].value_counts(normalize=True)*100\n",
        "\n",
        "c = ['#00A9BE', '#4EC2F7']\n",
        "modalidade.plot(kind='pie',autopct='%0.2f%%', colors=c , textprops={'color':'white','size':'30'}, figsize = (15,8))\n",
        "plt.title('Porcentagem de modalidades oferecidas no ano de 2018', fontsize=18)\n",
        "plt.ylabel('modadelidade', fontsize=18)\n",
        "plt.legend(fontsize=12, title='Modalidades', loc=4)"
      ],
      "execution_count": 82,
      "outputs": [
        {
          "output_type": "execute_result",
          "data": {
            "text/plain": [
              "<matplotlib.legend.Legend at 0x7f2852b0ef50>"
            ]
          },
          "metadata": {
            "tags": []
          },
          "execution_count": 82
        },
        {
          "output_type": "display_data",
          "data": {
            "image/png": "[encoded data removed]",
            "text/plain": [
              "<Figure size 1080x576 with 1 Axes>"
            ]
          },
          "metadata": {
            "tags": []
          }
        }
      ]
    },
    {
      "cell_type": "markdown",
      "metadata": {
        "id": "c2KtqCTiAX-O"
      },
      "source": [
        "Mensalidades\n"
      ]
    },
    {
      "cell_type": "code",
      "metadata": {
        "colab": {
          "base_uri": "https://localhost:8080/"
        },
        "id": "y1_saMEn_RQZ",
        "outputId": "77bdfb07-eb04-4f1a-ee0c-3a53646780a9"
      },
      "source": [
        "prouni['mensalidade'].describe()"
      ],
      "execution_count": 83,
      "outputs": [
        {
          "output_type": "execute_result",
          "data": {
            "text/plain": [
              "count    41447.000000\n",
              "mean       622.636966\n",
              "std        606.442296\n",
              "min        139.000000\n",
              "25%        278.000000\n",
              "50%        393.350000\n",
              "75%        825.000000\n",
              "max       9999.990000\n",
              "Name: mensalidade, dtype: float64"
            ]
          },
          "metadata": {
            "tags": []
          },
          "execution_count": 83
        }
      ]
    },
    {
      "cell_type": "code",
      "metadata": {
        "colab": {
          "base_uri": "https://localhost:8080/",
          "height": 359
        },
        "id": "PAlz112UACtW",
        "outputId": "52e87adc-fbd6-4508-d52b-dcca72f7f582"
      },
      "source": [
        "prouni.groupby(['curso'], as_index=False).agg({'mensalidade':'mean'}).sort_values(by=['mensalidade'], ascending=False).head(10)"
      ],
      "execution_count": 84,
      "outputs": [
        {
          "output_type": "execute_result",
          "data": {
            "text/html": [
              "<div>\n",
              "<style scoped>\n",
              "    .dataframe tbody tr th:only-of-type {\n",
              "        vertical-align: middle;\n",
              "    }\n",
              "\n",
              "    .dataframe tbody tr th {\n",
              "        vertical-align: top;\n",
              "    }\n",
              "\n",
              "    .dataframe thead th {\n",
              "        text-align: right;\n",
              "    }\n",
              "</style>\n",
              "<table border=\"1\" class=\"dataframe\">\n",
              "  <thead>\n",
              "    <tr style=\"text-align: right;\">\n",
              "      <th></th>\n",
              "      <th>curso</th>\n",
              "      <th>mensalidade</th>\n",
              "    </tr>\n",
              "  </thead>\n",
              "  <tbody>\n",
              "    <tr>\n",
              "      <th>209</th>\n",
              "      <td>Medicina</td>\n",
              "      <td>7168.341532</td>\n",
              "    </tr>\n",
              "    <tr>\n",
              "      <th>115</th>\n",
              "      <td>Engenharia de Materiais e Nanotecnologia</td>\n",
              "      <td>4108.000000</td>\n",
              "    </tr>\n",
              "    <tr>\n",
              "      <th>60</th>\n",
              "      <td>Desenho Industrial</td>\n",
              "      <td>3467.000000</td>\n",
              "    </tr>\n",
              "    <tr>\n",
              "      <th>275</th>\n",
              "      <td>Sistemas Biomédicos</td>\n",
              "      <td>3420.000000</td>\n",
              "    </tr>\n",
              "    <tr>\n",
              "      <th>42</th>\n",
              "      <td>Comunicação Social - Cinema</td>\n",
              "      <td>2782.333333</td>\n",
              "    </tr>\n",
              "    <tr>\n",
              "      <th>231</th>\n",
              "      <td>Pilotagem Profissional de Aeronaves</td>\n",
              "      <td>2630.886000</td>\n",
              "    </tr>\n",
              "    <tr>\n",
              "      <th>52</th>\n",
              "      <td>Comunicação e Multimeios</td>\n",
              "      <td>2585.050000</td>\n",
              "    </tr>\n",
              "    <tr>\n",
              "      <th>225</th>\n",
              "      <td>Odontologia</td>\n",
              "      <td>2324.165149</td>\n",
              "    </tr>\n",
              "    <tr>\n",
              "      <th>216</th>\n",
              "      <td>Música - Composição</td>\n",
              "      <td>2211.000000</td>\n",
              "    </tr>\n",
              "    <tr>\n",
              "      <th>66</th>\n",
              "      <td>Design de Games</td>\n",
              "      <td>2180.000000</td>\n",
              "    </tr>\n",
              "  </tbody>\n",
              "</table>\n",
              "</div>"
            ],
            "text/plain": [
              "                                        curso  mensalidade\n",
              "209                                  Medicina  7168.341532\n",
              "115  Engenharia de Materiais e Nanotecnologia  4108.000000\n",
              "60                         Desenho Industrial  3467.000000\n",
              "275                       Sistemas Biomédicos  3420.000000\n",
              "42                Comunicação Social - Cinema  2782.333333\n",
              "231       Pilotagem Profissional de Aeronaves  2630.886000\n",
              "52                   Comunicação e Multimeios  2585.050000\n",
              "225                               Odontologia  2324.165149\n",
              "216                       Música - Composição  2211.000000\n",
              "66                            Design de Games  2180.000000"
            ]
          },
          "metadata": {
            "tags": []
          },
          "execution_count": 84
        }
      ]
    },
    {
      "cell_type": "code",
      "metadata": {
        "colab": {
          "base_uri": "https://localhost:8080/",
          "height": 390
        },
        "id": "UU1lBpgtACpO",
        "outputId": "4725b732-e296-4667-9935-4adc60f735dd"
      },
      "source": [
        "prouni.groupby(['curso']).agg({'mensalidade':'max'}).sort_values(by=['mensalidade'], ascending=False).head(10)"
      ],
      "execution_count": 85,
      "outputs": [
        {
          "output_type": "execute_result",
          "data": {
            "text/html": [
              "<div>\n",
              "<style scoped>\n",
              "    .dataframe tbody tr th:only-of-type {\n",
              "        vertical-align: middle;\n",
              "    }\n",
              "\n",
              "    .dataframe tbody tr th {\n",
              "        vertical-align: top;\n",
              "    }\n",
              "\n",
              "    .dataframe thead th {\n",
              "        text-align: right;\n",
              "    }\n",
              "</style>\n",
              "<table border=\"1\" class=\"dataframe\">\n",
              "  <thead>\n",
              "    <tr style=\"text-align: right;\">\n",
              "      <th></th>\n",
              "      <th>mensalidade</th>\n",
              "    </tr>\n",
              "    <tr>\n",
              "      <th>curso</th>\n",
              "      <th></th>\n",
              "    </tr>\n",
              "  </thead>\n",
              "  <tbody>\n",
              "    <tr>\n",
              "      <th>Medicina</th>\n",
              "      <td>9999.99</td>\n",
              "    </tr>\n",
              "    <tr>\n",
              "      <th>Enfermagem</th>\n",
              "      <td>9836.40</td>\n",
              "    </tr>\n",
              "    <tr>\n",
              "      <th>Psicologia</th>\n",
              "      <td>9689.34</td>\n",
              "    </tr>\n",
              "    <tr>\n",
              "      <th>Engenharia de Computação</th>\n",
              "      <td>8695.43</td>\n",
              "    </tr>\n",
              "    <tr>\n",
              "      <th>Educação Física</th>\n",
              "      <td>8466.72</td>\n",
              "    </tr>\n",
              "    <tr>\n",
              "      <th>Direito</th>\n",
              "      <td>7717.82</td>\n",
              "    </tr>\n",
              "    <tr>\n",
              "      <th>Engenharia de Produção</th>\n",
              "      <td>7360.35</td>\n",
              "    </tr>\n",
              "    <tr>\n",
              "      <th>Fisioterapia</th>\n",
              "      <td>6903.90</td>\n",
              "    </tr>\n",
              "    <tr>\n",
              "      <th>Administração</th>\n",
              "      <td>6552.52</td>\n",
              "    </tr>\n",
              "    <tr>\n",
              "      <th>Engenharia Civil</th>\n",
              "      <td>6180.00</td>\n",
              "    </tr>\n",
              "  </tbody>\n",
              "</table>\n",
              "</div>"
            ],
            "text/plain": [
              "                          mensalidade\n",
              "curso                                \n",
              "Medicina                      9999.99\n",
              "Enfermagem                    9836.40\n",
              "Psicologia                    9689.34\n",
              "Engenharia de Computação      8695.43\n",
              "Educação Física               8466.72\n",
              "Direito                       7717.82\n",
              "Engenharia de Produção        7360.35\n",
              "Fisioterapia                  6903.90\n",
              "Administração                 6552.52\n",
              "Engenharia Civil              6180.00"
            ]
          },
          "metadata": {
            "tags": []
          },
          "execution_count": 85
        }
      ]
    },
    {
      "cell_type": "code",
      "metadata": {
        "colab": {
          "base_uri": "https://localhost:8080/",
          "height": 390
        },
        "id": "Vq0efhIXACl_",
        "outputId": "50f51d7d-a28a-4fe0-99d9-c5837fe25751"
      },
      "source": [
        "prouni.groupby(['curso']).agg({'mensalidade':'min'}).sort_values(by=['mensalidade'], ascending=True).head(10)"
      ],
      "execution_count": 86,
      "outputs": [
        {
          "output_type": "execute_result",
          "data": {
            "text/html": [
              "<div>\n",
              "<style scoped>\n",
              "    .dataframe tbody tr th:only-of-type {\n",
              "        vertical-align: middle;\n",
              "    }\n",
              "\n",
              "    .dataframe tbody tr th {\n",
              "        vertical-align: top;\n",
              "    }\n",
              "\n",
              "    .dataframe thead th {\n",
              "        text-align: right;\n",
              "    }\n",
              "</style>\n",
              "<table border=\"1\" class=\"dataframe\">\n",
              "  <thead>\n",
              "    <tr style=\"text-align: right;\">\n",
              "      <th></th>\n",
              "      <th>mensalidade</th>\n",
              "    </tr>\n",
              "    <tr>\n",
              "      <th>curso</th>\n",
              "      <th></th>\n",
              "    </tr>\n",
              "  </thead>\n",
              "  <tbody>\n",
              "    <tr>\n",
              "      <th>Gestão Ambiental</th>\n",
              "      <td>139.0</td>\n",
              "    </tr>\n",
              "    <tr>\n",
              "      <th>Serviço Social</th>\n",
              "      <td>139.0</td>\n",
              "    </tr>\n",
              "    <tr>\n",
              "      <th>Gestão de Recursos Humanos</th>\n",
              "      <td>139.0</td>\n",
              "    </tr>\n",
              "    <tr>\n",
              "      <th>Marketing</th>\n",
              "      <td>144.0</td>\n",
              "    </tr>\n",
              "    <tr>\n",
              "      <th>Sociologia</th>\n",
              "      <td>149.0</td>\n",
              "    </tr>\n",
              "    <tr>\n",
              "      <th>Gestão Comercial</th>\n",
              "      <td>149.0</td>\n",
              "    </tr>\n",
              "    <tr>\n",
              "      <th>Segurança no Trabalho</th>\n",
              "      <td>159.0</td>\n",
              "    </tr>\n",
              "    <tr>\n",
              "      <th>Negócios Imobiliários</th>\n",
              "      <td>159.0</td>\n",
              "    </tr>\n",
              "    <tr>\n",
              "      <th>Administração</th>\n",
              "      <td>169.0</td>\n",
              "    </tr>\n",
              "    <tr>\n",
              "      <th>Ciências Contábeis</th>\n",
              "      <td>169.0</td>\n",
              "    </tr>\n",
              "  </tbody>\n",
              "</table>\n",
              "</div>"
            ],
            "text/plain": [
              "                            mensalidade\n",
              "curso                                  \n",
              "Gestão Ambiental                  139.0\n",
              "Serviço Social                    139.0\n",
              "Gestão de Recursos Humanos        139.0\n",
              "Marketing                         144.0\n",
              "Sociologia                        149.0\n",
              "Gestão Comercial                  149.0\n",
              "Segurança no Trabalho             159.0\n",
              "Negócios Imobiliários             159.0\n",
              "Administração                     169.0\n",
              "Ciências Contábeis                169.0"
            ]
          },
          "metadata": {
            "tags": []
          },
          "execution_count": 86
        }
      ]
    },
    {
      "cell_type": "markdown",
      "metadata": {
        "id": "oGaECxWhAaJr"
      },
      "source": [
        "Cursos com maiores notas de corte por modalidade da bolsa"
      ]
    },
    {
      "cell_type": "code",
      "metadata": {
        "colab": {
          "base_uri": "https://localhost:8080/",
          "height": 204
        },
        "id": "eMtRgoMfAStc",
        "outputId": "71863090-8618-486e-af4c-dd78d2da84ce"
      },
      "source": [
        "# Cursos com maiores notas de corte (bolsa integral ampla)\n",
        "cursos_bi_ampla = prouni.groupby('curso', as_index = False).agg({'nota_integral_ampla':'max'}).sort_values(by=['nota_integral_ampla'], ascending=False).reset_index()\n",
        "cursos_bi_ampla.drop(columns ='index', inplace=True)\n",
        "cursos_bi_ampla.head()"
      ],
      "execution_count": 87,
      "outputs": [
        {
          "output_type": "execute_result",
          "data": {
            "text/html": [
              "<div>\n",
              "<style scoped>\n",
              "    .dataframe tbody tr th:only-of-type {\n",
              "        vertical-align: middle;\n",
              "    }\n",
              "\n",
              "    .dataframe tbody tr th {\n",
              "        vertical-align: top;\n",
              "    }\n",
              "\n",
              "    .dataframe thead th {\n",
              "        text-align: right;\n",
              "    }\n",
              "</style>\n",
              "<table border=\"1\" class=\"dataframe\">\n",
              "  <thead>\n",
              "    <tr style=\"text-align: right;\">\n",
              "      <th></th>\n",
              "      <th>curso</th>\n",
              "      <th>nota_integral_ampla</th>\n",
              "    </tr>\n",
              "  </thead>\n",
              "  <tbody>\n",
              "    <tr>\n",
              "      <th>0</th>\n",
              "      <td>Medicina</td>\n",
              "      <td>781.20</td>\n",
              "    </tr>\n",
              "    <tr>\n",
              "      <th>1</th>\n",
              "      <td>Direito</td>\n",
              "      <td>771.66</td>\n",
              "    </tr>\n",
              "    <tr>\n",
              "      <th>2</th>\n",
              "      <td>Biomedicina</td>\n",
              "      <td>763.66</td>\n",
              "    </tr>\n",
              "    <tr>\n",
              "      <th>3</th>\n",
              "      <td>Arquitetura e Urbanismo</td>\n",
              "      <td>753.90</td>\n",
              "    </tr>\n",
              "    <tr>\n",
              "      <th>4</th>\n",
              "      <td>Odontologia</td>\n",
              "      <td>753.66</td>\n",
              "    </tr>\n",
              "  </tbody>\n",
              "</table>\n",
              "</div>"
            ],
            "text/plain": [
              "                     curso  nota_integral_ampla\n",
              "0                 Medicina               781.20\n",
              "1                  Direito               771.66\n",
              "2              Biomedicina               763.66\n",
              "3  Arquitetura e Urbanismo               753.90\n",
              "4              Odontologia               753.66"
            ]
          },
          "metadata": {
            "tags": []
          },
          "execution_count": 87
        }
      ]
    },
    {
      "cell_type": "code",
      "metadata": {
        "colab": {
          "base_uri": "https://localhost:8080/",
          "height": 204
        },
        "id": "EMTjY8CoASqo",
        "outputId": "284948e9-5039-4f52-cd36-f341e3a1330f"
      },
      "source": [
        "# Cursos com maiores notas de corte (bolsa integral cota)\n",
        "cursos_bi_cota = prouni.groupby('curso', as_index = False).agg({'nota_integral_cotas':'max'}).sort_values(by=['nota_integral_cotas'], ascending=False).reset_index()\n",
        "cursos_bi_cota.drop(columns ='index', inplace=True)\n",
        "cursos_bi_cota.head()"
      ],
      "execution_count": 88,
      "outputs": [
        {
          "output_type": "execute_result",
          "data": {
            "text/html": [
              "<div>\n",
              "<style scoped>\n",
              "    .dataframe tbody tr th:only-of-type {\n",
              "        vertical-align: middle;\n",
              "    }\n",
              "\n",
              "    .dataframe tbody tr th {\n",
              "        vertical-align: top;\n",
              "    }\n",
              "\n",
              "    .dataframe thead th {\n",
              "        text-align: right;\n",
              "    }\n",
              "</style>\n",
              "<table border=\"1\" class=\"dataframe\">\n",
              "  <thead>\n",
              "    <tr style=\"text-align: right;\">\n",
              "      <th></th>\n",
              "      <th>curso</th>\n",
              "      <th>nota_integral_cotas</th>\n",
              "    </tr>\n",
              "  </thead>\n",
              "  <tbody>\n",
              "    <tr>\n",
              "      <th>0</th>\n",
              "      <td>Medicina</td>\n",
              "      <td>792.24</td>\n",
              "    </tr>\n",
              "    <tr>\n",
              "      <th>1</th>\n",
              "      <td>Engenharia Elétrica</td>\n",
              "      <td>775.34</td>\n",
              "    </tr>\n",
              "    <tr>\n",
              "      <th>2</th>\n",
              "      <td>Engenharia Civil</td>\n",
              "      <td>750.26</td>\n",
              "    </tr>\n",
              "    <tr>\n",
              "      <th>3</th>\n",
              "      <td>Radiologia</td>\n",
              "      <td>737.84</td>\n",
              "    </tr>\n",
              "    <tr>\n",
              "      <th>4</th>\n",
              "      <td>Relações Públicas</td>\n",
              "      <td>733.98</td>\n",
              "    </tr>\n",
              "  </tbody>\n",
              "</table>\n",
              "</div>"
            ],
            "text/plain": [
              "                 curso  nota_integral_cotas\n",
              "0             Medicina               792.24\n",
              "1  Engenharia Elétrica               775.34\n",
              "2     Engenharia Civil               750.26\n",
              "3           Radiologia               737.84\n",
              "4    Relações Públicas               733.98"
            ]
          },
          "metadata": {
            "tags": []
          },
          "execution_count": 88
        }
      ]
    },
    {
      "cell_type": "code",
      "metadata": {
        "colab": {
          "base_uri": "https://localhost:8080/",
          "height": 204
        },
        "id": "x5JwUtBMASno",
        "outputId": "8ad11fd8-1fbb-4458-c1b8-37b3eb10e065"
      },
      "source": [
        "# Cursos com maiores notas de corte (bolsa parcial ampla)\n",
        "cursos_bp_ampla = prouni.groupby('curso', as_index = False).agg({'nota_parcial_ampla':'max'}).sort_values(by=['nota_parcial_ampla'], ascending=False).reset_index()\n",
        "cursos_bp_ampla.drop(columns ='index', inplace=True)\n",
        "cursos_bp_ampla.head()"
      ],
      "execution_count": 90,
      "outputs": [
        {
          "output_type": "execute_result",
          "data": {
            "text/html": [
              "<div>\n",
              "<style scoped>\n",
              "    .dataframe tbody tr th:only-of-type {\n",
              "        vertical-align: middle;\n",
              "    }\n",
              "\n",
              "    .dataframe tbody tr th {\n",
              "        vertical-align: top;\n",
              "    }\n",
              "\n",
              "    .dataframe thead th {\n",
              "        text-align: right;\n",
              "    }\n",
              "</style>\n",
              "<table border=\"1\" class=\"dataframe\">\n",
              "  <thead>\n",
              "    <tr style=\"text-align: right;\">\n",
              "      <th></th>\n",
              "      <th>curso</th>\n",
              "      <th>nota_parcial_ampla</th>\n",
              "    </tr>\n",
              "  </thead>\n",
              "  <tbody>\n",
              "    <tr>\n",
              "      <th>0</th>\n",
              "      <td>Medicina</td>\n",
              "      <td>776.36</td>\n",
              "    </tr>\n",
              "    <tr>\n",
              "      <th>1</th>\n",
              "      <td>Engenharia de Produção</td>\n",
              "      <td>755.04</td>\n",
              "    </tr>\n",
              "    <tr>\n",
              "      <th>2</th>\n",
              "      <td>Direito</td>\n",
              "      <td>736.12</td>\n",
              "    </tr>\n",
              "    <tr>\n",
              "      <th>3</th>\n",
              "      <td>Enfermagem</td>\n",
              "      <td>725.50</td>\n",
              "    </tr>\n",
              "    <tr>\n",
              "      <th>4</th>\n",
              "      <td>Física</td>\n",
              "      <td>724.08</td>\n",
              "    </tr>\n",
              "  </tbody>\n",
              "</table>\n",
              "</div>"
            ],
            "text/plain": [
              "                    curso  nota_parcial_ampla\n",
              "0                Medicina              776.36\n",
              "1  Engenharia de Produção              755.04\n",
              "2                 Direito              736.12\n",
              "3              Enfermagem              725.50\n",
              "4                  Física              724.08"
            ]
          },
          "metadata": {
            "tags": []
          },
          "execution_count": 90
        }
      ]
    },
    {
      "cell_type": "code",
      "metadata": {
        "id": "vzhxU8DiBf3B"
      },
      "source": [
        "# Cursos com maiores notas de corte (bolsa parcial ampla)\n",
        "cursos_bp_cota = prouni.groupby('curso', as_index = False).agg({'nota_parcial_cotas':'max'}).sort_values(by=['nota_parcial_cotas'], ascending=False).reset_index()\n",
        "cursos_bp_cota.drop(columns ='index', inplace=True)\n",
        "cursos_bp_cota.head()"
      ],
      "execution_count": null,
      "outputs": []
    },
    {
      "cell_type": "markdown",
      "metadata": {
        "id": "17jEcnOsgYpS"
      },
      "source": [
        "Cursos com menores notas de corte por modalidade (acima de 450)"
      ]
    },
    {
      "cell_type": "code",
      "metadata": {
        "colab": {
          "base_uri": "https://localhost:8080/",
          "height": 204
        },
        "id": "mUHqc4UHhGB4",
        "outputId": "25cabc62-d87c-465c-dfad-63f34eb4c40f"
      },
      "source": [
        "#Cursos com menores notas de corte (bolsa integral ampla)\n",
        "menores_notas_integral_ampla = ( prouni.groupby('curso').agg({'nota_integral_ampla':'min'})\n",
        "                  .sort_values(by=['nota_integral_ampla'], ascending=True)\n",
        "                  .query('nota_integral_ampla > 450').head()).reset_index()\n",
        "menores_notas_integral_ampla"
      ],
      "execution_count": 92,
      "outputs": [
        {
          "output_type": "execute_result",
          "data": {
            "text/html": [
              "<div>\n",
              "<style scoped>\n",
              "    .dataframe tbody tr th:only-of-type {\n",
              "        vertical-align: middle;\n",
              "    }\n",
              "\n",
              "    .dataframe tbody tr th {\n",
              "        vertical-align: top;\n",
              "    }\n",
              "\n",
              "    .dataframe thead th {\n",
              "        text-align: right;\n",
              "    }\n",
              "</style>\n",
              "<table border=\"1\" class=\"dataframe\">\n",
              "  <thead>\n",
              "    <tr style=\"text-align: right;\">\n",
              "      <th></th>\n",
              "      <th>curso</th>\n",
              "      <th>nota_integral_ampla</th>\n",
              "    </tr>\n",
              "  </thead>\n",
              "  <tbody>\n",
              "    <tr>\n",
              "      <th>0</th>\n",
              "      <td>Gerenciamento de Redes de Computadores</td>\n",
              "      <td>462.06</td>\n",
              "    </tr>\n",
              "    <tr>\n",
              "      <th>1</th>\n",
              "      <td>Serviços Jurídicos e Notariais</td>\n",
              "      <td>466.70</td>\n",
              "    </tr>\n",
              "    <tr>\n",
              "      <th>2</th>\n",
              "      <td>Eletrônica Industrial</td>\n",
              "      <td>480.44</td>\n",
              "    </tr>\n",
              "    <tr>\n",
              "      <th>3</th>\n",
              "      <td>Biologia</td>\n",
              "      <td>483.52</td>\n",
              "    </tr>\n",
              "    <tr>\n",
              "      <th>4</th>\n",
              "      <td>Comunicação para Web</td>\n",
              "      <td>491.80</td>\n",
              "    </tr>\n",
              "  </tbody>\n",
              "</table>\n",
              "</div>"
            ],
            "text/plain": [
              "                                    curso  nota_integral_ampla\n",
              "0  Gerenciamento de Redes de Computadores               462.06\n",
              "1          Serviços Jurídicos e Notariais               466.70\n",
              "2                   Eletrônica Industrial               480.44\n",
              "3                                Biologia               483.52\n",
              "4                    Comunicação para Web               491.80"
            ]
          },
          "metadata": {
            "tags": []
          },
          "execution_count": 92
        }
      ]
    },
    {
      "cell_type": "code",
      "metadata": {
        "colab": {
          "base_uri": "https://localhost:8080/",
          "height": 204
        },
        "id": "UjX9sffdhF8q",
        "outputId": "a3754fcf-38a6-4bd2-ca35-408840ec17e9"
      },
      "source": [
        "#Cursos com menores notas de corte (bolsa integral cota)\n",
        "menores_notas_integral_cota = ( prouni.groupby('curso').agg({'nota_integral_cotas':'min'})\n",
        "                  .sort_values(by=['nota_integral_cotas'], ascending=True)\n",
        "                  .query('nota_integral_cotas > 450').head()).reset_index()\n",
        "                \n",
        "menores_notas_integral_cota"
      ],
      "execution_count": 93,
      "outputs": [
        {
          "output_type": "execute_result",
          "data": {
            "text/html": [
              "<div>\n",
              "<style scoped>\n",
              "    .dataframe tbody tr th:only-of-type {\n",
              "        vertical-align: middle;\n",
              "    }\n",
              "\n",
              "    .dataframe tbody tr th {\n",
              "        vertical-align: top;\n",
              "    }\n",
              "\n",
              "    .dataframe thead th {\n",
              "        text-align: right;\n",
              "    }\n",
              "</style>\n",
              "<table border=\"1\" class=\"dataframe\">\n",
              "  <thead>\n",
              "    <tr style=\"text-align: right;\">\n",
              "      <th></th>\n",
              "      <th>curso</th>\n",
              "      <th>nota_integral_cotas</th>\n",
              "    </tr>\n",
              "  </thead>\n",
              "  <tbody>\n",
              "    <tr>\n",
              "      <th>0</th>\n",
              "      <td>Engenharia Industrial Mecânica</td>\n",
              "      <td>479.92</td>\n",
              "    </tr>\n",
              "    <tr>\n",
              "      <th>1</th>\n",
              "      <td>Serviços Jurídicos</td>\n",
              "      <td>482.06</td>\n",
              "    </tr>\n",
              "    <tr>\n",
              "      <th>2</th>\n",
              "      <td>Podologia</td>\n",
              "      <td>499.30</td>\n",
              "    </tr>\n",
              "    <tr>\n",
              "      <th>3</th>\n",
              "      <td>Tecnologia em Engenharia</td>\n",
              "      <td>500.42</td>\n",
              "    </tr>\n",
              "    <tr>\n",
              "      <th>4</th>\n",
              "      <td>Letras - Português e Espanhol e Respectivas Li...</td>\n",
              "      <td>503.54</td>\n",
              "    </tr>\n",
              "  </tbody>\n",
              "</table>\n",
              "</div>"
            ],
            "text/plain": [
              "                                               curso  nota_integral_cotas\n",
              "0                     Engenharia Industrial Mecânica               479.92\n",
              "1                                 Serviços Jurídicos               482.06\n",
              "2                                          Podologia               499.30\n",
              "3                           Tecnologia em Engenharia               500.42\n",
              "4  Letras - Português e Espanhol e Respectivas Li...               503.54"
            ]
          },
          "metadata": {
            "tags": []
          },
          "execution_count": 93
        }
      ]
    },
    {
      "cell_type": "code",
      "metadata": {
        "colab": {
          "base_uri": "https://localhost:8080/",
          "height": 204
        },
        "id": "TYiL-9lwhF3S",
        "outputId": "331c2e9d-00a7-4c20-ee6d-fa618d47daaa"
      },
      "source": [
        "# Cursos com menores notas de corte (bolsa parcial ampla)\n",
        "menores_notas_ampla = ( prouni.groupby('curso').agg({'nota_parcial_ampla':'min'})\n",
        "                  .sort_values(by=['nota_parcial_ampla'], ascending=True)\n",
        "                  .query('nota_parcial_ampla > 450').head()).reset_index()\n",
        "menores_notas_ampla"
      ],
      "execution_count": 94,
      "outputs": [
        {
          "output_type": "execute_result",
          "data": {
            "text/html": [
              "<div>\n",
              "<style scoped>\n",
              "    .dataframe tbody tr th:only-of-type {\n",
              "        vertical-align: middle;\n",
              "    }\n",
              "\n",
              "    .dataframe tbody tr th {\n",
              "        vertical-align: top;\n",
              "    }\n",
              "\n",
              "    .dataframe thead th {\n",
              "        text-align: right;\n",
              "    }\n",
              "</style>\n",
              "<table border=\"1\" class=\"dataframe\">\n",
              "  <thead>\n",
              "    <tr style=\"text-align: right;\">\n",
              "      <th></th>\n",
              "      <th>curso</th>\n",
              "      <th>nota_parcial_ampla</th>\n",
              "    </tr>\n",
              "  </thead>\n",
              "  <tbody>\n",
              "    <tr>\n",
              "      <th>0</th>\n",
              "      <td>Agroindústria</td>\n",
              "      <td>465.54</td>\n",
              "    </tr>\n",
              "    <tr>\n",
              "      <th>1</th>\n",
              "      <td>Comunicação Social  - Radialismo</td>\n",
              "      <td>476.26</td>\n",
              "    </tr>\n",
              "    <tr>\n",
              "      <th>2</th>\n",
              "      <td>Biocombustíveis</td>\n",
              "      <td>477.80</td>\n",
              "    </tr>\n",
              "    <tr>\n",
              "      <th>3</th>\n",
              "      <td>Arqueologia</td>\n",
              "      <td>491.60</td>\n",
              "    </tr>\n",
              "    <tr>\n",
              "      <th>4</th>\n",
              "      <td>Refrigeração e Climatização</td>\n",
              "      <td>501.48</td>\n",
              "    </tr>\n",
              "  </tbody>\n",
              "</table>\n",
              "</div>"
            ],
            "text/plain": [
              "                              curso  nota_parcial_ampla\n",
              "0                     Agroindústria              465.54\n",
              "1  Comunicação Social  - Radialismo              476.26\n",
              "2                   Biocombustíveis              477.80\n",
              "3                       Arqueologia              491.60\n",
              "4       Refrigeração e Climatização              501.48"
            ]
          },
          "metadata": {
            "tags": []
          },
          "execution_count": 94
        }
      ]
    },
    {
      "cell_type": "code",
      "metadata": {
        "colab": {
          "base_uri": "https://localhost:8080/",
          "height": 204
        },
        "id": "MxZpseBHhFwj",
        "outputId": "ebff1455-c936-4e40-81ab-793822eb298d"
      },
      "source": [
        "# Cursos com menores notas de corte (bolsa parcial cota)\n",
        "menores_notas_cota = ( prouni.groupby(['curso'], as_index=False).agg({'nota_parcial_cotas':'min'})\n",
        "                  .sort_values(by=['nota_parcial_cotas'])\n",
        "                  .query('nota_parcial_cotas > 450').head()).reset_index()\n",
        "menores_notas_cota"
      ],
      "execution_count": 95,
      "outputs": [
        {
          "output_type": "execute_result",
          "data": {
            "text/html": [
              "<div>\n",
              "<style scoped>\n",
              "    .dataframe tbody tr th:only-of-type {\n",
              "        vertical-align: middle;\n",
              "    }\n",
              "\n",
              "    .dataframe tbody tr th {\n",
              "        vertical-align: top;\n",
              "    }\n",
              "\n",
              "    .dataframe thead th {\n",
              "        text-align: right;\n",
              "    }\n",
              "</style>\n",
              "<table border=\"1\" class=\"dataframe\">\n",
              "  <thead>\n",
              "    <tr style=\"text-align: right;\">\n",
              "      <th></th>\n",
              "      <th>index</th>\n",
              "      <th>curso</th>\n",
              "      <th>nota_parcial_cotas</th>\n",
              "    </tr>\n",
              "  </thead>\n",
              "  <tbody>\n",
              "    <tr>\n",
              "      <th>0</th>\n",
              "      <td>280</td>\n",
              "      <td>Soldagem</td>\n",
              "      <td>482.50</td>\n",
              "    </tr>\n",
              "    <tr>\n",
              "      <th>1</th>\n",
              "      <td>4</td>\n",
              "      <td>Agroindústria</td>\n",
              "      <td>484.92</td>\n",
              "    </tr>\n",
              "    <tr>\n",
              "      <th>2</th>\n",
              "      <td>19</td>\n",
              "      <td>Biocombustíveis</td>\n",
              "      <td>485.34</td>\n",
              "    </tr>\n",
              "    <tr>\n",
              "      <th>3</th>\n",
              "      <td>238</td>\n",
              "      <td>Produção Agrícola</td>\n",
              "      <td>496.62</td>\n",
              "    </tr>\n",
              "    <tr>\n",
              "      <th>4</th>\n",
              "      <td>217</td>\n",
              "      <td>Música - Cordas</td>\n",
              "      <td>498.62</td>\n",
              "    </tr>\n",
              "  </tbody>\n",
              "</table>\n",
              "</div>"
            ],
            "text/plain": [
              "   index              curso  nota_parcial_cotas\n",
              "0    280           Soldagem              482.50\n",
              "1      4      Agroindústria              484.92\n",
              "2     19    Biocombustíveis              485.34\n",
              "3    238  Produção Agrícola              496.62\n",
              "4    217    Música - Cordas              498.62"
            ]
          },
          "metadata": {
            "tags": []
          },
          "execution_count": 95
        }
      ]
    },
    {
      "cell_type": "markdown",
      "metadata": {
        "id": "ckmyq3ErDUSL"
      },
      "source": [
        "# Prouni 2005 à 2018 - Bolsas e perfil dos beneficiários\n",
        "\n",
        "Importando a base de dados complementar, com informações das bolsas e dos perfis dos beneficiários de 2005 à 2018\n",
        "\n",
        "Bolsas concedidas e perfil dos beneficiários do Prouni"
      ]
    },
    {
      "cell_type": "code",
      "metadata": {
        "id": "PT4hDuqxEAcS"
      },
      "source": [
        "colunas_comp = ['ANO_CONCESSAO_BOLSA',\n",
        "       'NOME_IES_BOLSA', 'TIPO_BOLSA', 'MODALIDADE_ENSINO_BOLSA',\n",
        "       'NOME_CURSO_BOLSA', 'NOME_TURNO_CURSO_BOLSA', 'CPF_BENEFICIARIO_BOLSA',\n",
        "       'SEXO_BENEFICIARIO_BOLSA', 'RACA_BENEFICIARIO_BOLSA',\n",
        "       'DT_NASCIMENTO_BENEFICIARIO', 'BENEFICIARIO_DEFICIENTE_FISICO',\n",
        "       'REGIAO_BENEFICIARIO_BOLSA', 'SIGLA_UF_BENEFICIARIO_BOLSA',\n",
        "       'MUNICIPIO_BENEFICIARIO_BOLSA']"
      ],
      "execution_count": 96,
      "outputs": []
    },
    {
      "cell_type": "code",
      "metadata": {
        "id": "ihpV1rRIEBS7"
      },
      "source": [
        "tipo_comp = {'ANO_CONCESSAO_BOLSA':'int64',\n",
        "       'NOME_IES_BOLSA':'category', 'TIPO_BOLSA':'category', 'MODALIDADE_ENSINO_BOLSA':'category',\n",
        "       'NOME_CURSO_BOLSA':'category', 'NOME_TURNO_CURSO_BOLSA':'category', 'CPF_BENEFICIARIO_BOLSA':'category',\n",
        "       'SEXO_BENEFICIARIO_BOLSA':'category', 'RACA_BENEFICIARIO_BOLSA':'category',\n",
        "       'BENEFICIARIO_DEFICIENTE_FISICO':'category',\n",
        "       'REGIAO_BENEFICIARIO_BOLSA':'category', 'SIGLA_UF_BENEFICIARIO_BOLSA':'category',\n",
        "       'MUNICIPIO_BENEFICIARIO_BOLSA':'category'}"
      ],
      "execution_count": 97,
      "outputs": []
    },
    {
      "cell_type": "code",
      "metadata": {
        "id": "4fRzrTt0EFjL"
      },
      "source": [
        "# comp5 = pd.read_csv('/content/drive/MyDrive/DADOS/DadosProuni/Complementares/prouni-2005.csv', sep=';', encoding='ISO-8859-1',\n",
        "#                     usecols= colunas_comp, dtype= tipo_comp)\n",
        "# comp6 = pd.read_csv('/content/drive/MyDrive/DADOS/DadosProuni/Complementares/prouni-2006.csv', sep=';', encoding='ISO-8859-1',\n",
        "#                     usecols= colunas_comp, dtype= tipo_comp)\n",
        "# comp7 = pd.read_csv('/content/drive/MyDrive/DADOS/DadosProuni/Complementares/prouni-2007.csv', sep=';', encoding='ISO-8859-1',\n",
        "#                    usecols= colunas_comp, dtype= tipo_comp)\n",
        "# comp8 = pd.read_csv('/content/drive/MyDrive/DADOS/DadosProuni/Complementares/prouni-2008.csv', sep=';', encoding='ISO-8859-1',\n",
        "#                    usecols= colunas_comp, dtype= tipo_comp)\n",
        "# comp9 = pd.read_csv('/content/drive/MyDrive/DADOS/DadosProuni/Complementares/prouni-2009.csv', sep=';', encoding='ISO-8859-1',\n",
        "#                    usecols= colunas_comp, dtype= tipo_comp)\n",
        "# comp10 = pd.read_csv('/content/drive/MyDrive/DADOS/DadosProuni/Complementares/prouni-2010.csv', sep=';', encoding='ISO-8859-1',\n",
        "#                      usecols= colunas_comp, dtype= tipo_comp)\n",
        "# comp11 = pd.read_csv('/content/drive/MyDrive/DADOS/DadosProuni/Complementares/prouni-2011.csv', sep=';', encoding='ISO-8859-1',\n",
        "#                      usecols= colunas_comp, dtype= tipo_comp)\n",
        "# comp12 = pd.read_csv('/content/drive/MyDrive/DADOS/DadosProuni/Complementares/prouni-2012.csv', sep=';', encoding='ISO-8859-1',\n",
        "#                     usecols= colunas_comp, dtype= tipo_comp)\n",
        "# comp13 = pd.read_csv('/content/drive/MyDrive/DADOS/DadosProuni/Complementares/prouni-2013.csv', sep=';', encoding='ISO-8859-1',\n",
        "#                      usecols= colunas_comp, dtype= tipo_comp)\n",
        "# comp14 = pd.read_csv('/content/drive/MyDrive/DADOS/DadosProuni/Complementares/prouni-2014.csv', sep=';', encoding='ISO-8859-1',\n",
        "#                      usecols= colunas_comp, dtype= tipo_comp)\n",
        "# comp15 = pd.read_csv('/content/drive/MyDrive/DADOS/DadosProuni/Complementares/prouni-2015.csv', sep=';', encoding='ISO-8859-1', \n",
        "#                      usecols= colunas_comp, dtype= tipo_comp)\n",
        "# comp16 = pd.read_csv('/content/drive/MyDrive/DADOS/DadosProuni/Complementares/prouni-2016.csv', sep=';', encoding='ISO-8859-1', \n",
        "#                      usecols= colunas_comp, dtype= tipo_comp)\n",
        "# comp17 = pd.read_csv('/content/drive/MyDrive/DADOS/DadosProuni/Complementares/prouni-2017.csv', sep=';', \n",
        "#                      usecols= colunas_comp, dtype= tipo_comp)\n",
        "# comp18 = pd.read_csv('/content/drive/MyDrive/DADOS/DadosProuni/Complementares/prouni-2018.csv', sep=';', \n",
        "#                      usecols= colunas_comp, dtype= tipo_comp)"
      ],
      "execution_count": 98,
      "outputs": []
    },
    {
      "cell_type": "code",
      "metadata": {
        "id": "QXVXuEwiEIAi"
      },
      "source": [
        "#comp = pd.concat([comp5, comp6, comp7, comp8, comp9, comp10, comp11, comp12, comp13, comp14, comp15, comp16, comp17, comp"
      ],
      "execution_count": 99,
      "outputs": []
    },
    {
      "cell_type": "code",
      "metadata": {
        "id": "VXbJhRXZZt7q"
      },
      "source": [
        "comp = pd.read_csv('/content/drive/MyDrive/DADOS/complementares.csv')"
      ],
      "execution_count": 103,
      "outputs": []
    },
    {
      "cell_type": "markdown",
      "metadata": {
        "id": "Mc1nM3ojEN80"
      },
      "source": [
        "## Tratamento da base de dados"
      ]
    },
    {
      "cell_type": "code",
      "metadata": {
        "id": "Genq1SfVERzj"
      },
      "source": [
        "comp['DT_NASCIMENTO_BENEFICIARIO'] = comp['DT_NASCIMENTO_BENEFICIARIO'].str.replace('-', '/')"
      ],
      "execution_count": 101,
      "outputs": []
    },
    {
      "cell_type": "code",
      "metadata": {
        "id": "_LN6FEzVEWbF"
      },
      "source": [
        "comp['DT_NASCIMENTO_BENEFICIARIO'] = comp['DT_NASCIMENTO_BENEFICIARIO'].apply(lambda x: dt.datetime.strptime(x,'%d/%m/%Y'))"
      ],
      "execution_count": null,
      "outputs": []
    },
    {
      "cell_type": "code",
      "metadata": {
        "id": "E2XMF3QMEZmf"
      },
      "source": [
        "comp = comp.sort_values(by='DT_NASCIMENTO_BENEFICIARIO').reset_index()"
      ],
      "execution_count": null,
      "outputs": []
    },
    {
      "cell_type": "code",
      "metadata": {
        "id": "w5t9BYq2Ebr2"
      },
      "source": [
        "comp = comp[138:2466335]"
      ],
      "execution_count": null,
      "outputs": []
    },
    {
      "cell_type": "code",
      "metadata": {
        "id": "AxpIkEmNEdoH"
      },
      "source": [
        "comp['DT_NASCIMENTO_BENEFICIARIO'] = pd.to_datetime(comp['DT_NASCIMENTO_BENEFICIARIO'], infer_datetime_format=True)"
      ],
      "execution_count": null,
      "outputs": []
    },
    {
      "cell_type": "code",
      "metadata": {
        "id": "b9a7zzC5EmUe"
      },
      "source": [
        "comp['ANO_CONCESSAO_BOLSA'] =  pd.to_datetime(comp['ANO_CONCESSAO_BOLSA'], format='%Y', infer_datetime_format=True)"
      ],
      "execution_count": null,
      "outputs": []
    },
    {
      "cell_type": "code",
      "metadata": {
        "id": "bURHUlSEEp_8"
      },
      "source": [
        "comp['MODALIDADE_ENSINO_BOLSA'].replace(['EDUCAÇÃO A DISTÂNCIA'],'EAD', inplace=True)\n",
        "comp['MODALIDADE_ENSINO_BOLSA'].replace(['PRESENCIAL'],'Presencial',inplace=True) "
      ],
      "execution_count": null,
      "outputs": []
    },
    {
      "cell_type": "code",
      "metadata": {
        "id": "Z03AR4z0Erac"
      },
      "source": [
        "comp['SEXO_BENEFICIARIO_BOLSA'].replace(['F'],'Feminino', inplace=True)\n",
        "comp['SEXO_BENEFICIARIO_BOLSA'].replace(['M'],'Masculino',inplace=True) "
      ],
      "execution_count": null,
      "outputs": []
    },
    {
      "cell_type": "code",
      "metadata": {
        "id": "haroLs_XEsty"
      },
      "source": [
        "comp['BENEFICIARIO_DEFICIENTE_FISICO'].replace(['S','Sim'],'SIM', inplace=True)\n",
        "comp['BENEFICIARIO_DEFICIENTE_FISICO'].replace(['N','Não'],'NÃO',inplace=True) "
      ],
      "execution_count": null,
      "outputs": []
    },
    {
      "cell_type": "code",
      "metadata": {
        "id": "gP94NYz0Evwx"
      },
      "source": [
        "comp['REGIAO_BENEFICIARIO_BOLSA'].replace(['Sudeste'],'SUDESTE', inplace=True)\n",
        "comp['REGIAO_BENEFICIARIO_BOLSA'].replace(['Sul'],'SUL', inplace=True)\n",
        "comp['REGIAO_BENEFICIARIO_BOLSA'].replace(['Nordeste'],'NORDESTE', inplace=True)\n",
        "comp['REGIAO_BENEFICIARIO_BOLSA'].replace(['Centro-Oeste'],'CENTRO-OESTE', inplace=True)\n",
        "comp['REGIAO_BENEFICIARIO_BOLSA'].replace(['Norte'],'NORTE', inplace=True)"
      ],
      "execution_count": null,
      "outputs": []
    },
    {
      "cell_type": "code",
      "metadata": {
        "id": "o45QXdRYEzTE"
      },
      "source": [
        "comp.insert(10, 'Idade',(comp['ANO_CONCESSAO_BOLSA'] - comp['DT_NASCIMENTO_BENEFICIARIO'])/365.24)\n",
        "comp['Idade'] = comp['Idade'].dt.days"
      ],
      "execution_count": null,
      "outputs": []
    },
    {
      "cell_type": "code",
      "metadata": {
        "id": "7nstCVOVE2tl"
      },
      "source": [
        "comp = comp.sort_values(by='ANO_CONCESSAO_BOLSA').reset_index()"
      ],
      "execution_count": 110,
      "outputs": []
    },
    {
      "cell_type": "code",
      "metadata": {
        "id": "i_opfcNtE4Xa"
      },
      "source": [
        "#comp.drop(columns=['index'] , inplace=True)"
      ],
      "execution_count": null,
      "outputs": []
    },
    {
      "cell_type": "code",
      "metadata": {
        "id": "jEJBXr_sE94D"
      },
      "source": [
        "# 10 a 15\n",
        "#16 a 17\n",
        "#18 a 20\n",
        "#21 a 30\n",
        "#31 a 40\n",
        "#41 a 50\n",
        "# 51 a 60\n",
        "#61 a 70\n",
        "#70 ou mais\n",
        "classes = [10,15,17,20,30,40,50,60,70,100]"
      ],
      "execution_count": null,
      "outputs": []
    },
    {
      "cell_type": "code",
      "metadata": {
        "id": "mSYHdmUZE-pG"
      },
      "source": [
        "idade = pd.cut(comp['Idade'], classes)\n",
        "pd.value_counts(idade)"
      ],
      "execution_count": null,
      "outputs": []
    },
    {
      "cell_type": "code",
      "metadata": {
        "id": "TiLovQjLE-mQ"
      },
      "source": [
        "labels = ['10 a 15 anos', '16 a 17 anos','18 a 20 anos','21 a 30 anos','31 a 40 anos','41 a 50 anos','51 a 60 anos','61 a 70 anos','70 anos ou mais']\n",
        "idade = pd.cut(comp['Idade'], classes, labels=labels)\n",
        "pd.value_counts(idade)"
      ],
      "execution_count": null,
      "outputs": []
    },
    {
      "cell_type": "code",
      "metadata": {
        "id": "Emeg1VH8E-jD"
      },
      "source": [
        "faixaEtaria = {0:'0-15', 1:'0-15',2:'0-15', 3:'0-15', 4:'0-15', 5:'0-15',6:'0-15',7:'0-15',8:'0-15',9:'0-15',10:'0-15',11:'0-15',12:'0-15',13:'0-15',\n",
        "               14:'0-15',15:'0-15',16: '16-20',17: '16-20',\n",
        "              18: '16-20', 19: '16-20', 20: '16-20',21: '21-25',22:'21-25',23:'21-25',24:'21-25',25:'21-25',26:'26-30',27:'26-30',\n",
        "              28:'26-30',29:'26-30',30:'26-30',31:'31-40',32:'31-40',33:'31-40',34:'31-40',35:'31-40',36:'31-40',37:'31-40',38:'31-40',39:'31-40',40:'31-40',\n",
        "              41:'41-50',42:'41-50',43:'41-50',44:'41-50',45:'41-50',46:'41-50',47:'41-50',48:'41-50',49:'41-50',50:'41-50',\n",
        "              51: '51-60',52: '51-60',53: '51-60',54: '51-60',55: '51-60',56: '51-60',57: '51-60',58: '51-60',59: '51-60',60: '51-60',\n",
        "              61:'61-70', 62:'61-70',63:'61-70',64:'61-70',65:'61-70',66:'61-70',67:'61-70',68:'61-70',69:'61-70',70:'61-70',\n",
        "              72: '71-80',73: '71-80',75: '71-80',76: '71-80',77: '71-80'}\n",
        "\n",
        "comp.insert(11, 'Faixa_Etaria', comp.Idade.map(faixaEtaria))\n",
        "# comp['faixaEtaria']= comp.Idade.map(faixaEtaria)\n",
        "comp.head(2)"
      ],
      "execution_count": null,
      "outputs": []
    },
    {
      "cell_type": "code",
      "metadata": {
        "id": "qhFbb09IFL-w"
      },
      "source": [
        "comp.drop(columns=['level_0'], inplace=True)"
      ],
      "execution_count": null,
      "outputs": []
    },
    {
      "cell_type": "code",
      "metadata": {
        "id": "_1V_A-cbFSgd"
      },
      "source": [
        "menores = comp.loc[comp['Faixa_Etaria'] == '0-15']"
      ],
      "execution_count": null,
      "outputs": []
    },
    {
      "cell_type": "code",
      "metadata": {
        "id": "mfkKShzxFTLm"
      },
      "source": [
        "comp = comp.drop(menores.index, axis=0)"
      ],
      "execution_count": null,
      "outputs": []
    },
    {
      "cell_type": "code",
      "metadata": {
        "id": "kG0m4yjmFTFC"
      },
      "source": [
        "comp['Faixa_Etaria'].isnull().sum()"
      ],
      "execution_count": null,
      "outputs": []
    },
    {
      "cell_type": "code",
      "metadata": {
        "id": "ceH5mEq0GL_e"
      },
      "source": [
        "comp['ANO_CONCESSAO_BOLSA'] = pd.DatetimeIndex(comp['ANO_CONCESSAO_BOLSA']).year"
      ],
      "execution_count": 111,
      "outputs": []
    },
    {
      "cell_type": "code",
      "metadata": {
        "id": "iJTtPPLEFXCk"
      },
      "source": [
        "# comp.to_csv ('complementares.csv', index = None, header=True) \n",
        "# files.download('complementares.csv')"
      ],
      "execution_count": null,
      "outputs": []
    },
    {
      "cell_type": "markdown",
      "metadata": {
        "id": "BFjW0QN6FfEF"
      },
      "source": [
        "## Explorando a base de dados  "
      ]
    },
    {
      "cell_type": "code",
      "metadata": {
        "colab": {
          "base_uri": "https://localhost:8080/"
        },
        "id": "lFp2cv4IFpSu",
        "outputId": "b9bdbc32-f617-44bf-ac37-bfe4bbb6f1f4"
      },
      "source": [
        "comp['NOME_TURNO_CURSO_BOLSA'].value_counts()"
      ],
      "execution_count": 104,
      "outputs": [
        {
          "output_type": "execute_result",
          "data": {
            "text/plain": [
              "Noturno              1443846\n",
              "Matutino              448453\n",
              "Curso a distância     433088\n",
              "Integral               72264\n",
              "Vespertino             67529\n",
              "Name: NOME_TURNO_CURSO_BOLSA, dtype: int64"
            ]
          },
          "metadata": {
            "tags": []
          },
          "execution_count": 104
        }
      ]
    },
    {
      "cell_type": "code",
      "metadata": {
        "colab": {
          "base_uri": "https://localhost:8080/"
        },
        "id": "M-5lHCx7Fu6q",
        "outputId": "9972d7ca-4726-4f24-b21e-28def348712c"
      },
      "source": [
        "comp['MODALIDADE_ENSINO_BOLSA'].value_counts()"
      ],
      "execution_count": 105,
      "outputs": [
        {
          "output_type": "execute_result",
          "data": {
            "text/plain": [
              "Presencial    2032092\n",
              "EAD            433088\n",
              "Name: MODALIDADE_ENSINO_BOLSA, dtype: int64"
            ]
          },
          "metadata": {
            "tags": []
          },
          "execution_count": 105
        }
      ]
    },
    {
      "cell_type": "code",
      "metadata": {
        "colab": {
          "base_uri": "https://localhost:8080/"
        },
        "id": "2Z1ClGssFu4H",
        "outputId": "5cbb933d-6b4e-4d09-da4a-af9f7f860283"
      },
      "source": [
        "comp['SIGLA_UF_BENEFICIARIO_BOLSA'].value_counts().sort_values(ascending=False)"
      ],
      "execution_count": 106,
      "outputs": [
        {
          "output_type": "execute_result",
          "data": {
            "text/plain": [
              "SP    701574\n",
              "MG    300378\n",
              "RS    194252\n",
              "PR    180777\n",
              "BA    143927\n",
              "RJ    139282\n",
              "GO     82819\n",
              "SC     81854\n",
              "DF     66711\n",
              "PE     65760\n",
              "CE     58055\n",
              "MA     57692\n",
              "PA     52511\n",
              "ES     43314\n",
              "AM     40678\n",
              "MT     39091\n",
              "MS     38983\n",
              "RN     31402\n",
              "RO     28531\n",
              "PB     25598\n",
              "PI     22018\n",
              "SE     19470\n",
              "AL     13939\n",
              "TO     12604\n",
              "AC      9980\n",
              "AP      8366\n",
              "RR      5216\n",
              "Name: SIGLA_UF_BENEFICIARIO_BOLSA, dtype: int64"
            ]
          },
          "metadata": {
            "tags": []
          },
          "execution_count": 106
        }
      ]
    },
    {
      "cell_type": "code",
      "metadata": {
        "colab": {
          "base_uri": "https://localhost:8080/",
          "height": 483
        },
        "id": "TsySAjNhFu11",
        "outputId": "7816aaad-d4b5-4147-e9ed-453aa808fb9f"
      },
      "source": [
        "qtd_bolsas_ano = comp[['ANO_CONCESSAO_BOLSA','TIPO_BOLSA']].groupby('ANO_CONCESSAO_BOLSA', as_index = False).agg({'TIPO_BOLSA':'count'})\n",
        "qtd_bolsas_ano"
      ],
      "execution_count": 107,
      "outputs": [
        {
          "output_type": "execute_result",
          "data": {
            "text/html": [
              "<div>\n",
              "<style scoped>\n",
              "    .dataframe tbody tr th:only-of-type {\n",
              "        vertical-align: middle;\n",
              "    }\n",
              "\n",
              "    .dataframe tbody tr th {\n",
              "        vertical-align: top;\n",
              "    }\n",
              "\n",
              "    .dataframe thead th {\n",
              "        text-align: right;\n",
              "    }\n",
              "</style>\n",
              "<table border=\"1\" class=\"dataframe\">\n",
              "  <thead>\n",
              "    <tr style=\"text-align: right;\">\n",
              "      <th></th>\n",
              "      <th>ANO_CONCESSAO_BOLSA</th>\n",
              "      <th>TIPO_BOLSA</th>\n",
              "    </tr>\n",
              "  </thead>\n",
              "  <tbody>\n",
              "    <tr>\n",
              "      <th>0</th>\n",
              "      <td>2005-01-01</td>\n",
              "      <td>95350</td>\n",
              "    </tr>\n",
              "    <tr>\n",
              "      <th>1</th>\n",
              "      <td>2006-01-01</td>\n",
              "      <td>108480</td>\n",
              "    </tr>\n",
              "    <tr>\n",
              "      <th>2</th>\n",
              "      <td>2007-01-01</td>\n",
              "      <td>105530</td>\n",
              "    </tr>\n",
              "    <tr>\n",
              "      <th>3</th>\n",
              "      <td>2008-01-01</td>\n",
              "      <td>124534</td>\n",
              "    </tr>\n",
              "    <tr>\n",
              "      <th>4</th>\n",
              "      <td>2009-01-01</td>\n",
              "      <td>161110</td>\n",
              "    </tr>\n",
              "    <tr>\n",
              "      <th>5</th>\n",
              "      <td>2010-01-01</td>\n",
              "      <td>152660</td>\n",
              "    </tr>\n",
              "    <tr>\n",
              "      <th>6</th>\n",
              "      <td>2011-01-01</td>\n",
              "      <td>170691</td>\n",
              "    </tr>\n",
              "    <tr>\n",
              "      <th>7</th>\n",
              "      <td>2012-01-01</td>\n",
              "      <td>176672</td>\n",
              "    </tr>\n",
              "    <tr>\n",
              "      <th>8</th>\n",
              "      <td>2013-01-01</td>\n",
              "      <td>177237</td>\n",
              "    </tr>\n",
              "    <tr>\n",
              "      <th>9</th>\n",
              "      <td>2014-01-01</td>\n",
              "      <td>223507</td>\n",
              "    </tr>\n",
              "    <tr>\n",
              "      <th>10</th>\n",
              "      <td>2015-01-01</td>\n",
              "      <td>252587</td>\n",
              "    </tr>\n",
              "    <tr>\n",
              "      <th>11</th>\n",
              "      <td>2016-01-01</td>\n",
              "      <td>239215</td>\n",
              "    </tr>\n",
              "    <tr>\n",
              "      <th>12</th>\n",
              "      <td>2017-01-01</td>\n",
              "      <td>236589</td>\n",
              "    </tr>\n",
              "    <tr>\n",
              "      <th>13</th>\n",
              "      <td>2018-01-01</td>\n",
              "      <td>241018</td>\n",
              "    </tr>\n",
              "  </tbody>\n",
              "</table>\n",
              "</div>"
            ],
            "text/plain": [
              "   ANO_CONCESSAO_BOLSA  TIPO_BOLSA\n",
              "0           2005-01-01       95350\n",
              "1           2006-01-01      108480\n",
              "2           2007-01-01      105530\n",
              "3           2008-01-01      124534\n",
              "4           2009-01-01      161110\n",
              "5           2010-01-01      152660\n",
              "6           2011-01-01      170691\n",
              "7           2012-01-01      176672\n",
              "8           2013-01-01      177237\n",
              "9           2014-01-01      223507\n",
              "10          2015-01-01      252587\n",
              "11          2016-01-01      239215\n",
              "12          2017-01-01      236589\n",
              "13          2018-01-01      241018"
            ]
          },
          "metadata": {
            "tags": []
          },
          "execution_count": 107
        }
      ]
    },
    {
      "cell_type": "markdown",
      "metadata": {
        "id": "aCluOAw9FyVj"
      },
      "source": [
        "## Visualização dos Dados"
      ]
    },
    {
      "cell_type": "code",
      "metadata": {
        "colab": {
          "base_uri": "https://localhost:8080/",
          "height": 611
        },
        "id": "y6hlQ6nqbUii",
        "outputId": "1474cc7a-91b6-44b5-caf0-55c4c3ef1e28"
      },
      "source": [
        "sns.lineplot(\n",
        "data = qtd_bolsas_ano, marker='o',\n",
        "x = \"ANO_CONCESSAO_BOLSA\", \n",
        "y = \"TIPO_BOLSA\")\n",
        "plt.ylabel('Quantidade de Bolsas', fontsize=13)\n",
        "plt.xlabel('Ano',fontsize=13)\n",
        "plt.grid('dark')\n",
        "# plt.rcParams['figure.figsize']=(10,10)"
      ],
      "execution_count": 113,
      "outputs": [
        {
          "output_type": "display_data",
          "data": {
            "image/png": "[encoded data removed]",
            "text/plain": [
              "<Figure size 720x720 with 1 Axes>"
            ]
          },
          "metadata": {
            "tags": [],
            "needs_background": "light"
          }
        }
      ]
    },
    {
      "cell_type": "code",
      "metadata": {
        "colab": {
          "base_uri": "https://localhost:8080/",
          "height": 948
        },
        "id": "93T4YhwtbWbH",
        "outputId": "5d084e13-f5b9-4fd4-b390-ea5027af4045"
      },
      "source": [
        "qtd_bolsas_tipo = comp[['index','ANO_CONCESSAO_BOLSA','TIPO_BOLSA']].groupby(['ANO_CONCESSAO_BOLSA','TIPO_BOLSA'], as_index = False).agg({'index':'count'}).reset_index()\n",
        "qtd_bolsas_tipo.drop(columns=['level_0'], inplace=True)\n",
        "qtd_bolsas_tipo.columns = ['ANO_CONCESSAO_BOLSA','TIPO_BOLSA','Total de Bolsas']\n",
        "qtd_bolsas_tipo"
      ],
      "execution_count": 114,
      "outputs": [
        {
          "output_type": "execute_result",
          "data": {
            "text/html": [
              "<div>\n",
              "<style scoped>\n",
              "    .dataframe tbody tr th:only-of-type {\n",
              "        vertical-align: middle;\n",
              "    }\n",
              "\n",
              "    .dataframe tbody tr th {\n",
              "        vertical-align: top;\n",
              "    }\n",
              "\n",
              "    .dataframe thead th {\n",
              "        text-align: right;\n",
              "    }\n",
              "</style>\n",
              "<table border=\"1\" class=\"dataframe\">\n",
              "  <thead>\n",
              "    <tr style=\"text-align: right;\">\n",
              "      <th></th>\n",
              "      <th>ANO_CONCESSAO_BOLSA</th>\n",
              "      <th>TIPO_BOLSA</th>\n",
              "      <th>Total de Bolsas</th>\n",
              "    </tr>\n",
              "  </thead>\n",
              "  <tbody>\n",
              "    <tr>\n",
              "      <th>0</th>\n",
              "      <td>2005</td>\n",
              "      <td>BOLSA INTEGRAL</td>\n",
              "      <td>67058</td>\n",
              "    </tr>\n",
              "    <tr>\n",
              "      <th>1</th>\n",
              "      <td>2005</td>\n",
              "      <td>BOLSA PARCIAL 50%</td>\n",
              "      <td>28292</td>\n",
              "    </tr>\n",
              "    <tr>\n",
              "      <th>2</th>\n",
              "      <td>2006</td>\n",
              "      <td>BOLSA INTEGRAL</td>\n",
              "      <td>85726</td>\n",
              "    </tr>\n",
              "    <tr>\n",
              "      <th>3</th>\n",
              "      <td>2006</td>\n",
              "      <td>BOLSA PARCIAL 50%</td>\n",
              "      <td>22754</td>\n",
              "    </tr>\n",
              "    <tr>\n",
              "      <th>4</th>\n",
              "      <td>2007</td>\n",
              "      <td>BOLSA INTEGRAL</td>\n",
              "      <td>73530</td>\n",
              "    </tr>\n",
              "    <tr>\n",
              "      <th>5</th>\n",
              "      <td>2007</td>\n",
              "      <td>BOLSA PARCIAL 50%</td>\n",
              "      <td>32000</td>\n",
              "    </tr>\n",
              "    <tr>\n",
              "      <th>6</th>\n",
              "      <td>2008</td>\n",
              "      <td>BOLSA COMPLEMENTAR 25%</td>\n",
              "      <td>2330</td>\n",
              "    </tr>\n",
              "    <tr>\n",
              "      <th>7</th>\n",
              "      <td>2008</td>\n",
              "      <td>BOLSA INTEGRAL</td>\n",
              "      <td>76589</td>\n",
              "    </tr>\n",
              "    <tr>\n",
              "      <th>8</th>\n",
              "      <td>2008</td>\n",
              "      <td>BOLSA PARCIAL 50%</td>\n",
              "      <td>45615</td>\n",
              "    </tr>\n",
              "    <tr>\n",
              "      <th>9</th>\n",
              "      <td>2009</td>\n",
              "      <td>BOLSA INTEGRAL</td>\n",
              "      <td>113469</td>\n",
              "    </tr>\n",
              "    <tr>\n",
              "      <th>10</th>\n",
              "      <td>2009</td>\n",
              "      <td>BOLSA PARCIAL 50%</td>\n",
              "      <td>47641</td>\n",
              "    </tr>\n",
              "    <tr>\n",
              "      <th>11</th>\n",
              "      <td>2010</td>\n",
              "      <td>BOLSA INTEGRAL</td>\n",
              "      <td>96170</td>\n",
              "    </tr>\n",
              "    <tr>\n",
              "      <th>12</th>\n",
              "      <td>2010</td>\n",
              "      <td>BOLSA PARCIAL 50%</td>\n",
              "      <td>56490</td>\n",
              "    </tr>\n",
              "    <tr>\n",
              "      <th>13</th>\n",
              "      <td>2011</td>\n",
              "      <td>BOLSA INTEGRAL</td>\n",
              "      <td>106473</td>\n",
              "    </tr>\n",
              "    <tr>\n",
              "      <th>14</th>\n",
              "      <td>2011</td>\n",
              "      <td>BOLSA PARCIAL 50%</td>\n",
              "      <td>64218</td>\n",
              "    </tr>\n",
              "    <tr>\n",
              "      <th>15</th>\n",
              "      <td>2012</td>\n",
              "      <td>BOLSA INTEGRAL</td>\n",
              "      <td>119122</td>\n",
              "    </tr>\n",
              "    <tr>\n",
              "      <th>16</th>\n",
              "      <td>2012</td>\n",
              "      <td>BOLSA PARCIAL 50%</td>\n",
              "      <td>57550</td>\n",
              "    </tr>\n",
              "    <tr>\n",
              "      <th>17</th>\n",
              "      <td>2013</td>\n",
              "      <td>BOLSA INTEGRAL</td>\n",
              "      <td>134506</td>\n",
              "    </tr>\n",
              "    <tr>\n",
              "      <th>18</th>\n",
              "      <td>2013</td>\n",
              "      <td>BOLSA PARCIAL 50%</td>\n",
              "      <td>42731</td>\n",
              "    </tr>\n",
              "    <tr>\n",
              "      <th>19</th>\n",
              "      <td>2014</td>\n",
              "      <td>BOLSA INTEGRAL</td>\n",
              "      <td>175955</td>\n",
              "    </tr>\n",
              "    <tr>\n",
              "      <th>20</th>\n",
              "      <td>2014</td>\n",
              "      <td>BOLSA PARCIAL 50%</td>\n",
              "      <td>47552</td>\n",
              "    </tr>\n",
              "    <tr>\n",
              "      <th>21</th>\n",
              "      <td>2015</td>\n",
              "      <td>BOLSA INTEGRAL</td>\n",
              "      <td>185032</td>\n",
              "    </tr>\n",
              "    <tr>\n",
              "      <th>22</th>\n",
              "      <td>2015</td>\n",
              "      <td>BOLSA PARCIAL 50%</td>\n",
              "      <td>67555</td>\n",
              "    </tr>\n",
              "    <tr>\n",
              "      <th>23</th>\n",
              "      <td>2016</td>\n",
              "      <td>BOLSA INTEGRAL</td>\n",
              "      <td>157375</td>\n",
              "    </tr>\n",
              "    <tr>\n",
              "      <th>24</th>\n",
              "      <td>2016</td>\n",
              "      <td>BOLSA PARCIAL 50%</td>\n",
              "      <td>81840</td>\n",
              "    </tr>\n",
              "    <tr>\n",
              "      <th>25</th>\n",
              "      <td>2017</td>\n",
              "      <td>BOLSA INTEGRAL</td>\n",
              "      <td>155018</td>\n",
              "    </tr>\n",
              "    <tr>\n",
              "      <th>26</th>\n",
              "      <td>2017</td>\n",
              "      <td>BOLSA PARCIAL 50%</td>\n",
              "      <td>81571</td>\n",
              "    </tr>\n",
              "    <tr>\n",
              "      <th>27</th>\n",
              "      <td>2018</td>\n",
              "      <td>BOLSA INTEGRAL</td>\n",
              "      <td>161561</td>\n",
              "    </tr>\n",
              "    <tr>\n",
              "      <th>28</th>\n",
              "      <td>2018</td>\n",
              "      <td>BOLSA PARCIAL 50%</td>\n",
              "      <td>79457</td>\n",
              "    </tr>\n",
              "  </tbody>\n",
              "</table>\n",
              "</div>"
            ],
            "text/plain": [
              "    ANO_CONCESSAO_BOLSA              TIPO_BOLSA  Total de Bolsas\n",
              "0                  2005          BOLSA INTEGRAL            67058\n",
              "1                  2005       BOLSA PARCIAL 50%            28292\n",
              "2                  2006          BOLSA INTEGRAL            85726\n",
              "3                  2006       BOLSA PARCIAL 50%            22754\n",
              "4                  2007          BOLSA INTEGRAL            73530\n",
              "5                  2007       BOLSA PARCIAL 50%            32000\n",
              "6                  2008  BOLSA COMPLEMENTAR 25%             2330\n",
              "7                  2008          BOLSA INTEGRAL            76589\n",
              "8                  2008       BOLSA PARCIAL 50%            45615\n",
              "9                  2009          BOLSA INTEGRAL           113469\n",
              "10                 2009       BOLSA PARCIAL 50%            47641\n",
              "11                 2010          BOLSA INTEGRAL            96170\n",
              "12                 2010       BOLSA PARCIAL 50%            56490\n",
              "13                 2011          BOLSA INTEGRAL           106473\n",
              "14                 2011       BOLSA PARCIAL 50%            64218\n",
              "15                 2012          BOLSA INTEGRAL           119122\n",
              "16                 2012       BOLSA PARCIAL 50%            57550\n",
              "17                 2013          BOLSA INTEGRAL           134506\n",
              "18                 2013       BOLSA PARCIAL 50%            42731\n",
              "19                 2014          BOLSA INTEGRAL           175955\n",
              "20                 2014       BOLSA PARCIAL 50%            47552\n",
              "21                 2015          BOLSA INTEGRAL           185032\n",
              "22                 2015       BOLSA PARCIAL 50%            67555\n",
              "23                 2016          BOLSA INTEGRAL           157375\n",
              "24                 2016       BOLSA PARCIAL 50%            81840\n",
              "25                 2017          BOLSA INTEGRAL           155018\n",
              "26                 2017       BOLSA PARCIAL 50%            81571\n",
              "27                 2018          BOLSA INTEGRAL           161561\n",
              "28                 2018       BOLSA PARCIAL 50%            79457"
            ]
          },
          "metadata": {
            "tags": []
          },
          "execution_count": 114
        }
      ]
    },
    {
      "cell_type": "code",
      "metadata": {
        "colab": {
          "base_uri": "https://localhost:8080/",
          "height": 907
        },
        "id": "bkEOo_UobWVq",
        "outputId": "bafc7909-90e8-451e-ce31-1caa76f50143"
      },
      "source": [
        "sns.catplot(x=\"ANO_CONCESSAO_BOLSA\", y=\"Total de Bolsas\", kind='bar', hue=\"TIPO_BOLSA\", palette=\"Blues_r\", data=qtd_bolsas_tipo, height=12)\n",
        "plt.xlabel('Ano', fontsize=12)\n",
        "plt.ylabel('Total de Bolsas', fontsize=12)"
      ],
      "execution_count": 115,
      "outputs": [
        {
          "output_type": "execute_result",
          "data": {
            "text/plain": [
              "Text(18.39895833333334, 0.5, 'Total de Bolsas')"
            ]
          },
          "metadata": {
            "tags": []
          },
          "execution_count": 115
        },
        {
          "output_type": "display_data",
          "data": {
            "image/png": "[encoded data removed]",
            "text/plain": [
              "<Figure size 1044x864 with 1 Axes>"
            ]
          },
          "metadata": {
            "tags": [],
            "needs_background": "light"
          }
        }
      ]
    },
    {
      "cell_type": "code",
      "metadata": {
        "id": "JMVUFOf0-SnN",
        "colab": {
          "base_uri": "https://localhost:8080/",
          "height": 917
        },
        "outputId": "2b8cb23f-2a7e-4576-93d8-1acde7c2a5dc"
      },
      "source": [
        "modalidade_bolsas_ano = comp[['index','ANO_CONCESSAO_BOLSA','MODALIDADE_ENSINO_BOLSA']].groupby(['ANO_CONCESSAO_BOLSA','MODALIDADE_ENSINO_BOLSA']).agg({'index':'count'}).reset_index()\n",
        "modalidade_bolsas_ano.columns = ['Ano','Modalidade','Total de Bolsas']\n",
        "modalidade_bolsas_ano"
      ],
      "execution_count": 116,
      "outputs": [
        {
          "output_type": "execute_result",
          "data": {
            "text/html": [
              "<div>\n",
              "<style scoped>\n",
              "    .dataframe tbody tr th:only-of-type {\n",
              "        vertical-align: middle;\n",
              "    }\n",
              "\n",
              "    .dataframe tbody tr th {\n",
              "        vertical-align: top;\n",
              "    }\n",
              "\n",
              "    .dataframe thead th {\n",
              "        text-align: right;\n",
              "    }\n",
              "</style>\n",
              "<table border=\"1\" class=\"dataframe\">\n",
              "  <thead>\n",
              "    <tr style=\"text-align: right;\">\n",
              "      <th></th>\n",
              "      <th>Ano</th>\n",
              "      <th>Modalidade</th>\n",
              "      <th>Total de Bolsas</th>\n",
              "    </tr>\n",
              "  </thead>\n",
              "  <tbody>\n",
              "    <tr>\n",
              "      <th>0</th>\n",
              "      <td>2005</td>\n",
              "      <td>EAD</td>\n",
              "      <td>4743</td>\n",
              "    </tr>\n",
              "    <tr>\n",
              "      <th>1</th>\n",
              "      <td>2005</td>\n",
              "      <td>Presencial</td>\n",
              "      <td>90607</td>\n",
              "    </tr>\n",
              "    <tr>\n",
              "      <th>2</th>\n",
              "      <td>2006</td>\n",
              "      <td>EAD</td>\n",
              "      <td>6235</td>\n",
              "    </tr>\n",
              "    <tr>\n",
              "      <th>3</th>\n",
              "      <td>2006</td>\n",
              "      <td>Presencial</td>\n",
              "      <td>102245</td>\n",
              "    </tr>\n",
              "    <tr>\n",
              "      <th>4</th>\n",
              "      <td>2007</td>\n",
              "      <td>EAD</td>\n",
              "      <td>11182</td>\n",
              "    </tr>\n",
              "    <tr>\n",
              "      <th>5</th>\n",
              "      <td>2007</td>\n",
              "      <td>Presencial</td>\n",
              "      <td>94348</td>\n",
              "    </tr>\n",
              "    <tr>\n",
              "      <th>6</th>\n",
              "      <td>2008</td>\n",
              "      <td>EAD</td>\n",
              "      <td>13898</td>\n",
              "    </tr>\n",
              "    <tr>\n",
              "      <th>7</th>\n",
              "      <td>2008</td>\n",
              "      <td>Presencial</td>\n",
              "      <td>110636</td>\n",
              "    </tr>\n",
              "    <tr>\n",
              "      <th>8</th>\n",
              "      <td>2009</td>\n",
              "      <td>EAD</td>\n",
              "      <td>24773</td>\n",
              "    </tr>\n",
              "    <tr>\n",
              "      <th>9</th>\n",
              "      <td>2009</td>\n",
              "      <td>Presencial</td>\n",
              "      <td>136337</td>\n",
              "    </tr>\n",
              "    <tr>\n",
              "      <th>10</th>\n",
              "      <td>2010</td>\n",
              "      <td>EAD</td>\n",
              "      <td>21256</td>\n",
              "    </tr>\n",
              "    <tr>\n",
              "      <th>11</th>\n",
              "      <td>2010</td>\n",
              "      <td>Presencial</td>\n",
              "      <td>131404</td>\n",
              "    </tr>\n",
              "    <tr>\n",
              "      <th>12</th>\n",
              "      <td>2011</td>\n",
              "      <td>EAD</td>\n",
              "      <td>25118</td>\n",
              "    </tr>\n",
              "    <tr>\n",
              "      <th>13</th>\n",
              "      <td>2011</td>\n",
              "      <td>Presencial</td>\n",
              "      <td>145573</td>\n",
              "    </tr>\n",
              "    <tr>\n",
              "      <th>14</th>\n",
              "      <td>2012</td>\n",
              "      <td>EAD</td>\n",
              "      <td>32649</td>\n",
              "    </tr>\n",
              "    <tr>\n",
              "      <th>15</th>\n",
              "      <td>2012</td>\n",
              "      <td>Presencial</td>\n",
              "      <td>144023</td>\n",
              "    </tr>\n",
              "    <tr>\n",
              "      <th>16</th>\n",
              "      <td>2013</td>\n",
              "      <td>EAD</td>\n",
              "      <td>40604</td>\n",
              "    </tr>\n",
              "    <tr>\n",
              "      <th>17</th>\n",
              "      <td>2013</td>\n",
              "      <td>Presencial</td>\n",
              "      <td>136633</td>\n",
              "    </tr>\n",
              "    <tr>\n",
              "      <th>18</th>\n",
              "      <td>2014</td>\n",
              "      <td>EAD</td>\n",
              "      <td>46054</td>\n",
              "    </tr>\n",
              "    <tr>\n",
              "      <th>19</th>\n",
              "      <td>2014</td>\n",
              "      <td>Presencial</td>\n",
              "      <td>177453</td>\n",
              "    </tr>\n",
              "    <tr>\n",
              "      <th>20</th>\n",
              "      <td>2015</td>\n",
              "      <td>EAD</td>\n",
              "      <td>49149</td>\n",
              "    </tr>\n",
              "    <tr>\n",
              "      <th>21</th>\n",
              "      <td>2015</td>\n",
              "      <td>Presencial</td>\n",
              "      <td>203438</td>\n",
              "    </tr>\n",
              "    <tr>\n",
              "      <th>22</th>\n",
              "      <td>2016</td>\n",
              "      <td>EAD</td>\n",
              "      <td>47862</td>\n",
              "    </tr>\n",
              "    <tr>\n",
              "      <th>23</th>\n",
              "      <td>2016</td>\n",
              "      <td>Presencial</td>\n",
              "      <td>191353</td>\n",
              "    </tr>\n",
              "    <tr>\n",
              "      <th>24</th>\n",
              "      <td>2017</td>\n",
              "      <td>EAD</td>\n",
              "      <td>52237</td>\n",
              "    </tr>\n",
              "    <tr>\n",
              "      <th>25</th>\n",
              "      <td>2017</td>\n",
              "      <td>Presencial</td>\n",
              "      <td>184352</td>\n",
              "    </tr>\n",
              "    <tr>\n",
              "      <th>26</th>\n",
              "      <td>2018</td>\n",
              "      <td>EAD</td>\n",
              "      <td>57328</td>\n",
              "    </tr>\n",
              "    <tr>\n",
              "      <th>27</th>\n",
              "      <td>2018</td>\n",
              "      <td>Presencial</td>\n",
              "      <td>183690</td>\n",
              "    </tr>\n",
              "  </tbody>\n",
              "</table>\n",
              "</div>"
            ],
            "text/plain": [
              "     Ano  Modalidade  Total de Bolsas\n",
              "0   2005         EAD             4743\n",
              "1   2005  Presencial            90607\n",
              "2   2006         EAD             6235\n",
              "3   2006  Presencial           102245\n",
              "4   2007         EAD            11182\n",
              "5   2007  Presencial            94348\n",
              "6   2008         EAD            13898\n",
              "7   2008  Presencial           110636\n",
              "8   2009         EAD            24773\n",
              "9   2009  Presencial           136337\n",
              "10  2010         EAD            21256\n",
              "11  2010  Presencial           131404\n",
              "12  2011         EAD            25118\n",
              "13  2011  Presencial           145573\n",
              "14  2012         EAD            32649\n",
              "15  2012  Presencial           144023\n",
              "16  2013         EAD            40604\n",
              "17  2013  Presencial           136633\n",
              "18  2014         EAD            46054\n",
              "19  2014  Presencial           177453\n",
              "20  2015         EAD            49149\n",
              "21  2015  Presencial           203438\n",
              "22  2016         EAD            47862\n",
              "23  2016  Presencial           191353\n",
              "24  2017         EAD            52237\n",
              "25  2017  Presencial           184352\n",
              "26  2018         EAD            57328\n",
              "27  2018  Presencial           183690"
            ]
          },
          "metadata": {
            "tags": []
          },
          "execution_count": 116
        }
      ]
    },
    {
      "cell_type": "code",
      "metadata": {
        "colab": {
          "base_uri": "https://localhost:8080/",
          "height": 475
        },
        "id": "jvjejwf0bWQH",
        "outputId": "9f111283-ef00-4292-dc2a-36f9f6ff9add"
      },
      "source": [
        "c = ['#4EC2F7','#00877A']\n",
        "sns.lmplot(x=\"Ano\", y=\"Total de Bolsas\", hue=\"Modalidade\", palette=c, data=modalidade_bolsas_ano, height=6, aspect=2)\n",
        "plt.ylabel('Total de Bolsas',fontsize=12)\n",
        "plt.xlabel('Ano',fontsize=12)"
      ],
      "execution_count": 117,
      "outputs": [
        {
          "output_type": "execute_result",
          "data": {
            "text/plain": [
              "Text(0.5, 6.800000000000011, 'Ano')"
            ]
          },
          "metadata": {
            "tags": []
          },
          "execution_count": 117
        },
        {
          "output_type": "display_data",
          "data": {
            "image/png": "[encoded data removed]",
            "text/plain": [
              "<Figure size 951x432 with 1 Axes>"
            ]
          },
          "metadata": {
            "tags": [],
            "needs_background": "light"
          }
        }
      ]
    },
    {
      "cell_type": "code",
      "metadata": {
        "colab": {
          "base_uri": "https://localhost:8080/",
          "height": 419
        },
        "id": "5w1D1ojebWN7",
        "outputId": "fe85fe53-0001-470a-ccde-577e78b38db2"
      },
      "source": [
        "qtd_bolsas_turno = comp[['index','ANO_CONCESSAO_BOLSA','NOME_TURNO_CURSO_BOLSA']].groupby(['ANO_CONCESSAO_BOLSA','NOME_TURNO_CURSO_BOLSA']).agg({'index':'count'}).reset_index()\n",
        "qtd_bolsas_turno.columns = ['ANO_CONCESSAO_BOLSA','MODALIDADE_ENSINO_BOLSA','Total de Bolsas']\n",
        "qtd_bolsas_turno"
      ],
      "execution_count": 118,
      "outputs": [
        {
          "output_type": "execute_result",
          "data": {
            "text/html": [
              "<div>\n",
              "<style scoped>\n",
              "    .dataframe tbody tr th:only-of-type {\n",
              "        vertical-align: middle;\n",
              "    }\n",
              "\n",
              "    .dataframe tbody tr th {\n",
              "        vertical-align: top;\n",
              "    }\n",
              "\n",
              "    .dataframe thead th {\n",
              "        text-align: right;\n",
              "    }\n",
              "</style>\n",
              "<table border=\"1\" class=\"dataframe\">\n",
              "  <thead>\n",
              "    <tr style=\"text-align: right;\">\n",
              "      <th></th>\n",
              "      <th>ANO_CONCESSAO_BOLSA</th>\n",
              "      <th>MODALIDADE_ENSINO_BOLSA</th>\n",
              "      <th>Total de Bolsas</th>\n",
              "    </tr>\n",
              "  </thead>\n",
              "  <tbody>\n",
              "    <tr>\n",
              "      <th>0</th>\n",
              "      <td>2005</td>\n",
              "      <td>Curso a distância</td>\n",
              "      <td>4743</td>\n",
              "    </tr>\n",
              "    <tr>\n",
              "      <th>1</th>\n",
              "      <td>2005</td>\n",
              "      <td>Integral</td>\n",
              "      <td>3678</td>\n",
              "    </tr>\n",
              "    <tr>\n",
              "      <th>2</th>\n",
              "      <td>2005</td>\n",
              "      <td>Matutino</td>\n",
              "      <td>19462</td>\n",
              "    </tr>\n",
              "    <tr>\n",
              "      <th>3</th>\n",
              "      <td>2005</td>\n",
              "      <td>Noturno</td>\n",
              "      <td>63041</td>\n",
              "    </tr>\n",
              "    <tr>\n",
              "      <th>4</th>\n",
              "      <td>2005</td>\n",
              "      <td>Vespertino</td>\n",
              "      <td>4426</td>\n",
              "    </tr>\n",
              "    <tr>\n",
              "      <th>...</th>\n",
              "      <td>...</td>\n",
              "      <td>...</td>\n",
              "      <td>...</td>\n",
              "    </tr>\n",
              "    <tr>\n",
              "      <th>65</th>\n",
              "      <td>2018</td>\n",
              "      <td>Curso a distância</td>\n",
              "      <td>57328</td>\n",
              "    </tr>\n",
              "    <tr>\n",
              "      <th>66</th>\n",
              "      <td>2018</td>\n",
              "      <td>Integral</td>\n",
              "      <td>6638</td>\n",
              "    </tr>\n",
              "    <tr>\n",
              "      <th>67</th>\n",
              "      <td>2018</td>\n",
              "      <td>Matutino</td>\n",
              "      <td>42909</td>\n",
              "    </tr>\n",
              "    <tr>\n",
              "      <th>68</th>\n",
              "      <td>2018</td>\n",
              "      <td>Noturno</td>\n",
              "      <td>128715</td>\n",
              "    </tr>\n",
              "    <tr>\n",
              "      <th>69</th>\n",
              "      <td>2018</td>\n",
              "      <td>Vespertino</td>\n",
              "      <td>5428</td>\n",
              "    </tr>\n",
              "  </tbody>\n",
              "</table>\n",
              "<p>70 rows × 3 columns</p>\n",
              "</div>"
            ],
            "text/plain": [
              "    ANO_CONCESSAO_BOLSA MODALIDADE_ENSINO_BOLSA  Total de Bolsas\n",
              "0                  2005       Curso a distância             4743\n",
              "1                  2005                Integral             3678\n",
              "2                  2005                Matutino            19462\n",
              "3                  2005                 Noturno            63041\n",
              "4                  2005              Vespertino             4426\n",
              "..                  ...                     ...              ...\n",
              "65                 2018       Curso a distância            57328\n",
              "66                 2018                Integral             6638\n",
              "67                 2018                Matutino            42909\n",
              "68                 2018                 Noturno           128715\n",
              "69                 2018              Vespertino             5428\n",
              "\n",
              "[70 rows x 3 columns]"
            ]
          },
          "metadata": {
            "tags": []
          },
          "execution_count": 118
        }
      ]
    },
    {
      "cell_type": "code",
      "metadata": {
        "colab": {
          "base_uri": "https://localhost:8080/",
          "height": 619
        },
        "id": "wQWEJ_WSbWKi",
        "outputId": "9012dc69-2969-42ac-b2ed-401494b9dd51"
      },
      "source": [
        "colors = ['#a9d6e5','#2ec4b6','#ffd60a','#013a63', '#80ed99']\n",
        "sns.relplot(data=qtd_bolsas_turno.sort_values(by=['ANO_CONCESSAO_BOLSA','Total de Bolsas'] , ascending=False),\n",
        "            x='ANO_CONCESSAO_BOLSA',y='Total de Bolsas',\n",
        "            hue='MODALIDADE_ENSINO_BOLSA',size=\"Total de Bolsas\",\n",
        "            alpha=0.8, sizes=(100, 500), height=8, palette=colors)\n",
        "plt.ylabel('Total de Bolsas', fontsize=12)\n",
        "plt.xlabel('Ano', fontsize=12)"
      ],
      "execution_count": 119,
      "outputs": [
        {
          "output_type": "execute_result",
          "data": {
            "text/plain": [
              "Text(0.5, 6.799999999999997, 'Ano')"
            ]
          },
          "metadata": {
            "tags": []
          },
          "execution_count": 119
        },
        {
          "output_type": "display_data",
          "data": {
            "image/png": "[encoded data removed]",
            "text/plain": [
              "<Figure size 741.125x576 with 1 Axes>"
            ]
          },
          "metadata": {
            "tags": [],
            "needs_background": "light"
          }
        }
      ]
    },
    {
      "cell_type": "code",
      "metadata": {
        "colab": {
          "base_uri": "https://localhost:8080/",
          "height": 419
        },
        "id": "bh_heeA_bWIG",
        "outputId": "3f6e5f93-e109-44cf-9214-cf282758dcc4"
      },
      "source": [
        "qtd_raca_anos = comp[['index','ANO_CONCESSAO_BOLSA','RACA_BENEFICIARIO_BOLSA']].groupby(['ANO_CONCESSAO_BOLSA','RACA_BENEFICIARIO_BOLSA']).agg({'index':'count'}).reset_index()\n",
        "qtd_raca_anos.columns = ['ANO','RACA','TOTAL BOLSAS']\n",
        "qtd_raca_anos"
      ],
      "execution_count": 120,
      "outputs": [
        {
          "output_type": "execute_result",
          "data": {
            "text/html": [
              "<div>\n",
              "<style scoped>\n",
              "    .dataframe tbody tr th:only-of-type {\n",
              "        vertical-align: middle;\n",
              "    }\n",
              "\n",
              "    .dataframe tbody tr th {\n",
              "        vertical-align: top;\n",
              "    }\n",
              "\n",
              "    .dataframe thead th {\n",
              "        text-align: right;\n",
              "    }\n",
              "</style>\n",
              "<table border=\"1\" class=\"dataframe\">\n",
              "  <thead>\n",
              "    <tr style=\"text-align: right;\">\n",
              "      <th></th>\n",
              "      <th>ANO</th>\n",
              "      <th>RACA</th>\n",
              "      <th>TOTAL BOLSAS</th>\n",
              "    </tr>\n",
              "  </thead>\n",
              "  <tbody>\n",
              "    <tr>\n",
              "      <th>0</th>\n",
              "      <td>2005</td>\n",
              "      <td>Amarela</td>\n",
              "      <td>2278</td>\n",
              "    </tr>\n",
              "    <tr>\n",
              "      <th>1</th>\n",
              "      <td>2005</td>\n",
              "      <td>Branca</td>\n",
              "      <td>34435</td>\n",
              "    </tr>\n",
              "    <tr>\n",
              "      <th>2</th>\n",
              "      <td>2005</td>\n",
              "      <td>Indígena</td>\n",
              "      <td>591</td>\n",
              "    </tr>\n",
              "    <tr>\n",
              "      <th>3</th>\n",
              "      <td>2005</td>\n",
              "      <td>Não Informada</td>\n",
              "      <td>22578</td>\n",
              "    </tr>\n",
              "    <tr>\n",
              "      <th>4</th>\n",
              "      <td>2005</td>\n",
              "      <td>Parda</td>\n",
              "      <td>25658</td>\n",
              "    </tr>\n",
              "    <tr>\n",
              "      <th>...</th>\n",
              "      <td>...</td>\n",
              "      <td>...</td>\n",
              "      <td>...</td>\n",
              "    </tr>\n",
              "    <tr>\n",
              "      <th>79</th>\n",
              "      <td>2018</td>\n",
              "      <td>Branca</td>\n",
              "      <td>93249</td>\n",
              "    </tr>\n",
              "    <tr>\n",
              "      <th>80</th>\n",
              "      <td>2018</td>\n",
              "      <td>Indígena</td>\n",
              "      <td>204</td>\n",
              "    </tr>\n",
              "    <tr>\n",
              "      <th>81</th>\n",
              "      <td>2018</td>\n",
              "      <td>Não Informada</td>\n",
              "      <td>22</td>\n",
              "    </tr>\n",
              "    <tr>\n",
              "      <th>82</th>\n",
              "      <td>2018</td>\n",
              "      <td>Parda</td>\n",
              "      <td>112141</td>\n",
              "    </tr>\n",
              "    <tr>\n",
              "      <th>83</th>\n",
              "      <td>2018</td>\n",
              "      <td>Preta</td>\n",
              "      <td>31237</td>\n",
              "    </tr>\n",
              "  </tbody>\n",
              "</table>\n",
              "<p>84 rows × 3 columns</p>\n",
              "</div>"
            ],
            "text/plain": [
              "     ANO           RACA  TOTAL BOLSAS\n",
              "0   2005        Amarela          2278\n",
              "1   2005         Branca         34435\n",
              "2   2005       Indígena           591\n",
              "3   2005  Não Informada         22578\n",
              "4   2005          Parda         25658\n",
              "..   ...            ...           ...\n",
              "79  2018         Branca         93249\n",
              "80  2018       Indígena           204\n",
              "81  2018  Não Informada            22\n",
              "82  2018          Parda        112141\n",
              "83  2018          Preta         31237\n",
              "\n",
              "[84 rows x 3 columns]"
            ]
          },
          "metadata": {
            "tags": []
          },
          "execution_count": 120
        }
      ]
    },
    {
      "cell_type": "code",
      "metadata": {
        "colab": {
          "base_uri": "https://localhost:8080/",
          "height": 623
        },
        "id": "0AfPb82IbWE1",
        "outputId": "2c4f17cd-9cad-40b2-9c3d-2390a1e628e3"
      },
      "source": [
        "sns.lineplot(x=\"ANO\", y=\"TOTAL BOLSAS\", hue='RACA', marker='o', palette=\"rocket\", data=qtd_raca_anos,sizes=(10, 10))"
      ],
      "execution_count": 121,
      "outputs": [
        {
          "output_type": "execute_result",
          "data": {
            "text/plain": [
              "<matplotlib.axes._subplots.AxesSubplot at 0x7f2862844590>"
            ]
          },
          "metadata": {
            "tags": []
          },
          "execution_count": 121
        },
        {
          "output_type": "display_data",
          "data": {
            "image/png": "[encoded data removed]",
            "text/plain": [
              "<Figure size 720x720 with 1 Axes>"
            ]
          },
          "metadata": {
            "tags": [],
            "needs_background": "light"
          }
        }
      ]
    },
    {
      "cell_type": "code",
      "metadata": {
        "colab": {
          "base_uri": "https://localhost:8080/",
          "height": 824
        },
        "id": "SlY4nyfFbWCZ",
        "outputId": "305558e2-951e-4445-940d-91d8a6ea599b"
      },
      "source": [
        "raca_turno_geral = comp.loc[comp['RACA_BENEFICIARIO_BOLSA'] != 'Não Informada']\n",
        "raca_turno_geral = raca_turno_geral[['index','RACA_BENEFICIARIO_BOLSA','NOME_TURNO_CURSO_BOLSA' ]].groupby(['RACA_BENEFICIARIO_BOLSA','NOME_TURNO_CURSO_BOLSA'], as_index=False).agg({'index':'count'}).reset_index()\n",
        "raca_turno_geral.drop(columns='level_0', inplace=True)\n",
        "raca_turno_geral.columns=['Raça', 'Turno', 'Total']\n",
        "raca_turno_geral"
      ],
      "execution_count": 122,
      "outputs": [
        {
          "output_type": "execute_result",
          "data": {
            "text/html": [
              "<div>\n",
              "<style scoped>\n",
              "    .dataframe tbody tr th:only-of-type {\n",
              "        vertical-align: middle;\n",
              "    }\n",
              "\n",
              "    .dataframe tbody tr th {\n",
              "        vertical-align: top;\n",
              "    }\n",
              "\n",
              "    .dataframe thead th {\n",
              "        text-align: right;\n",
              "    }\n",
              "</style>\n",
              "<table border=\"1\" class=\"dataframe\">\n",
              "  <thead>\n",
              "    <tr style=\"text-align: right;\">\n",
              "      <th></th>\n",
              "      <th>Raça</th>\n",
              "      <th>Turno</th>\n",
              "      <th>Total</th>\n",
              "    </tr>\n",
              "  </thead>\n",
              "  <tbody>\n",
              "    <tr>\n",
              "      <th>0</th>\n",
              "      <td>Amarela</td>\n",
              "      <td>Curso a distância</td>\n",
              "      <td>7138</td>\n",
              "    </tr>\n",
              "    <tr>\n",
              "      <th>1</th>\n",
              "      <td>Amarela</td>\n",
              "      <td>Integral</td>\n",
              "      <td>1029</td>\n",
              "    </tr>\n",
              "    <tr>\n",
              "      <th>2</th>\n",
              "      <td>Amarela</td>\n",
              "      <td>Matutino</td>\n",
              "      <td>8527</td>\n",
              "    </tr>\n",
              "    <tr>\n",
              "      <th>3</th>\n",
              "      <td>Amarela</td>\n",
              "      <td>Noturno</td>\n",
              "      <td>25291</td>\n",
              "    </tr>\n",
              "    <tr>\n",
              "      <th>4</th>\n",
              "      <td>Amarela</td>\n",
              "      <td>Vespertino</td>\n",
              "      <td>1413</td>\n",
              "    </tr>\n",
              "    <tr>\n",
              "      <th>5</th>\n",
              "      <td>Branca</td>\n",
              "      <td>Curso a distância</td>\n",
              "      <td>168030</td>\n",
              "    </tr>\n",
              "    <tr>\n",
              "      <th>6</th>\n",
              "      <td>Branca</td>\n",
              "      <td>Integral</td>\n",
              "      <td>38180</td>\n",
              "    </tr>\n",
              "    <tr>\n",
              "      <th>7</th>\n",
              "      <td>Branca</td>\n",
              "      <td>Matutino</td>\n",
              "      <td>186048</td>\n",
              "    </tr>\n",
              "    <tr>\n",
              "      <th>8</th>\n",
              "      <td>Branca</td>\n",
              "      <td>Noturno</td>\n",
              "      <td>660811</td>\n",
              "    </tr>\n",
              "    <tr>\n",
              "      <th>9</th>\n",
              "      <td>Branca</td>\n",
              "      <td>Vespertino</td>\n",
              "      <td>22785</td>\n",
              "    </tr>\n",
              "    <tr>\n",
              "      <th>10</th>\n",
              "      <td>Indígena</td>\n",
              "      <td>Curso a distância</td>\n",
              "      <td>576</td>\n",
              "    </tr>\n",
              "    <tr>\n",
              "      <th>11</th>\n",
              "      <td>Indígena</td>\n",
              "      <td>Integral</td>\n",
              "      <td>99</td>\n",
              "    </tr>\n",
              "    <tr>\n",
              "      <th>12</th>\n",
              "      <td>Indígena</td>\n",
              "      <td>Matutino</td>\n",
              "      <td>458</td>\n",
              "    </tr>\n",
              "    <tr>\n",
              "      <th>13</th>\n",
              "      <td>Indígena</td>\n",
              "      <td>Noturno</td>\n",
              "      <td>1392</td>\n",
              "    </tr>\n",
              "    <tr>\n",
              "      <th>14</th>\n",
              "      <td>Indígena</td>\n",
              "      <td>Vespertino</td>\n",
              "      <td>154</td>\n",
              "    </tr>\n",
              "    <tr>\n",
              "      <th>15</th>\n",
              "      <td>Parda</td>\n",
              "      <td>Curso a distância</td>\n",
              "      <td>193575</td>\n",
              "    </tr>\n",
              "    <tr>\n",
              "      <th>16</th>\n",
              "      <td>Parda</td>\n",
              "      <td>Integral</td>\n",
              "      <td>26013</td>\n",
              "    </tr>\n",
              "    <tr>\n",
              "      <th>17</th>\n",
              "      <td>Parda</td>\n",
              "      <td>Matutino</td>\n",
              "      <td>190202</td>\n",
              "    </tr>\n",
              "    <tr>\n",
              "      <th>18</th>\n",
              "      <td>Parda</td>\n",
              "      <td>Noturno</td>\n",
              "      <td>564462</td>\n",
              "    </tr>\n",
              "    <tr>\n",
              "      <th>19</th>\n",
              "      <td>Parda</td>\n",
              "      <td>Vespertino</td>\n",
              "      <td>33298</td>\n",
              "    </tr>\n",
              "    <tr>\n",
              "      <th>20</th>\n",
              "      <td>Preta</td>\n",
              "      <td>Curso a distância</td>\n",
              "      <td>62551</td>\n",
              "    </tr>\n",
              "    <tr>\n",
              "      <th>21</th>\n",
              "      <td>Preta</td>\n",
              "      <td>Integral</td>\n",
              "      <td>5926</td>\n",
              "    </tr>\n",
              "    <tr>\n",
              "      <th>22</th>\n",
              "      <td>Preta</td>\n",
              "      <td>Matutino</td>\n",
              "      <td>58575</td>\n",
              "    </tr>\n",
              "    <tr>\n",
              "      <th>23</th>\n",
              "      <td>Preta</td>\n",
              "      <td>Noturno</td>\n",
              "      <td>176185</td>\n",
              "    </tr>\n",
              "    <tr>\n",
              "      <th>24</th>\n",
              "      <td>Preta</td>\n",
              "      <td>Vespertino</td>\n",
              "      <td>8901</td>\n",
              "    </tr>\n",
              "  </tbody>\n",
              "</table>\n",
              "</div>"
            ],
            "text/plain": [
              "        Raça              Turno   Total\n",
              "0    Amarela  Curso a distância    7138\n",
              "1    Amarela           Integral    1029\n",
              "2    Amarela           Matutino    8527\n",
              "3    Amarela            Noturno   25291\n",
              "4    Amarela         Vespertino    1413\n",
              "5     Branca  Curso a distância  168030\n",
              "6     Branca           Integral   38180\n",
              "7     Branca           Matutino  186048\n",
              "8     Branca            Noturno  660811\n",
              "9     Branca         Vespertino   22785\n",
              "10  Indígena  Curso a distância     576\n",
              "11  Indígena           Integral      99\n",
              "12  Indígena           Matutino     458\n",
              "13  Indígena            Noturno    1392\n",
              "14  Indígena         Vespertino     154\n",
              "15     Parda  Curso a distância  193575\n",
              "16     Parda           Integral   26013\n",
              "17     Parda           Matutino  190202\n",
              "18     Parda            Noturno  564462\n",
              "19     Parda         Vespertino   33298\n",
              "20     Preta  Curso a distância   62551\n",
              "21     Preta           Integral    5926\n",
              "22     Preta           Matutino   58575\n",
              "23     Preta            Noturno  176185\n",
              "24     Preta         Vespertino    8901"
            ]
          },
          "metadata": {
            "tags": []
          },
          "execution_count": 122
        }
      ]
    },
    {
      "cell_type": "code",
      "metadata": {
        "colab": {
          "base_uri": "https://localhost:8080/",
          "height": 619
        },
        "id": "tSB1z_xkbV_N",
        "outputId": "3b75b15a-58c9-4eae-9edb-49ce0d8f2770"
      },
      "source": [
        "sns.catplot(x=\"Turno\", y=\"Total\", kind='bar', hue=\"Raça\", palette=\"copper_r\", data=raca_turno_geral, height=8)\n",
        "plt.xlabel('Raça por Turnos', fontsize=12)\n",
        "plt.ylabel('Total de Bolsas', fontsize=12)"
      ],
      "execution_count": 123,
      "outputs": [
        {
          "output_type": "execute_result",
          "data": {
            "text/plain": [
              "Text(14.449804687499999, 0.5, 'Total de Bolsas')"
            ]
          },
          "metadata": {
            "tags": []
          },
          "execution_count": 123
        },
        {
          "output_type": "display_data",
          "data": {
            "image/png": "[encoded data removed]",
            "text/plain": [
              "<Figure size 655.5x576 with 1 Axes>"
            ]
          },
          "metadata": {
            "tags": [],
            "needs_background": "light"
          }
        }
      ]
    },
    {
      "cell_type": "code",
      "metadata": {
        "colab": {
          "base_uri": "https://localhost:8080/",
          "height": 419
        },
        "id": "qaDTJzdobV8J",
        "outputId": "8ecc2054-9199-4ca6-f10f-f579c8d5c221"
      },
      "source": [
        "raca_regiao_geral_ano = comp.loc[comp['RACA_BENEFICIARIO_BOLSA'] != 'Não Informada']\n",
        "raca_regiao_geral_ano = raca_regiao_geral_ano[['index','ANO_CONCESSAO_BOLSA','RACA_BENEFICIARIO_BOLSA','REGIAO_BENEFICIARIO_BOLSA' ]].groupby(['ANO_CONCESSAO_BOLSA','RACA_BENEFICIARIO_BOLSA','REGIAO_BENEFICIARIO_BOLSA'], as_index=False).agg({'index':'count'}).reset_index()\n",
        "raca_regiao_geral_ano.drop(columns='level_0', inplace=True)\n",
        "raca_regiao_geral_ano.columns = ['Ano','Raça', 'Região', 'Total']\n",
        "raca_regiao_geral_ano"
      ],
      "execution_count": 124,
      "outputs": [
        {
          "output_type": "execute_result",
          "data": {
            "text/html": [
              "<div>\n",
              "<style scoped>\n",
              "    .dataframe tbody tr th:only-of-type {\n",
              "        vertical-align: middle;\n",
              "    }\n",
              "\n",
              "    .dataframe tbody tr th {\n",
              "        vertical-align: top;\n",
              "    }\n",
              "\n",
              "    .dataframe thead th {\n",
              "        text-align: right;\n",
              "    }\n",
              "</style>\n",
              "<table border=\"1\" class=\"dataframe\">\n",
              "  <thead>\n",
              "    <tr style=\"text-align: right;\">\n",
              "      <th></th>\n",
              "      <th>Ano</th>\n",
              "      <th>Raça</th>\n",
              "      <th>Região</th>\n",
              "      <th>Total</th>\n",
              "    </tr>\n",
              "  </thead>\n",
              "  <tbody>\n",
              "    <tr>\n",
              "      <th>0</th>\n",
              "      <td>2005</td>\n",
              "      <td>Amarela</td>\n",
              "      <td>CENTRO-OESTE</td>\n",
              "      <td>311</td>\n",
              "    </tr>\n",
              "    <tr>\n",
              "      <th>1</th>\n",
              "      <td>2005</td>\n",
              "      <td>Amarela</td>\n",
              "      <td>NORDESTE</td>\n",
              "      <td>413</td>\n",
              "    </tr>\n",
              "    <tr>\n",
              "      <th>2</th>\n",
              "      <td>2005</td>\n",
              "      <td>Amarela</td>\n",
              "      <td>NORTE</td>\n",
              "      <td>196</td>\n",
              "    </tr>\n",
              "    <tr>\n",
              "      <th>3</th>\n",
              "      <td>2005</td>\n",
              "      <td>Amarela</td>\n",
              "      <td>SUDESTE</td>\n",
              "      <td>1097</td>\n",
              "    </tr>\n",
              "    <tr>\n",
              "      <th>4</th>\n",
              "      <td>2005</td>\n",
              "      <td>Amarela</td>\n",
              "      <td>SUL</td>\n",
              "      <td>254</td>\n",
              "    </tr>\n",
              "    <tr>\n",
              "      <th>...</th>\n",
              "      <td>...</td>\n",
              "      <td>...</td>\n",
              "      <td>...</td>\n",
              "      <td>...</td>\n",
              "    </tr>\n",
              "    <tr>\n",
              "      <th>345</th>\n",
              "      <td>2018</td>\n",
              "      <td>Preta</td>\n",
              "      <td>CENTRO-OESTE</td>\n",
              "      <td>3202</td>\n",
              "    </tr>\n",
              "    <tr>\n",
              "      <th>346</th>\n",
              "      <td>2018</td>\n",
              "      <td>Preta</td>\n",
              "      <td>NORDESTE</td>\n",
              "      <td>9165</td>\n",
              "    </tr>\n",
              "    <tr>\n",
              "      <th>347</th>\n",
              "      <td>2018</td>\n",
              "      <td>Preta</td>\n",
              "      <td>NORTE</td>\n",
              "      <td>1931</td>\n",
              "    </tr>\n",
              "    <tr>\n",
              "      <th>348</th>\n",
              "      <td>2018</td>\n",
              "      <td>Preta</td>\n",
              "      <td>SUDESTE</td>\n",
              "      <td>14558</td>\n",
              "    </tr>\n",
              "    <tr>\n",
              "      <th>349</th>\n",
              "      <td>2018</td>\n",
              "      <td>Preta</td>\n",
              "      <td>SUL</td>\n",
              "      <td>2381</td>\n",
              "    </tr>\n",
              "  </tbody>\n",
              "</table>\n",
              "<p>350 rows × 4 columns</p>\n",
              "</div>"
            ],
            "text/plain": [
              "      Ano     Raça        Região  Total\n",
              "0    2005  Amarela  CENTRO-OESTE    311\n",
              "1    2005  Amarela      NORDESTE    413\n",
              "2    2005  Amarela         NORTE    196\n",
              "3    2005  Amarela       SUDESTE   1097\n",
              "4    2005  Amarela           SUL    254\n",
              "..    ...      ...           ...    ...\n",
              "345  2018    Preta  CENTRO-OESTE   3202\n",
              "346  2018    Preta      NORDESTE   9165\n",
              "347  2018    Preta         NORTE   1931\n",
              "348  2018    Preta       SUDESTE  14558\n",
              "349  2018    Preta           SUL   2381\n",
              "\n",
              "[350 rows x 4 columns]"
            ]
          },
          "metadata": {
            "tags": []
          },
          "execution_count": 124
        }
      ]
    },
    {
      "cell_type": "code",
      "metadata": {
        "id": "lJ6ETXrIbV6e"
      },
      "source": [
        "# sns.catplot(x=\"Ano\", y=\"Total\", kind='bar', hue=\"Raça\", row='Região', palette=\"copper_r\", data=raca_regiao_geral_ano, height=8, ci=None)\n",
        "# plt.xlabel('Região', fontsize=12)\n",
        "# plt.ylabel('Total de Bolsas', fontsize=12)"
      ],
      "execution_count": 125,
      "outputs": []
    },
    {
      "cell_type": "code",
      "metadata": {
        "colab": {
          "base_uri": "https://localhost:8080/",
          "height": 824
        },
        "id": "j8sXJ9uPbV2r",
        "outputId": "e9fcb241-676d-48bd-9e3b-8ddc045cb69f"
      },
      "source": [
        "raca_regiao_geral = comp.loc[comp['RACA_BENEFICIARIO_BOLSA'] != 'Não Informada']\n",
        "raca_regiao_geral = raca_regiao_geral[['index','RACA_BENEFICIARIO_BOLSA','REGIAO_BENEFICIARIO_BOLSA' ]].groupby(['RACA_BENEFICIARIO_BOLSA','REGIAO_BENEFICIARIO_BOLSA'], as_index=False).agg({'index':'count'}).reset_index()\n",
        "raca_regiao_geral.drop(columns='level_0', inplace=True)\n",
        "raca_regiao_geral.columns = ['Raça', 'Região', 'Total']\n",
        "raca_regiao_geral"
      ],
      "execution_count": 126,
      "outputs": [
        {
          "output_type": "execute_result",
          "data": {
            "text/html": [
              "<div>\n",
              "<style scoped>\n",
              "    .dataframe tbody tr th:only-of-type {\n",
              "        vertical-align: middle;\n",
              "    }\n",
              "\n",
              "    .dataframe tbody tr th {\n",
              "        vertical-align: top;\n",
              "    }\n",
              "\n",
              "    .dataframe thead th {\n",
              "        text-align: right;\n",
              "    }\n",
              "</style>\n",
              "<table border=\"1\" class=\"dataframe\">\n",
              "  <thead>\n",
              "    <tr style=\"text-align: right;\">\n",
              "      <th></th>\n",
              "      <th>Raça</th>\n",
              "      <th>Região</th>\n",
              "      <th>Total</th>\n",
              "    </tr>\n",
              "  </thead>\n",
              "  <tbody>\n",
              "    <tr>\n",
              "      <th>0</th>\n",
              "      <td>Amarela</td>\n",
              "      <td>CENTRO-OESTE</td>\n",
              "      <td>6892</td>\n",
              "    </tr>\n",
              "    <tr>\n",
              "      <th>1</th>\n",
              "      <td>Amarela</td>\n",
              "      <td>NORDESTE</td>\n",
              "      <td>9683</td>\n",
              "    </tr>\n",
              "    <tr>\n",
              "      <th>2</th>\n",
              "      <td>Amarela</td>\n",
              "      <td>NORTE</td>\n",
              "      <td>3161</td>\n",
              "    </tr>\n",
              "    <tr>\n",
              "      <th>3</th>\n",
              "      <td>Amarela</td>\n",
              "      <td>SUDESTE</td>\n",
              "      <td>18853</td>\n",
              "    </tr>\n",
              "    <tr>\n",
              "      <th>4</th>\n",
              "      <td>Amarela</td>\n",
              "      <td>SUL</td>\n",
              "      <td>4799</td>\n",
              "    </tr>\n",
              "    <tr>\n",
              "      <th>5</th>\n",
              "      <td>Branca</td>\n",
              "      <td>CENTRO-OESTE</td>\n",
              "      <td>66958</td>\n",
              "    </tr>\n",
              "    <tr>\n",
              "      <th>6</th>\n",
              "      <td>Branca</td>\n",
              "      <td>NORDESTE</td>\n",
              "      <td>82943</td>\n",
              "    </tr>\n",
              "    <tr>\n",
              "      <th>7</th>\n",
              "      <td>Branca</td>\n",
              "      <td>NORTE</td>\n",
              "      <td>23568</td>\n",
              "    </tr>\n",
              "    <tr>\n",
              "      <th>8</th>\n",
              "      <td>Branca</td>\n",
              "      <td>SUDESTE</td>\n",
              "      <td>553062</td>\n",
              "    </tr>\n",
              "    <tr>\n",
              "      <th>9</th>\n",
              "      <td>Branca</td>\n",
              "      <td>SUL</td>\n",
              "      <td>349163</td>\n",
              "    </tr>\n",
              "    <tr>\n",
              "      <th>10</th>\n",
              "      <td>Indígena</td>\n",
              "      <td>CENTRO-OESTE</td>\n",
              "      <td>384</td>\n",
              "    </tr>\n",
              "    <tr>\n",
              "      <th>11</th>\n",
              "      <td>Indígena</td>\n",
              "      <td>NORDESTE</td>\n",
              "      <td>670</td>\n",
              "    </tr>\n",
              "    <tr>\n",
              "      <th>12</th>\n",
              "      <td>Indígena</td>\n",
              "      <td>NORTE</td>\n",
              "      <td>607</td>\n",
              "    </tr>\n",
              "    <tr>\n",
              "      <th>13</th>\n",
              "      <td>Indígena</td>\n",
              "      <td>SUDESTE</td>\n",
              "      <td>821</td>\n",
              "    </tr>\n",
              "    <tr>\n",
              "      <th>14</th>\n",
              "      <td>Indígena</td>\n",
              "      <td>SUL</td>\n",
              "      <td>196</td>\n",
              "    </tr>\n",
              "    <tr>\n",
              "      <th>15</th>\n",
              "      <td>Parda</td>\n",
              "      <td>CENTRO-OESTE</td>\n",
              "      <td>118314</td>\n",
              "    </tr>\n",
              "    <tr>\n",
              "      <th>16</th>\n",
              "      <td>Parda</td>\n",
              "      <td>NORDESTE</td>\n",
              "      <td>257370</td>\n",
              "    </tr>\n",
              "    <tr>\n",
              "      <th>17</th>\n",
              "      <td>Parda</td>\n",
              "      <td>NORTE</td>\n",
              "      <td>110585</td>\n",
              "    </tr>\n",
              "    <tr>\n",
              "      <th>18</th>\n",
              "      <td>Parda</td>\n",
              "      <td>SUDESTE</td>\n",
              "      <td>445548</td>\n",
              "    </tr>\n",
              "    <tr>\n",
              "      <th>19</th>\n",
              "      <td>Parda</td>\n",
              "      <td>SUL</td>\n",
              "      <td>75566</td>\n",
              "    </tr>\n",
              "    <tr>\n",
              "      <th>20</th>\n",
              "      <td>Preta</td>\n",
              "      <td>CENTRO-OESTE</td>\n",
              "      <td>33061</td>\n",
              "    </tr>\n",
              "    <tr>\n",
              "      <th>21</th>\n",
              "      <td>Preta</td>\n",
              "      <td>NORDESTE</td>\n",
              "      <td>84432</td>\n",
              "    </tr>\n",
              "    <tr>\n",
              "      <th>22</th>\n",
              "      <td>Preta</td>\n",
              "      <td>NORTE</td>\n",
              "      <td>18594</td>\n",
              "    </tr>\n",
              "    <tr>\n",
              "      <th>23</th>\n",
              "      <td>Preta</td>\n",
              "      <td>SUDESTE</td>\n",
              "      <td>153459</td>\n",
              "    </tr>\n",
              "    <tr>\n",
              "      <th>24</th>\n",
              "      <td>Preta</td>\n",
              "      <td>SUL</td>\n",
              "      <td>22544</td>\n",
              "    </tr>\n",
              "  </tbody>\n",
              "</table>\n",
              "</div>"
            ],
            "text/plain": [
              "        Raça        Região   Total\n",
              "0    Amarela  CENTRO-OESTE    6892\n",
              "1    Amarela      NORDESTE    9683\n",
              "2    Amarela         NORTE    3161\n",
              "3    Amarela       SUDESTE   18853\n",
              "4    Amarela           SUL    4799\n",
              "5     Branca  CENTRO-OESTE   66958\n",
              "6     Branca      NORDESTE   82943\n",
              "7     Branca         NORTE   23568\n",
              "8     Branca       SUDESTE  553062\n",
              "9     Branca           SUL  349163\n",
              "10  Indígena  CENTRO-OESTE     384\n",
              "11  Indígena      NORDESTE     670\n",
              "12  Indígena         NORTE     607\n",
              "13  Indígena       SUDESTE     821\n",
              "14  Indígena           SUL     196\n",
              "15     Parda  CENTRO-OESTE  118314\n",
              "16     Parda      NORDESTE  257370\n",
              "17     Parda         NORTE  110585\n",
              "18     Parda       SUDESTE  445548\n",
              "19     Parda           SUL   75566\n",
              "20     Preta  CENTRO-OESTE   33061\n",
              "21     Preta      NORDESTE   84432\n",
              "22     Preta         NORTE   18594\n",
              "23     Preta       SUDESTE  153459\n",
              "24     Preta           SUL   22544"
            ]
          },
          "metadata": {
            "tags": []
          },
          "execution_count": 126
        }
      ]
    },
    {
      "cell_type": "code",
      "metadata": {
        "colab": {
          "base_uri": "https://localhost:8080/",
          "height": 619
        },
        "id": "69dnp-ZEbVzv",
        "outputId": "14cec3e8-3968-4e57-c504-7e466f4aa5c2"
      },
      "source": [
        "sns.catplot(x=\"Região\", y=\"Total\", kind='bar', hue=\"Raça\", palette=\"copper_r\", data=raca_regiao_geral, height=8)\n",
        "plt.xlabel('Raça por Turnos', fontsize=12)\n",
        "plt.ylabel('Total de Bolsas', fontsize=12)"
      ],
      "execution_count": 127,
      "outputs": [
        {
          "output_type": "execute_result",
          "data": {
            "text/plain": [
              "Text(14.449804687499999, 0.5, 'Total de Bolsas')"
            ]
          },
          "metadata": {
            "tags": []
          },
          "execution_count": 127
        },
        {
          "output_type": "display_data",
          "data": {
            "image/png": "[encoded data removed]",
            "text/plain": [
              "<Figure size 655.5x576 with 1 Axes>"
            ]
          },
          "metadata": {
            "tags": [],
            "needs_background": "light"
          }
        }
      ]
    },
    {
      "cell_type": "code",
      "metadata": {
        "colab": {
          "base_uri": "https://localhost:8080/",
          "height": 917
        },
        "id": "J74tZAMXbVwl",
        "outputId": "97ef311d-afdf-40c1-f893-67dc5c6ebdf2"
      },
      "source": [
        "qtd_sexo_anos = comp[['index','ANO_CONCESSAO_BOLSA','SEXO_BENEFICIARIO_BOLSA']].groupby(['ANO_CONCESSAO_BOLSA','SEXO_BENEFICIARIO_BOLSA'], as_index=False).agg({'index':'count'}).reset_index()\n",
        "qtd_sexo_anos.drop(columns=['level_0'], inplace=True)\n",
        "qtd_sexo_anos.columns = ['Ano','Sexo','Total']\n",
        "qtd_sexo_anos"
      ],
      "execution_count": 128,
      "outputs": [
        {
          "output_type": "execute_result",
          "data": {
            "text/html": [
              "<div>\n",
              "<style scoped>\n",
              "    .dataframe tbody tr th:only-of-type {\n",
              "        vertical-align: middle;\n",
              "    }\n",
              "\n",
              "    .dataframe tbody tr th {\n",
              "        vertical-align: top;\n",
              "    }\n",
              "\n",
              "    .dataframe thead th {\n",
              "        text-align: right;\n",
              "    }\n",
              "</style>\n",
              "<table border=\"1\" class=\"dataframe\">\n",
              "  <thead>\n",
              "    <tr style=\"text-align: right;\">\n",
              "      <th></th>\n",
              "      <th>Ano</th>\n",
              "      <th>Sexo</th>\n",
              "      <th>Total</th>\n",
              "    </tr>\n",
              "  </thead>\n",
              "  <tbody>\n",
              "    <tr>\n",
              "      <th>0</th>\n",
              "      <td>2005</td>\n",
              "      <td>Feminino</td>\n",
              "      <td>59362</td>\n",
              "    </tr>\n",
              "    <tr>\n",
              "      <th>1</th>\n",
              "      <td>2005</td>\n",
              "      <td>Masculino</td>\n",
              "      <td>35988</td>\n",
              "    </tr>\n",
              "    <tr>\n",
              "      <th>2</th>\n",
              "      <td>2006</td>\n",
              "      <td>Feminino</td>\n",
              "      <td>62455</td>\n",
              "    </tr>\n",
              "    <tr>\n",
              "      <th>3</th>\n",
              "      <td>2006</td>\n",
              "      <td>Masculino</td>\n",
              "      <td>46025</td>\n",
              "    </tr>\n",
              "    <tr>\n",
              "      <th>4</th>\n",
              "      <td>2007</td>\n",
              "      <td>Feminino</td>\n",
              "      <td>31069</td>\n",
              "    </tr>\n",
              "    <tr>\n",
              "      <th>5</th>\n",
              "      <td>2007</td>\n",
              "      <td>Masculino</td>\n",
              "      <td>74461</td>\n",
              "    </tr>\n",
              "    <tr>\n",
              "      <th>6</th>\n",
              "      <td>2008</td>\n",
              "      <td>Feminino</td>\n",
              "      <td>37144</td>\n",
              "    </tr>\n",
              "    <tr>\n",
              "      <th>7</th>\n",
              "      <td>2008</td>\n",
              "      <td>Masculino</td>\n",
              "      <td>87390</td>\n",
              "    </tr>\n",
              "    <tr>\n",
              "      <th>8</th>\n",
              "      <td>2009</td>\n",
              "      <td>Feminino</td>\n",
              "      <td>92349</td>\n",
              "    </tr>\n",
              "    <tr>\n",
              "      <th>9</th>\n",
              "      <td>2009</td>\n",
              "      <td>Masculino</td>\n",
              "      <td>68761</td>\n",
              "    </tr>\n",
              "    <tr>\n",
              "      <th>10</th>\n",
              "      <td>2010</td>\n",
              "      <td>Feminino</td>\n",
              "      <td>88316</td>\n",
              "    </tr>\n",
              "    <tr>\n",
              "      <th>11</th>\n",
              "      <td>2010</td>\n",
              "      <td>Masculino</td>\n",
              "      <td>64344</td>\n",
              "    </tr>\n",
              "    <tr>\n",
              "      <th>12</th>\n",
              "      <td>2011</td>\n",
              "      <td>Feminino</td>\n",
              "      <td>96326</td>\n",
              "    </tr>\n",
              "    <tr>\n",
              "      <th>13</th>\n",
              "      <td>2011</td>\n",
              "      <td>Masculino</td>\n",
              "      <td>74365</td>\n",
              "    </tr>\n",
              "    <tr>\n",
              "      <th>14</th>\n",
              "      <td>2012</td>\n",
              "      <td>Feminino</td>\n",
              "      <td>99633</td>\n",
              "    </tr>\n",
              "    <tr>\n",
              "      <th>15</th>\n",
              "      <td>2012</td>\n",
              "      <td>Masculino</td>\n",
              "      <td>77039</td>\n",
              "    </tr>\n",
              "    <tr>\n",
              "      <th>16</th>\n",
              "      <td>2013</td>\n",
              "      <td>Feminino</td>\n",
              "      <td>96448</td>\n",
              "    </tr>\n",
              "    <tr>\n",
              "      <th>17</th>\n",
              "      <td>2013</td>\n",
              "      <td>Masculino</td>\n",
              "      <td>80789</td>\n",
              "    </tr>\n",
              "    <tr>\n",
              "      <th>18</th>\n",
              "      <td>2014</td>\n",
              "      <td>Feminino</td>\n",
              "      <td>126775</td>\n",
              "    </tr>\n",
              "    <tr>\n",
              "      <th>19</th>\n",
              "      <td>2014</td>\n",
              "      <td>Masculino</td>\n",
              "      <td>96732</td>\n",
              "    </tr>\n",
              "    <tr>\n",
              "      <th>20</th>\n",
              "      <td>2015</td>\n",
              "      <td>Feminino</td>\n",
              "      <td>140374</td>\n",
              "    </tr>\n",
              "    <tr>\n",
              "      <th>21</th>\n",
              "      <td>2015</td>\n",
              "      <td>Masculino</td>\n",
              "      <td>112213</td>\n",
              "    </tr>\n",
              "    <tr>\n",
              "      <th>22</th>\n",
              "      <td>2016</td>\n",
              "      <td>Feminino</td>\n",
              "      <td>131171</td>\n",
              "    </tr>\n",
              "    <tr>\n",
              "      <th>23</th>\n",
              "      <td>2016</td>\n",
              "      <td>Masculino</td>\n",
              "      <td>108044</td>\n",
              "    </tr>\n",
              "    <tr>\n",
              "      <th>24</th>\n",
              "      <td>2017</td>\n",
              "      <td>Feminino</td>\n",
              "      <td>128942</td>\n",
              "    </tr>\n",
              "    <tr>\n",
              "      <th>25</th>\n",
              "      <td>2017</td>\n",
              "      <td>Masculino</td>\n",
              "      <td>107647</td>\n",
              "    </tr>\n",
              "    <tr>\n",
              "      <th>26</th>\n",
              "      <td>2018</td>\n",
              "      <td>Feminino</td>\n",
              "      <td>136020</td>\n",
              "    </tr>\n",
              "    <tr>\n",
              "      <th>27</th>\n",
              "      <td>2018</td>\n",
              "      <td>Masculino</td>\n",
              "      <td>104998</td>\n",
              "    </tr>\n",
              "  </tbody>\n",
              "</table>\n",
              "</div>"
            ],
            "text/plain": [
              "     Ano       Sexo   Total\n",
              "0   2005   Feminino   59362\n",
              "1   2005  Masculino   35988\n",
              "2   2006   Feminino   62455\n",
              "3   2006  Masculino   46025\n",
              "4   2007   Feminino   31069\n",
              "5   2007  Masculino   74461\n",
              "6   2008   Feminino   37144\n",
              "7   2008  Masculino   87390\n",
              "8   2009   Feminino   92349\n",
              "9   2009  Masculino   68761\n",
              "10  2010   Feminino   88316\n",
              "11  2010  Masculino   64344\n",
              "12  2011   Feminino   96326\n",
              "13  2011  Masculino   74365\n",
              "14  2012   Feminino   99633\n",
              "15  2012  Masculino   77039\n",
              "16  2013   Feminino   96448\n",
              "17  2013  Masculino   80789\n",
              "18  2014   Feminino  126775\n",
              "19  2014  Masculino   96732\n",
              "20  2015   Feminino  140374\n",
              "21  2015  Masculino  112213\n",
              "22  2016   Feminino  131171\n",
              "23  2016  Masculino  108044\n",
              "24  2017   Feminino  128942\n",
              "25  2017  Masculino  107647\n",
              "26  2018   Feminino  136020\n",
              "27  2018  Masculino  104998"
            ]
          },
          "metadata": {
            "tags": []
          },
          "execution_count": 128
        }
      ]
    },
    {
      "cell_type": "code",
      "metadata": {
        "colab": {
          "base_uri": "https://localhost:8080/",
          "height": 606
        },
        "id": "FwtqYcA4bVt6",
        "outputId": "dd99359d-ebfc-4d51-f1d0-ff44106e2c6e"
      },
      "source": [
        "sns.lineplot(x=\"Ano\", y=\"Total\", hue='Sexo', marker='o', palette=\"rocket\", data=qtd_sexo_anos)\n",
        "plt.rcParams['figure.figsize']=(20,15)"
      ],
      "execution_count": 129,
      "outputs": [
        {
          "output_type": "display_data",
          "data": {
            "image/png": "[encoded data removed]",
            "text/plain": [
              "<Figure size 720x720 with 1 Axes>"
            ]
          },
          "metadata": {
            "tags": [],
            "needs_background": "light"
          }
        }
      ]
    },
    {
      "cell_type": "code",
      "metadata": {
        "colab": {
          "base_uri": "https://localhost:8080/",
          "height": 1000
        },
        "id": "1lNXpH7KbVsO",
        "outputId": "6901202a-3d15-4ebf-f632-305b090d392d"
      },
      "source": [
        "qtd_sexo_uf = (comp[['index','SIGLA_UF_BENEFICIARIO_BOLSA','SEXO_BENEFICIARIO_BOLSA']]\n",
        "               .groupby(['SIGLA_UF_BENEFICIARIO_BOLSA','SEXO_BENEFICIARIO_BOLSA'],as_index=False)\n",
        "               .agg({'index':'count'}).reset_index())\n",
        "qtd_sexo_uf.drop(columns=['level_0'], inplace=True)\n",
        "qtd_sexo_uf.columns = ['SIGLA_UF_BENEFICIARIO_BOLSA','SEXO_BENEFICIARIO_BOLSA','Total de Bolsas']\n",
        "qtd_sexo_uf.sort_values(by='Total de Bolsas', ascending=False)"
      ],
      "execution_count": 130,
      "outputs": [
        {
          "output_type": "execute_result",
          "data": {
            "text/html": [
              "<div>\n",
              "<style scoped>\n",
              "    .dataframe tbody tr th:only-of-type {\n",
              "        vertical-align: middle;\n",
              "    }\n",
              "\n",
              "    .dataframe tbody tr th {\n",
              "        vertical-align: top;\n",
              "    }\n",
              "\n",
              "    .dataframe thead th {\n",
              "        text-align: right;\n",
              "    }\n",
              "</style>\n",
              "<table border=\"1\" class=\"dataframe\">\n",
              "  <thead>\n",
              "    <tr style=\"text-align: right;\">\n",
              "      <th></th>\n",
              "      <th>SIGLA_UF_BENEFICIARIO_BOLSA</th>\n",
              "      <th>SEXO_BENEFICIARIO_BOLSA</th>\n",
              "      <th>Total de Bolsas</th>\n",
              "    </tr>\n",
              "  </thead>\n",
              "  <tbody>\n",
              "    <tr>\n",
              "      <th>50</th>\n",
              "      <td>SP</td>\n",
              "      <td>Feminino</td>\n",
              "      <td>380195</td>\n",
              "    </tr>\n",
              "    <tr>\n",
              "      <th>51</th>\n",
              "      <td>SP</td>\n",
              "      <td>Masculino</td>\n",
              "      <td>321379</td>\n",
              "    </tr>\n",
              "    <tr>\n",
              "      <th>20</th>\n",
              "      <td>MG</td>\n",
              "      <td>Feminino</td>\n",
              "      <td>162934</td>\n",
              "    </tr>\n",
              "    <tr>\n",
              "      <th>21</th>\n",
              "      <td>MG</td>\n",
              "      <td>Masculino</td>\n",
              "      <td>137444</td>\n",
              "    </tr>\n",
              "    <tr>\n",
              "      <th>44</th>\n",
              "      <td>RS</td>\n",
              "      <td>Feminino</td>\n",
              "      <td>108485</td>\n",
              "    </tr>\n",
              "    <tr>\n",
              "      <th>34</th>\n",
              "      <td>PR</td>\n",
              "      <td>Feminino</td>\n",
              "      <td>95907</td>\n",
              "    </tr>\n",
              "    <tr>\n",
              "      <th>45</th>\n",
              "      <td>RS</td>\n",
              "      <td>Masculino</td>\n",
              "      <td>85767</td>\n",
              "    </tr>\n",
              "    <tr>\n",
              "      <th>35</th>\n",
              "      <td>PR</td>\n",
              "      <td>Masculino</td>\n",
              "      <td>84870</td>\n",
              "    </tr>\n",
              "    <tr>\n",
              "      <th>8</th>\n",
              "      <td>BA</td>\n",
              "      <td>Feminino</td>\n",
              "      <td>75865</td>\n",
              "    </tr>\n",
              "    <tr>\n",
              "      <th>36</th>\n",
              "      <td>RJ</td>\n",
              "      <td>Feminino</td>\n",
              "      <td>74445</td>\n",
              "    </tr>\n",
              "    <tr>\n",
              "      <th>9</th>\n",
              "      <td>BA</td>\n",
              "      <td>Masculino</td>\n",
              "      <td>68062</td>\n",
              "    </tr>\n",
              "    <tr>\n",
              "      <th>37</th>\n",
              "      <td>RJ</td>\n",
              "      <td>Masculino</td>\n",
              "      <td>64837</td>\n",
              "    </tr>\n",
              "    <tr>\n",
              "      <th>46</th>\n",
              "      <td>SC</td>\n",
              "      <td>Feminino</td>\n",
              "      <td>47763</td>\n",
              "    </tr>\n",
              "    <tr>\n",
              "      <th>16</th>\n",
              "      <td>GO</td>\n",
              "      <td>Feminino</td>\n",
              "      <td>45898</td>\n",
              "    </tr>\n",
              "    <tr>\n",
              "      <th>17</th>\n",
              "      <td>GO</td>\n",
              "      <td>Masculino</td>\n",
              "      <td>36921</td>\n",
              "    </tr>\n",
              "    <tr>\n",
              "      <th>12</th>\n",
              "      <td>DF</td>\n",
              "      <td>Feminino</td>\n",
              "      <td>35849</td>\n",
              "    </tr>\n",
              "    <tr>\n",
              "      <th>47</th>\n",
              "      <td>SC</td>\n",
              "      <td>Masculino</td>\n",
              "      <td>34091</td>\n",
              "    </tr>\n",
              "    <tr>\n",
              "      <th>31</th>\n",
              "      <td>PE</td>\n",
              "      <td>Masculino</td>\n",
              "      <td>33044</td>\n",
              "    </tr>\n",
              "    <tr>\n",
              "      <th>30</th>\n",
              "      <td>PE</td>\n",
              "      <td>Feminino</td>\n",
              "      <td>32716</td>\n",
              "    </tr>\n",
              "    <tr>\n",
              "      <th>18</th>\n",
              "      <td>MA</td>\n",
              "      <td>Feminino</td>\n",
              "      <td>30994</td>\n",
              "    </tr>\n",
              "    <tr>\n",
              "      <th>13</th>\n",
              "      <td>DF</td>\n",
              "      <td>Masculino</td>\n",
              "      <td>30862</td>\n",
              "    </tr>\n",
              "    <tr>\n",
              "      <th>11</th>\n",
              "      <td>CE</td>\n",
              "      <td>Masculino</td>\n",
              "      <td>30031</td>\n",
              "    </tr>\n",
              "    <tr>\n",
              "      <th>10</th>\n",
              "      <td>CE</td>\n",
              "      <td>Feminino</td>\n",
              "      <td>28024</td>\n",
              "    </tr>\n",
              "    <tr>\n",
              "      <th>26</th>\n",
              "      <td>PA</td>\n",
              "      <td>Feminino</td>\n",
              "      <td>27047</td>\n",
              "    </tr>\n",
              "    <tr>\n",
              "      <th>19</th>\n",
              "      <td>MA</td>\n",
              "      <td>Masculino</td>\n",
              "      <td>26698</td>\n",
              "    </tr>\n",
              "    <tr>\n",
              "      <th>27</th>\n",
              "      <td>PA</td>\n",
              "      <td>Masculino</td>\n",
              "      <td>25464</td>\n",
              "    </tr>\n",
              "    <tr>\n",
              "      <th>14</th>\n",
              "      <td>ES</td>\n",
              "      <td>Feminino</td>\n",
              "      <td>23646</td>\n",
              "    </tr>\n",
              "    <tr>\n",
              "      <th>24</th>\n",
              "      <td>MT</td>\n",
              "      <td>Feminino</td>\n",
              "      <td>21956</td>\n",
              "    </tr>\n",
              "    <tr>\n",
              "      <th>4</th>\n",
              "      <td>AM</td>\n",
              "      <td>Feminino</td>\n",
              "      <td>21428</td>\n",
              "    </tr>\n",
              "    <tr>\n",
              "      <th>22</th>\n",
              "      <td>MS</td>\n",
              "      <td>Feminino</td>\n",
              "      <td>21393</td>\n",
              "    </tr>\n",
              "    <tr>\n",
              "      <th>15</th>\n",
              "      <td>ES</td>\n",
              "      <td>Masculino</td>\n",
              "      <td>19668</td>\n",
              "    </tr>\n",
              "    <tr>\n",
              "      <th>5</th>\n",
              "      <td>AM</td>\n",
              "      <td>Masculino</td>\n",
              "      <td>19250</td>\n",
              "    </tr>\n",
              "    <tr>\n",
              "      <th>23</th>\n",
              "      <td>MS</td>\n",
              "      <td>Masculino</td>\n",
              "      <td>17590</td>\n",
              "    </tr>\n",
              "    <tr>\n",
              "      <th>25</th>\n",
              "      <td>MT</td>\n",
              "      <td>Masculino</td>\n",
              "      <td>17135</td>\n",
              "    </tr>\n",
              "    <tr>\n",
              "      <th>40</th>\n",
              "      <td>RO</td>\n",
              "      <td>Feminino</td>\n",
              "      <td>15819</td>\n",
              "    </tr>\n",
              "    <tr>\n",
              "      <th>38</th>\n",
              "      <td>RN</td>\n",
              "      <td>Feminino</td>\n",
              "      <td>15704</td>\n",
              "    </tr>\n",
              "    <tr>\n",
              "      <th>39</th>\n",
              "      <td>RN</td>\n",
              "      <td>Masculino</td>\n",
              "      <td>15698</td>\n",
              "    </tr>\n",
              "    <tr>\n",
              "      <th>29</th>\n",
              "      <td>PB</td>\n",
              "      <td>Masculino</td>\n",
              "      <td>13357</td>\n",
              "    </tr>\n",
              "    <tr>\n",
              "      <th>41</th>\n",
              "      <td>RO</td>\n",
              "      <td>Masculino</td>\n",
              "      <td>12712</td>\n",
              "    </tr>\n",
              "    <tr>\n",
              "      <th>28</th>\n",
              "      <td>PB</td>\n",
              "      <td>Feminino</td>\n",
              "      <td>12241</td>\n",
              "    </tr>\n",
              "    <tr>\n",
              "      <th>32</th>\n",
              "      <td>PI</td>\n",
              "      <td>Feminino</td>\n",
              "      <td>11703</td>\n",
              "    </tr>\n",
              "    <tr>\n",
              "      <th>33</th>\n",
              "      <td>PI</td>\n",
              "      <td>Masculino</td>\n",
              "      <td>10315</td>\n",
              "    </tr>\n",
              "    <tr>\n",
              "      <th>48</th>\n",
              "      <td>SE</td>\n",
              "      <td>Feminino</td>\n",
              "      <td>10041</td>\n",
              "    </tr>\n",
              "    <tr>\n",
              "      <th>49</th>\n",
              "      <td>SE</td>\n",
              "      <td>Masculino</td>\n",
              "      <td>9429</td>\n",
              "    </tr>\n",
              "    <tr>\n",
              "      <th>3</th>\n",
              "      <td>AL</td>\n",
              "      <td>Masculino</td>\n",
              "      <td>6970</td>\n",
              "    </tr>\n",
              "    <tr>\n",
              "      <th>2</th>\n",
              "      <td>AL</td>\n",
              "      <td>Feminino</td>\n",
              "      <td>6969</td>\n",
              "    </tr>\n",
              "    <tr>\n",
              "      <th>52</th>\n",
              "      <td>TO</td>\n",
              "      <td>Feminino</td>\n",
              "      <td>6759</td>\n",
              "    </tr>\n",
              "    <tr>\n",
              "      <th>53</th>\n",
              "      <td>TO</td>\n",
              "      <td>Masculino</td>\n",
              "      <td>5845</td>\n",
              "    </tr>\n",
              "    <tr>\n",
              "      <th>0</th>\n",
              "      <td>AC</td>\n",
              "      <td>Feminino</td>\n",
              "      <td>5170</td>\n",
              "    </tr>\n",
              "    <tr>\n",
              "      <th>1</th>\n",
              "      <td>AC</td>\n",
              "      <td>Masculino</td>\n",
              "      <td>4810</td>\n",
              "    </tr>\n",
              "    <tr>\n",
              "      <th>6</th>\n",
              "      <td>AP</td>\n",
              "      <td>Feminino</td>\n",
              "      <td>4295</td>\n",
              "    </tr>\n",
              "    <tr>\n",
              "      <th>7</th>\n",
              "      <td>AP</td>\n",
              "      <td>Masculino</td>\n",
              "      <td>4071</td>\n",
              "    </tr>\n",
              "    <tr>\n",
              "      <th>42</th>\n",
              "      <td>RR</td>\n",
              "      <td>Feminino</td>\n",
              "      <td>2915</td>\n",
              "    </tr>\n",
              "    <tr>\n",
              "      <th>43</th>\n",
              "      <td>RR</td>\n",
              "      <td>Masculino</td>\n",
              "      <td>2301</td>\n",
              "    </tr>\n",
              "  </tbody>\n",
              "</table>\n",
              "</div>"
            ],
            "text/plain": [
              "   SIGLA_UF_BENEFICIARIO_BOLSA SEXO_BENEFICIARIO_BOLSA  Total de Bolsas\n",
              "50                          SP                Feminino           380195\n",
              "51                          SP               Masculino           321379\n",
              "20                          MG                Feminino           162934\n",
              "21                          MG               Masculino           137444\n",
              "44                          RS                Feminino           108485\n",
              "34                          PR                Feminino            95907\n",
              "45                          RS               Masculino            85767\n",
              "35                          PR               Masculino            84870\n",
              "8                           BA                Feminino            75865\n",
              "36                          RJ                Feminino            74445\n",
              "9                           BA               Masculino            68062\n",
              "37                          RJ               Masculino            64837\n",
              "46                          SC                Feminino            47763\n",
              "16                          GO                Feminino            45898\n",
              "17                          GO               Masculino            36921\n",
              "12                          DF                Feminino            35849\n",
              "47                          SC               Masculino            34091\n",
              "31                          PE               Masculino            33044\n",
              "30                          PE                Feminino            32716\n",
              "18                          MA                Feminino            30994\n",
              "13                          DF               Masculino            30862\n",
              "11                          CE               Masculino            30031\n",
              "10                          CE                Feminino            28024\n",
              "26                          PA                Feminino            27047\n",
              "19                          MA               Masculino            26698\n",
              "27                          PA               Masculino            25464\n",
              "14                          ES                Feminino            23646\n",
              "24                          MT                Feminino            21956\n",
              "4                           AM                Feminino            21428\n",
              "22                          MS                Feminino            21393\n",
              "15                          ES               Masculino            19668\n",
              "5                           AM               Masculino            19250\n",
              "23                          MS               Masculino            17590\n",
              "25                          MT               Masculino            17135\n",
              "40                          RO                Feminino            15819\n",
              "38                          RN                Feminino            15704\n",
              "39                          RN               Masculino            15698\n",
              "29                          PB               Masculino            13357\n",
              "41                          RO               Masculino            12712\n",
              "28                          PB                Feminino            12241\n",
              "32                          PI                Feminino            11703\n",
              "33                          PI               Masculino            10315\n",
              "48                          SE                Feminino            10041\n",
              "49                          SE               Masculino             9429\n",
              "3                           AL               Masculino             6970\n",
              "2                           AL                Feminino             6969\n",
              "52                          TO                Feminino             6759\n",
              "53                          TO               Masculino             5845\n",
              "0                           AC                Feminino             5170\n",
              "1                           AC               Masculino             4810\n",
              "6                           AP                Feminino             4295\n",
              "7                           AP               Masculino             4071\n",
              "42                          RR                Feminino             2915\n",
              "43                          RR               Masculino             2301"
            ]
          },
          "metadata": {
            "tags": []
          },
          "execution_count": 130
        }
      ]
    },
    {
      "cell_type": "code",
      "metadata": {
        "colab": {
          "base_uri": "https://localhost:8080/",
          "height": 905
        },
        "id": "0z_1PfEydBo6",
        "outputId": "bdcae158-8798-43aa-9873-04c82311234f"
      },
      "source": [
        "sns.catplot(x=\"SIGLA_UF_BENEFICIARIO_BOLSA\", y=\"Total de Bolsas\", kind='bar', hue=\"SEXO_BENEFICIARIO_BOLSA\", palette=\"crest\",data=qtd_sexo_uf, height=12)"
      ],
      "execution_count": 131,
      "outputs": [
        {
          "output_type": "execute_result",
          "data": {
            "text/plain": [
              "<seaborn.axisgrid.FacetGrid at 0x7f285e83dcd0>"
            ]
          },
          "metadata": {
            "tags": []
          },
          "execution_count": 131
        },
        {
          "output_type": "display_data",
          "data": {
            "image/png": "[encoded data removed]",
            "text/plain": [
              "<Figure size 1011.38x864 with 1 Axes>"
            ]
          },
          "metadata": {
            "tags": [],
            "needs_background": "light"
          }
        }
      ]
    },
    {
      "cell_type": "code",
      "metadata": {
        "colab": {
          "base_uri": "https://localhost:8080/",
          "height": 917
        },
        "id": "xBZY6eMwdBm0",
        "outputId": "2e6b8bd6-af1c-4e43-ac68-6df8d728d98a"
      },
      "source": [
        "qtd_df_anos = (comp[['index','ANO_CONCESSAO_BOLSA','BENEFICIARIO_DEFICIENTE_FISICO']]\n",
        "                    .groupby(['ANO_CONCESSAO_BOLSA','BENEFICIARIO_DEFICIENTE_FISICO'], as_index=False)\n",
        "                    .agg({'index':'count'}).reset_index())\n",
        "qtd_df_anos.drop(columns=['level_0'], inplace=True)\n",
        "qtd_df_anos.columns = ['ANO_CONCESSAO_BOLSA','BENEFICIARIO_DEFICIENTE_FISICO','Total de Bolsas']\n",
        "qtd_df_anos"
      ],
      "execution_count": 132,
      "outputs": [
        {
          "output_type": "execute_result",
          "data": {
            "text/html": [
              "<div>\n",
              "<style scoped>\n",
              "    .dataframe tbody tr th:only-of-type {\n",
              "        vertical-align: middle;\n",
              "    }\n",
              "\n",
              "    .dataframe tbody tr th {\n",
              "        vertical-align: top;\n",
              "    }\n",
              "\n",
              "    .dataframe thead th {\n",
              "        text-align: right;\n",
              "    }\n",
              "</style>\n",
              "<table border=\"1\" class=\"dataframe\">\n",
              "  <thead>\n",
              "    <tr style=\"text-align: right;\">\n",
              "      <th></th>\n",
              "      <th>ANO_CONCESSAO_BOLSA</th>\n",
              "      <th>BENEFICIARIO_DEFICIENTE_FISICO</th>\n",
              "      <th>Total de Bolsas</th>\n",
              "    </tr>\n",
              "  </thead>\n",
              "  <tbody>\n",
              "    <tr>\n",
              "      <th>0</th>\n",
              "      <td>2005</td>\n",
              "      <td>NÃO</td>\n",
              "      <td>94396</td>\n",
              "    </tr>\n",
              "    <tr>\n",
              "      <th>1</th>\n",
              "      <td>2005</td>\n",
              "      <td>SIM</td>\n",
              "      <td>954</td>\n",
              "    </tr>\n",
              "    <tr>\n",
              "      <th>2</th>\n",
              "      <td>2006</td>\n",
              "      <td>NÃO</td>\n",
              "      <td>107491</td>\n",
              "    </tr>\n",
              "    <tr>\n",
              "      <th>3</th>\n",
              "      <td>2006</td>\n",
              "      <td>SIM</td>\n",
              "      <td>989</td>\n",
              "    </tr>\n",
              "    <tr>\n",
              "      <th>4</th>\n",
              "      <td>2007</td>\n",
              "      <td>NÃO</td>\n",
              "      <td>105000</td>\n",
              "    </tr>\n",
              "    <tr>\n",
              "      <th>5</th>\n",
              "      <td>2007</td>\n",
              "      <td>SIM</td>\n",
              "      <td>530</td>\n",
              "    </tr>\n",
              "    <tr>\n",
              "      <th>6</th>\n",
              "      <td>2008</td>\n",
              "      <td>NÃO</td>\n",
              "      <td>123917</td>\n",
              "    </tr>\n",
              "    <tr>\n",
              "      <th>7</th>\n",
              "      <td>2008</td>\n",
              "      <td>SIM</td>\n",
              "      <td>617</td>\n",
              "    </tr>\n",
              "    <tr>\n",
              "      <th>8</th>\n",
              "      <td>2009</td>\n",
              "      <td>NÃO</td>\n",
              "      <td>160248</td>\n",
              "    </tr>\n",
              "    <tr>\n",
              "      <th>9</th>\n",
              "      <td>2009</td>\n",
              "      <td>SIM</td>\n",
              "      <td>862</td>\n",
              "    </tr>\n",
              "    <tr>\n",
              "      <th>10</th>\n",
              "      <td>2010</td>\n",
              "      <td>NÃO</td>\n",
              "      <td>151735</td>\n",
              "    </tr>\n",
              "    <tr>\n",
              "      <th>11</th>\n",
              "      <td>2010</td>\n",
              "      <td>SIM</td>\n",
              "      <td>925</td>\n",
              "    </tr>\n",
              "    <tr>\n",
              "      <th>12</th>\n",
              "      <td>2011</td>\n",
              "      <td>NÃO</td>\n",
              "      <td>169625</td>\n",
              "    </tr>\n",
              "    <tr>\n",
              "      <th>13</th>\n",
              "      <td>2011</td>\n",
              "      <td>SIM</td>\n",
              "      <td>1066</td>\n",
              "    </tr>\n",
              "    <tr>\n",
              "      <th>14</th>\n",
              "      <td>2012</td>\n",
              "      <td>NÃO</td>\n",
              "      <td>175446</td>\n",
              "    </tr>\n",
              "    <tr>\n",
              "      <th>15</th>\n",
              "      <td>2012</td>\n",
              "      <td>SIM</td>\n",
              "      <td>1226</td>\n",
              "    </tr>\n",
              "    <tr>\n",
              "      <th>16</th>\n",
              "      <td>2013</td>\n",
              "      <td>NÃO</td>\n",
              "      <td>175846</td>\n",
              "    </tr>\n",
              "    <tr>\n",
              "      <th>17</th>\n",
              "      <td>2013</td>\n",
              "      <td>SIM</td>\n",
              "      <td>1391</td>\n",
              "    </tr>\n",
              "    <tr>\n",
              "      <th>18</th>\n",
              "      <td>2014</td>\n",
              "      <td>NÃO</td>\n",
              "      <td>221734</td>\n",
              "    </tr>\n",
              "    <tr>\n",
              "      <th>19</th>\n",
              "      <td>2014</td>\n",
              "      <td>SIM</td>\n",
              "      <td>1773</td>\n",
              "    </tr>\n",
              "    <tr>\n",
              "      <th>20</th>\n",
              "      <td>2015</td>\n",
              "      <td>NÃO</td>\n",
              "      <td>250504</td>\n",
              "    </tr>\n",
              "    <tr>\n",
              "      <th>21</th>\n",
              "      <td>2015</td>\n",
              "      <td>SIM</td>\n",
              "      <td>2083</td>\n",
              "    </tr>\n",
              "    <tr>\n",
              "      <th>22</th>\n",
              "      <td>2016</td>\n",
              "      <td>NÃO</td>\n",
              "      <td>237445</td>\n",
              "    </tr>\n",
              "    <tr>\n",
              "      <th>23</th>\n",
              "      <td>2016</td>\n",
              "      <td>SIM</td>\n",
              "      <td>1770</td>\n",
              "    </tr>\n",
              "    <tr>\n",
              "      <th>24</th>\n",
              "      <td>2017</td>\n",
              "      <td>NÃO</td>\n",
              "      <td>234826</td>\n",
              "    </tr>\n",
              "    <tr>\n",
              "      <th>25</th>\n",
              "      <td>2017</td>\n",
              "      <td>SIM</td>\n",
              "      <td>1763</td>\n",
              "    </tr>\n",
              "    <tr>\n",
              "      <th>26</th>\n",
              "      <td>2018</td>\n",
              "      <td>NÃO</td>\n",
              "      <td>239430</td>\n",
              "    </tr>\n",
              "    <tr>\n",
              "      <th>27</th>\n",
              "      <td>2018</td>\n",
              "      <td>SIM</td>\n",
              "      <td>1588</td>\n",
              "    </tr>\n",
              "  </tbody>\n",
              "</table>\n",
              "</div>"
            ],
            "text/plain": [
              "    ANO_CONCESSAO_BOLSA BENEFICIARIO_DEFICIENTE_FISICO  Total de Bolsas\n",
              "0                  2005                            NÃO            94396\n",
              "1                  2005                            SIM              954\n",
              "2                  2006                            NÃO           107491\n",
              "3                  2006                            SIM              989\n",
              "4                  2007                            NÃO           105000\n",
              "5                  2007                            SIM              530\n",
              "6                  2008                            NÃO           123917\n",
              "7                  2008                            SIM              617\n",
              "8                  2009                            NÃO           160248\n",
              "9                  2009                            SIM              862\n",
              "10                 2010                            NÃO           151735\n",
              "11                 2010                            SIM              925\n",
              "12                 2011                            NÃO           169625\n",
              "13                 2011                            SIM             1066\n",
              "14                 2012                            NÃO           175446\n",
              "15                 2012                            SIM             1226\n",
              "16                 2013                            NÃO           175846\n",
              "17                 2013                            SIM             1391\n",
              "18                 2014                            NÃO           221734\n",
              "19                 2014                            SIM             1773\n",
              "20                 2015                            NÃO           250504\n",
              "21                 2015                            SIM             2083\n",
              "22                 2016                            NÃO           237445\n",
              "23                 2016                            SIM             1770\n",
              "24                 2017                            NÃO           234826\n",
              "25                 2017                            SIM             1763\n",
              "26                 2018                            NÃO           239430\n",
              "27                 2018                            SIM             1588"
            ]
          },
          "metadata": {
            "tags": []
          },
          "execution_count": 132
        }
      ]
    },
    {
      "cell_type": "code",
      "metadata": {
        "colab": {
          "base_uri": "https://localhost:8080/",
          "height": 895
        },
        "id": "r-TA8GWIdBkU",
        "outputId": "d744aa39-152a-4743-ae60-0dae1f6d68ed"
      },
      "source": [
        "sns.lineplot(x=\"ANO_CONCESSAO_BOLSA\", y=\"Total de Bolsas\", marker='o', hue='BENEFICIARIO_DEFICIENTE_FISICO',  palette=\"rocket\", data=qtd_df_anos)"
      ],
      "execution_count": 133,
      "outputs": [
        {
          "output_type": "execute_result",
          "data": {
            "text/plain": [
              "<matplotlib.axes._subplots.AxesSubplot at 0x7f28681a9d90>"
            ]
          },
          "metadata": {
            "tags": []
          },
          "execution_count": 133
        },
        {
          "output_type": "display_data",
          "data": {
            "image/png": "[encoded data removed]",
            "text/plain": [
              "<Figure size 1440x1080 with 1 Axes>"
            ]
          },
          "metadata": {
            "tags": [],
            "needs_background": "light"
          }
        }
      ]
    },
    {
      "cell_type": "code",
      "metadata": {
        "colab": {
          "base_uri": "https://localhost:8080/",
          "height": 881
        },
        "id": "VOlxGFO6dBh2",
        "outputId": "a3d9d98e-cfce-4bb2-f3f6-f2af84080def"
      },
      "source": [
        "bolsistas_PDF = comp.query('BENEFICIARIO_DEFICIENTE_FISICO == \"SIM\"').reset_index()\n",
        "bolsistas_PDF.drop(columns='level_0', inplace=True)\n",
        "bolsistas_PDF"
      ],
      "execution_count": 134,
      "outputs": [
        {
          "output_type": "execute_result",
          "data": {
            "text/html": [
              "<div>\n",
              "<style scoped>\n",
              "    .dataframe tbody tr th:only-of-type {\n",
              "        vertical-align: middle;\n",
              "    }\n",
              "\n",
              "    .dataframe tbody tr th {\n",
              "        vertical-align: top;\n",
              "    }\n",
              "\n",
              "    .dataframe thead th {\n",
              "        text-align: right;\n",
              "    }\n",
              "</style>\n",
              "<table border=\"1\" class=\"dataframe\">\n",
              "  <thead>\n",
              "    <tr style=\"text-align: right;\">\n",
              "      <th></th>\n",
              "      <th>index</th>\n",
              "      <th>ANO_CONCESSAO_BOLSA</th>\n",
              "      <th>NOME_IES_BOLSA</th>\n",
              "      <th>TIPO_BOLSA</th>\n",
              "      <th>MODALIDADE_ENSINO_BOLSA</th>\n",
              "      <th>NOME_CURSO_BOLSA</th>\n",
              "      <th>NOME_TURNO_CURSO_BOLSA</th>\n",
              "      <th>CPF_BENEFICIARIO_BOLSA</th>\n",
              "      <th>SEXO_BENEFICIARIO_BOLSA</th>\n",
              "      <th>RACA_BENEFICIARIO_BOLSA</th>\n",
              "      <th>Idade</th>\n",
              "      <th>Faixa_Etaria</th>\n",
              "      <th>DT_NASCIMENTO_BENEFICIARIO</th>\n",
              "      <th>BENEFICIARIO_DEFICIENTE_FISICO</th>\n",
              "      <th>REGIAO_BENEFICIARIO_BOLSA</th>\n",
              "      <th>SIGLA_UF_BENEFICIARIO_BOLSA</th>\n",
              "      <th>MUNICIPIO_BENEFICIARIO_BOLSA</th>\n",
              "    </tr>\n",
              "  </thead>\n",
              "  <tbody>\n",
              "    <tr>\n",
              "      <th>0</th>\n",
              "      <td>63623</td>\n",
              "      <td>2005</td>\n",
              "      <td>PONTIFÍCIA UNIVERSIDADE CATÓLICA DE MINAS GERAIS</td>\n",
              "      <td>BOLSA PARCIAL 50%</td>\n",
              "      <td>Presencial</td>\n",
              "      <td>Administração</td>\n",
              "      <td>Noturno</td>\n",
              "      <td>***115616**</td>\n",
              "      <td>Feminino</td>\n",
              "      <td>Parda</td>\n",
              "      <td>18</td>\n",
              "      <td>16-20</td>\n",
              "      <td>1986-05-15</td>\n",
              "      <td>SIM</td>\n",
              "      <td>SUDESTE</td>\n",
              "      <td>MG</td>\n",
              "      <td>SANTA LUZIA</td>\n",
              "    </tr>\n",
              "    <tr>\n",
              "      <th>1</th>\n",
              "      <td>63366</td>\n",
              "      <td>2005</td>\n",
              "      <td>FACULDADE DOIS DE JULHO</td>\n",
              "      <td>BOLSA INTEGRAL</td>\n",
              "      <td>Presencial</td>\n",
              "      <td>Administração</td>\n",
              "      <td>Noturno</td>\n",
              "      <td>***563315**</td>\n",
              "      <td>Masculino</td>\n",
              "      <td>Não Informada</td>\n",
              "      <td>20</td>\n",
              "      <td>16-20</td>\n",
              "      <td>1984-12-01</td>\n",
              "      <td>SIM</td>\n",
              "      <td>NORDESTE</td>\n",
              "      <td>BA</td>\n",
              "      <td>SALVADOR</td>\n",
              "    </tr>\n",
              "    <tr>\n",
              "      <th>2</th>\n",
              "      <td>63907</td>\n",
              "      <td>2005</td>\n",
              "      <td>FACULDADE DE SÃO PAULO</td>\n",
              "      <td>BOLSA INTEGRAL</td>\n",
              "      <td>Presencial</td>\n",
              "      <td>Letras - Inglês</td>\n",
              "      <td>Noturno</td>\n",
              "      <td>***262718**</td>\n",
              "      <td>Feminino</td>\n",
              "      <td>Branca</td>\n",
              "      <td>17</td>\n",
              "      <td>16-20</td>\n",
              "      <td>1987-03-31</td>\n",
              "      <td>SIM</td>\n",
              "      <td>SUDESTE</td>\n",
              "      <td>SP</td>\n",
              "      <td>SÃO PAULO</td>\n",
              "    </tr>\n",
              "    <tr>\n",
              "      <th>3</th>\n",
              "      <td>64052</td>\n",
              "      <td>2005</td>\n",
              "      <td>INSTITUTO SUPERIOR DE CIÊNCIAS APLICADAS - ISCA</td>\n",
              "      <td>BOLSA PARCIAL 50%</td>\n",
              "      <td>Presencial</td>\n",
              "      <td>Pedagogia</td>\n",
              "      <td>Noturno</td>\n",
              "      <td>***367448**</td>\n",
              "      <td>Feminino</td>\n",
              "      <td>Preta</td>\n",
              "      <td>40</td>\n",
              "      <td>31-40</td>\n",
              "      <td>1964-06-04</td>\n",
              "      <td>SIM</td>\n",
              "      <td>SUDESTE</td>\n",
              "      <td>SP</td>\n",
              "      <td>LIMEIRA</td>\n",
              "    </tr>\n",
              "    <tr>\n",
              "      <th>4</th>\n",
              "      <td>64007</td>\n",
              "      <td>2005</td>\n",
              "      <td>INSTITUTO PERNAMBUCANO DE ENSINO SUPERIOR</td>\n",
              "      <td>BOLSA PARCIAL 50%</td>\n",
              "      <td>Presencial</td>\n",
              "      <td>Turismo</td>\n",
              "      <td>Noturno</td>\n",
              "      <td>***513024**</td>\n",
              "      <td>Feminino</td>\n",
              "      <td>Branca</td>\n",
              "      <td>16</td>\n",
              "      <td>16-20</td>\n",
              "      <td>1988-10-22</td>\n",
              "      <td>SIM</td>\n",
              "      <td>NORDESTE</td>\n",
              "      <td>PE</td>\n",
              "      <td>SÃO LOURENÇO DA MATA</td>\n",
              "    </tr>\n",
              "    <tr>\n",
              "      <th>...</th>\n",
              "      <td>...</td>\n",
              "      <td>...</td>\n",
              "      <td>...</td>\n",
              "      <td>...</td>\n",
              "      <td>...</td>\n",
              "      <td>...</td>\n",
              "      <td>...</td>\n",
              "      <td>...</td>\n",
              "      <td>...</td>\n",
              "      <td>...</td>\n",
              "      <td>...</td>\n",
              "      <td>...</td>\n",
              "      <td>...</td>\n",
              "      <td>...</td>\n",
              "      <td>...</td>\n",
              "      <td>...</td>\n",
              "      <td>...</td>\n",
              "    </tr>\n",
              "    <tr>\n",
              "      <th>17532</th>\n",
              "      <td>2304713</td>\n",
              "      <td>2018</td>\n",
              "      <td>CENTRO UNIVERSITÁRIO DA FUNDAÇÃO HERMINIO OMETTO</td>\n",
              "      <td>BOLSA PARCIAL 50%</td>\n",
              "      <td>Presencial</td>\n",
              "      <td>Sistema De Informação</td>\n",
              "      <td>Noturno</td>\n",
              "      <td>***62451808**</td>\n",
              "      <td>Masculino</td>\n",
              "      <td>Branca</td>\n",
              "      <td>18</td>\n",
              "      <td>16-20</td>\n",
              "      <td>1999-03-20</td>\n",
              "      <td>SIM</td>\n",
              "      <td>SUDESTE</td>\n",
              "      <td>SP</td>\n",
              "      <td>ARARAS</td>\n",
              "    </tr>\n",
              "    <tr>\n",
              "      <th>17533</th>\n",
              "      <td>2304988</td>\n",
              "      <td>2018</td>\n",
              "      <td>CENTRO UNIVERSITÁRIO IBMR</td>\n",
              "      <td>BOLSA INTEGRAL</td>\n",
              "      <td>Presencial</td>\n",
              "      <td>Relações Internacionais</td>\n",
              "      <td>Matutino</td>\n",
              "      <td>***16234655**</td>\n",
              "      <td>Feminino</td>\n",
              "      <td>Parda</td>\n",
              "      <td>17</td>\n",
              "      <td>16-20</td>\n",
              "      <td>2000-01-15</td>\n",
              "      <td>SIM</td>\n",
              "      <td>SUDESTE</td>\n",
              "      <td>MG</td>\n",
              "      <td>CAPELINHA</td>\n",
              "    </tr>\n",
              "    <tr>\n",
              "      <th>17534</th>\n",
              "      <td>2304344</td>\n",
              "      <td>2018</td>\n",
              "      <td>FACULDADE IBMEC</td>\n",
              "      <td>BOLSA PARCIAL 50%</td>\n",
              "      <td>Presencial</td>\n",
              "      <td>Arquitetura E Urbanismo</td>\n",
              "      <td>Integral</td>\n",
              "      <td>***96361676**</td>\n",
              "      <td>Feminino</td>\n",
              "      <td>Branca</td>\n",
              "      <td>17</td>\n",
              "      <td>16-20</td>\n",
              "      <td>2000-01-14</td>\n",
              "      <td>SIM</td>\n",
              "      <td>SUDESTE</td>\n",
              "      <td>MG</td>\n",
              "      <td>BELO HORIZONTE</td>\n",
              "    </tr>\n",
              "    <tr>\n",
              "      <th>17535</th>\n",
              "      <td>2304637</td>\n",
              "      <td>2018</td>\n",
              "      <td>CENTRO UNIVERSITÁRIO DA FUNDAÇÃO HERMINIO OMETTO</td>\n",
              "      <td>BOLSA PARCIAL 50%</td>\n",
              "      <td>Presencial</td>\n",
              "      <td>Sistemas De Informação</td>\n",
              "      <td>Noturno</td>\n",
              "      <td>***62451808**</td>\n",
              "      <td>Masculino</td>\n",
              "      <td>Branca</td>\n",
              "      <td>18</td>\n",
              "      <td>16-20</td>\n",
              "      <td>1999-03-20</td>\n",
              "      <td>SIM</td>\n",
              "      <td>SUDESTE</td>\n",
              "      <td>SP</td>\n",
              "      <td>ARARAS</td>\n",
              "    </tr>\n",
              "    <tr>\n",
              "      <th>17536</th>\n",
              "      <td>2304428</td>\n",
              "      <td>2018</td>\n",
              "      <td>UNIVERSIDADE CRUZEIRO DO SUL</td>\n",
              "      <td>BOLSA INTEGRAL</td>\n",
              "      <td>EAD</td>\n",
              "      <td>Ciências Sociais</td>\n",
              "      <td>Curso a distância</td>\n",
              "      <td>***75295273**</td>\n",
              "      <td>Feminino</td>\n",
              "      <td>Branca</td>\n",
              "      <td>18</td>\n",
              "      <td>16-20</td>\n",
              "      <td>1999-03-19</td>\n",
              "      <td>SIM</td>\n",
              "      <td>NORTE</td>\n",
              "      <td>RO</td>\n",
              "      <td>ARIQUEMES</td>\n",
              "    </tr>\n",
              "  </tbody>\n",
              "</table>\n",
              "<p>17537 rows × 17 columns</p>\n",
              "</div>"
            ],
            "text/plain": [
              "         index  ...  MUNICIPIO_BENEFICIARIO_BOLSA\n",
              "0        63623  ...                   SANTA LUZIA\n",
              "1        63366  ...                      SALVADOR\n",
              "2        63907  ...                     SÃO PAULO\n",
              "3        64052  ...                       LIMEIRA\n",
              "4        64007  ...          SÃO LOURENÇO DA MATA\n",
              "...        ...  ...                           ...\n",
              "17532  2304713  ...                        ARARAS\n",
              "17533  2304988  ...                     CAPELINHA\n",
              "17534  2304344  ...                BELO HORIZONTE\n",
              "17535  2304637  ...                        ARARAS\n",
              "17536  2304428  ...                     ARIQUEMES\n",
              "\n",
              "[17537 rows x 17 columns]"
            ]
          },
          "metadata": {
            "tags": []
          },
          "execution_count": 134
        }
      ]
    },
    {
      "cell_type": "code",
      "metadata": {
        "colab": {
          "base_uri": "https://localhost:8080/"
        },
        "id": "mpRxZ-9WdBfF",
        "outputId": "3235908e-8566-4ba7-dd36-1102c44444b6"
      },
      "source": [
        "bolsistas_PDF['NOME_CURSO_BOLSA'].value_counts().head(10)"
      ],
      "execution_count": 135,
      "outputs": [
        {
          "output_type": "execute_result",
          "data": {
            "text/plain": [
              "Administração                 2208\n",
              "Direito                       2064\n",
              "Pedagogia                     1276\n",
              "Ciências Contábeis             814\n",
              "Serviço Social                 571\n",
              "Gestão De Recursos Humanos     546\n",
              "Psicologia                     500\n",
              "Enfermagem                     420\n",
              "Educação Física                381\n",
              "Engenharia Civil               359\n",
              "Name: NOME_CURSO_BOLSA, dtype: int64"
            ]
          },
          "metadata": {
            "tags": []
          },
          "execution_count": 135
        }
      ]
    },
    {
      "cell_type": "code",
      "metadata": {
        "colab": {
          "base_uri": "https://localhost:8080/",
          "height": 875
        },
        "id": "RXCxCkhPdBcm",
        "outputId": "e5896b2a-0fe3-4567-8e8c-5d839959d337"
      },
      "source": [
        "pdf = bolsistas_PDF['NOME_CURSO_BOLSA'].value_counts().sort_values(ascending=False).head(10)\n",
        "pdf.plot.barh(color=\"#33AB9F\",grid=False)\n",
        "plt.xlabel(\"Total de pessoas\", fontsize=15)\n",
        "plt.ylabel(\"Cursos\", fontsize=15)\n",
        "plt.title(\"Cursos com maiores ingressos de Deficientes físicos\", fontsize=15)"
      ],
      "execution_count": 136,
      "outputs": [
        {
          "output_type": "execute_result",
          "data": {
            "text/plain": [
              "Text(0.5, 1.0, 'Cursos com maiores ingressos de Deficientes físicos')"
            ]
          },
          "metadata": {
            "tags": []
          },
          "execution_count": 136
        },
        {
          "output_type": "display_data",
          "data": {
            "image/png": "[encoded data removed]",
            "text/plain": [
              "<Figure size 1440x1080 with 1 Axes>"
            ]
          },
          "metadata": {
            "tags": [],
            "needs_background": "light"
          }
        }
      ]
    },
    {
      "cell_type": "code",
      "metadata": {
        "colab": {
          "base_uri": "https://localhost:8080/",
          "height": 404
        },
        "id": "a-N6uCRfdfmC",
        "outputId": "7342b069-1899-4bbd-f64f-6e0262fcb590"
      },
      "source": [
        "comp['Faixa_Etaria'].value_counts().plot(kind='bar', figsize=(12,6), grid = False, rot=0, color=\"#33AB9F\")\n",
        "plt.title('Distribuição de bolsas por Faixa Etária')\n",
        "plt.xlabel('Faixa Etária')\n",
        "plt.ylabel('Quantidade de pessoas')\n",
        "plt.show()"
      ],
      "execution_count": 137,
      "outputs": [
        {
          "output_type": "display_data",
          "data": {
            "image/png": "[encoded data removed]",
            "text/plain": [
              "<Figure size 864x432 with 1 Axes>"
            ]
          },
          "metadata": {
            "tags": [],
            "needs_background": "light"
          }
        }
      ]
    },
    {
      "cell_type": "code",
      "metadata": {
        "colab": {
          "base_uri": "https://localhost:8080/",
          "height": 1000
        },
        "id": "wh6Lff9Uen4w",
        "outputId": "5c5e826f-d1ac-4edd-df9f-3965bd59ac11"
      },
      "source": [
        "sns.histplot(data=comp, x=\"Idade\",stat=\"frequency\",binwidth=1, color=\"#33AB9F\")\n",
        "plt.xticks(range(16,77))"
      ],
      "execution_count": 138,
      "outputs": [
        {
          "output_type": "execute_result",
          "data": {
            "text/plain": [
              "([<matplotlib.axis.XTick at 0x7f2868194690>,\n",
              "  <matplotlib.axis.XTick at 0x7f2868194110>,\n",
              "  <matplotlib.axis.XTick at 0x7f2868379310>,\n",
              "  <matplotlib.axis.XTick at 0x7f2868315750>,\n",
              "  <matplotlib.axis.XTick at 0x7f2868304610>,\n",
              "  <matplotlib.axis.XTick at 0x7f2868304bd0>,\n",
              "  <matplotlib.axis.XTick at 0x7f286830df50>,\n",
              "  <matplotlib.axis.XTick at 0x7f286830d4d0>,\n",
              "  <matplotlib.axis.XTick at 0x7f286830da90>,\n",
              "  <matplotlib.axis.XTick at 0x7f2868189290>,\n",
              "  <matplotlib.axis.XTick at 0x7f2868382210>,\n",
              "  <matplotlib.axis.XTick at 0x7f286830a2d0>,\n",
              "  <matplotlib.axis.XTick at 0x7f286830a750>,\n",
              "  <matplotlib.axis.XTick at 0x7f286830ad10>,\n",
              "  <matplotlib.axis.XTick at 0x7f286836b750>,\n",
              "  <matplotlib.axis.XTick at 0x7f286836bcd0>,\n",
              "  <matplotlib.axis.XTick at 0x7f286830a9d0>,\n",
              "  <matplotlib.axis.XTick at 0x7f2868382450>,\n",
              "  <matplotlib.axis.XTick at 0x7f286830b050>,\n",
              "  <matplotlib.axis.XTick at 0x7f286836b7d0>,\n",
              "  <matplotlib.axis.XTick at 0x7f286834d650>,\n",
              "  <matplotlib.axis.XTick at 0x7f286834da50>,\n",
              "  <matplotlib.axis.XTick at 0x7f286834dc50>,\n",
              "  <matplotlib.axis.XTick at 0x7f286834f250>,\n",
              "  <matplotlib.axis.XTick at 0x7f286834f6d0>,\n",
              "  <matplotlib.axis.XTick at 0x7f286834fcd0>,\n",
              "  <matplotlib.axis.XTick at 0x7f286834f790>,\n",
              "  <matplotlib.axis.XTick at 0x7f286834d410>,\n",
              "  <matplotlib.axis.XTick at 0x7f286836b590>,\n",
              "  <matplotlib.axis.XTick at 0x7f28683823d0>,\n",
              "  <matplotlib.axis.XTick at 0x7f286834a3d0>,\n",
              "  <matplotlib.axis.XTick at 0x7f286834a950>,\n",
              "  <matplotlib.axis.XTick at 0x7f286834af10>,\n",
              "  <matplotlib.axis.XTick at 0x7f286834ba90>,\n",
              "  <matplotlib.axis.XTick at 0x7f286834b090>,\n",
              "  <matplotlib.axis.XTick at 0x7f286834b4d0>,\n",
              "  <matplotlib.axis.XTick at 0x7f28383ce650>,\n",
              "  <matplotlib.axis.XTick at 0x7f2838307890>,\n",
              "  <matplotlib.axis.XTick at 0x7f28382751d0>,\n",
              "  <matplotlib.axis.XTick at 0x7f28382b5090>,\n",
              "  <matplotlib.axis.XTick at 0x7f2838281f10>,\n",
              "  <matplotlib.axis.XTick at 0x7f284dd152d0>,\n",
              "  <matplotlib.axis.XTick at 0x7f28383651d0>,\n",
              "  <matplotlib.axis.XTick at 0x7f28383657d0>,\n",
              "  <matplotlib.axis.XTick at 0x7f28382a91d0>,\n",
              "  <matplotlib.axis.XTick at 0x7f2838382550>,\n",
              "  <matplotlib.axis.XTick at 0x7f28383e6390>,\n",
              "  <matplotlib.axis.XTick at 0x7f2838333b50>,\n",
              "  <matplotlib.axis.XTick at 0x7f28383f80d0>,\n",
              "  <matplotlib.axis.XTick at 0x7f28383f8850>,\n",
              "  <matplotlib.axis.XTick at 0x7f28383f8b50>,\n",
              "  <matplotlib.axis.XTick at 0x7f28383a98d0>,\n",
              "  <matplotlib.axis.XTick at 0x7f28383a9e10>,\n",
              "  <matplotlib.axis.XTick at 0x7f2838333590>,\n",
              "  <matplotlib.axis.XTick at 0x7f2838307710>,\n",
              "  <matplotlib.axis.XTick at 0x7f283836ac90>,\n",
              "  <matplotlib.axis.XTick at 0x7f283836ae50>,\n",
              "  <matplotlib.axis.XTick at 0x7f2867d79050>,\n",
              "  <matplotlib.axis.XTick at 0x7f2838379f10>,\n",
              "  <matplotlib.axis.XTick at 0x7f28438d2410>,\n",
              "  <matplotlib.axis.XTick at 0x7f28383e9bd0>],\n",
              " <a list of 61 Text major ticklabel objects>)"
            ]
          },
          "metadata": {
            "tags": []
          },
          "execution_count": 138
        },
        {
          "output_type": "display_data",
          "data": {
            "image/png": "[encoded data removed]",
            "text/plain": [
              "<Figure size 1440x1080 with 1 Axes>"
            ]
          },
          "metadata": {
            "tags": [],
            "needs_background": "light"
          }
        }
      ]
    },
    {
      "cell_type": "markdown",
      "metadata": {
        "id": "9BrTeOcaHg7O"
      },
      "source": [
        "#3. Referências\n",
        "\n",
        "**Prouni 2018**  \n",
        "  Cursos e notas de corte do PROUNI 2018 - [Brasil.io](https://brasil.io/dataset/cursos-prouni/cursos/)\n",
        "\n",
        "**Prouni 2005 à 2018**  \n",
        "  Bolsas concedidas e perfil dos beneficiários do Prouni - [Dados Abertos - MEC](http://dadosabertos.mec.gov.br/prouni)"
      ]
    }
  ]
}